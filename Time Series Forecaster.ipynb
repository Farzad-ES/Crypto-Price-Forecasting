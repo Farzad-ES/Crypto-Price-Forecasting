{
 "cells": [
  {
   "cell_type": "code",
   "execution_count": 1,
   "id": "68d39f4a",
   "metadata": {},
   "outputs": [],
   "source": [
    "import numpy as np\n",
    "import pandas as pd\n",
    "import matplotlib.pyplot as plt\n",
    "import sklearn\n",
    "import tensorflow as tf\n",
    "from sklearn import preprocessing\n",
    "from sklearn import model_selection\n",
    "from scikeras.wrappers import KerasRegressor\n",
    "from Data_mining import data_mining"
   ]
  },
  {
   "cell_type": "code",
   "execution_count": 2,
   "id": "efb3a6e5",
   "metadata": {},
   "outputs": [],
   "source": [
    "#Data mining process\n",
    "#df=data_mining(\"ETH-USDT\", \"5m\", \"2021/01/01\", \"2023/08/08\")\n",
    "#df.to_csv(\"ETH-USDT_5m.csv\")\n",
    "#df"
   ]
  },
  {
   "cell_type": "code",
   "execution_count": 3,
   "id": "295f5dd0",
   "metadata": {},
   "outputs": [
    {
     "data": {
      "text/html": [
       "<div>\n",
       "<style scoped>\n",
       "    .dataframe tbody tr th:only-of-type {\n",
       "        vertical-align: middle;\n",
       "    }\n",
       "\n",
       "    .dataframe tbody tr th {\n",
       "        vertical-align: top;\n",
       "    }\n",
       "\n",
       "    .dataframe thead th {\n",
       "        text-align: right;\n",
       "    }\n",
       "</style>\n",
       "<table border=\"1\" class=\"dataframe\">\n",
       "  <thead>\n",
       "    <tr style=\"text-align: right;\">\n",
       "      <th></th>\n",
       "      <th>open</th>\n",
       "      <th>close</th>\n",
       "      <th>high</th>\n",
       "      <th>low</th>\n",
       "      <th>volume</th>\n",
       "    </tr>\n",
       "    <tr>\n",
       "      <th>time</th>\n",
       "      <th></th>\n",
       "      <th></th>\n",
       "      <th></th>\n",
       "      <th></th>\n",
       "      <th></th>\n",
       "    </tr>\n",
       "  </thead>\n",
       "  <tbody>\n",
       "    <tr>\n",
       "      <th>2021-01-01 00:00:00</th>\n",
       "      <td>738.52</td>\n",
       "      <td>739.09</td>\n",
       "      <td>739.09</td>\n",
       "      <td>737.71</td>\n",
       "      <td>9102.55</td>\n",
       "    </tr>\n",
       "    <tr>\n",
       "      <th>2021-01-01 00:05:00</th>\n",
       "      <td>739.09</td>\n",
       "      <td>739.65</td>\n",
       "      <td>740.49</td>\n",
       "      <td>738.83</td>\n",
       "      <td>9580.63</td>\n",
       "    </tr>\n",
       "    <tr>\n",
       "      <th>2021-01-01 00:10:00</th>\n",
       "      <td>739.65</td>\n",
       "      <td>739.18</td>\n",
       "      <td>740.11</td>\n",
       "      <td>738.98</td>\n",
       "      <td>8915.66</td>\n",
       "    </tr>\n",
       "    <tr>\n",
       "      <th>2021-01-01 00:15:00</th>\n",
       "      <td>739.18</td>\n",
       "      <td>739.07</td>\n",
       "      <td>739.87</td>\n",
       "      <td>738.75</td>\n",
       "      <td>8787.57</td>\n",
       "    </tr>\n",
       "    <tr>\n",
       "      <th>2021-01-01 00:20:00</th>\n",
       "      <td>739.10</td>\n",
       "      <td>741.32</td>\n",
       "      <td>741.51</td>\n",
       "      <td>738.94</td>\n",
       "      <td>9586.71</td>\n",
       "    </tr>\n",
       "    <tr>\n",
       "      <th>...</th>\n",
       "      <td>...</td>\n",
       "      <td>...</td>\n",
       "      <td>...</td>\n",
       "      <td>...</td>\n",
       "      <td>...</td>\n",
       "    </tr>\n",
       "    <tr>\n",
       "      <th>2023-08-03 23:35:00</th>\n",
       "      <td>1848.18</td>\n",
       "      <td>1847.14</td>\n",
       "      <td>1848.18</td>\n",
       "      <td>1846.79</td>\n",
       "      <td>996.34</td>\n",
       "    </tr>\n",
       "    <tr>\n",
       "      <th>2023-08-03 23:40:00</th>\n",
       "      <td>1847.14</td>\n",
       "      <td>1848.78</td>\n",
       "      <td>1849.06</td>\n",
       "      <td>1846.67</td>\n",
       "      <td>1199.76</td>\n",
       "    </tr>\n",
       "    <tr>\n",
       "      <th>2023-08-03 23:45:00</th>\n",
       "      <td>1848.78</td>\n",
       "      <td>1849.41</td>\n",
       "      <td>1849.41</td>\n",
       "      <td>1848.26</td>\n",
       "      <td>937.50</td>\n",
       "    </tr>\n",
       "    <tr>\n",
       "      <th>2023-08-03 23:50:00</th>\n",
       "      <td>1849.41</td>\n",
       "      <td>1850.82</td>\n",
       "      <td>1850.82</td>\n",
       "      <td>1849.40</td>\n",
       "      <td>1511.37</td>\n",
       "    </tr>\n",
       "    <tr>\n",
       "      <th>2023-08-03 23:55:00</th>\n",
       "      <td>1850.82</td>\n",
       "      <td>1851.85</td>\n",
       "      <td>1852.29</td>\n",
       "      <td>1850.82</td>\n",
       "      <td>1433.41</td>\n",
       "    </tr>\n",
       "  </tbody>\n",
       "</table>\n",
       "<p>272443 rows × 5 columns</p>\n",
       "</div>"
      ],
      "text/plain": [
       "                        open    close     high      low   volume\n",
       "time                                                            \n",
       "2021-01-01 00:00:00   738.52   739.09   739.09   737.71  9102.55\n",
       "2021-01-01 00:05:00   739.09   739.65   740.49   738.83  9580.63\n",
       "2021-01-01 00:10:00   739.65   739.18   740.11   738.98  8915.66\n",
       "2021-01-01 00:15:00   739.18   739.07   739.87   738.75  8787.57\n",
       "2021-01-01 00:20:00   739.10   741.32   741.51   738.94  9586.71\n",
       "...                      ...      ...      ...      ...      ...\n",
       "2023-08-03 23:35:00  1848.18  1847.14  1848.18  1846.79   996.34\n",
       "2023-08-03 23:40:00  1847.14  1848.78  1849.06  1846.67  1199.76\n",
       "2023-08-03 23:45:00  1848.78  1849.41  1849.41  1848.26   937.50\n",
       "2023-08-03 23:50:00  1849.41  1850.82  1850.82  1849.40  1511.37\n",
       "2023-08-03 23:55:00  1850.82  1851.85  1852.29  1850.82  1433.41\n",
       "\n",
       "[272443 rows x 5 columns]"
      ]
     },
     "execution_count": 3,
     "metadata": {},
     "output_type": "execute_result"
    }
   ],
   "source": [
    "df=pd.read_csv('./ETH-USDT_5m.csv')\n",
    "df=df.set_index(['time'])\n",
    "df"
   ]
  },
  {
   "cell_type": "code",
   "execution_count": 4,
   "id": "c9987a2d",
   "metadata": {},
   "outputs": [
    {
     "data": {
      "text/plain": [
       "DatetimeIndex([], dtype='datetime64[ns]', freq=None)"
      ]
     },
     "execution_count": 4,
     "metadata": {},
     "output_type": "execute_result"
    }
   ],
   "source": [
    "pd.date_range(start='2021-01-01 00:00:00', end='2023-08-03 23:55:00').difference(df.index)"
   ]
  },
  {
   "cell_type": "code",
   "execution_count": 5,
   "id": "4a67d572",
   "metadata": {},
   "outputs": [
    {
     "data": {
      "image/png": "[encoded data removed]",
      "text/plain": [
       "<Figure size 1000x1000 with 1 Axes>"
      ]
     },
     "metadata": {},
     "output_type": "display_data"
    }
   ],
   "source": [
    "plt.figure(figsize=(10,10))\n",
    "plt.title(\"Closing Price vs Date\")\n",
    "plt.plot(df['close'][0:10000])\n",
    "plt.show()"
   ]
  },
  {
   "cell_type": "code",
   "execution_count": 6,
   "id": "3910edda-337a-4f16-a0e5-b74efc422738",
   "metadata": {},
   "outputs": [
    {
     "data": {
      "text/plain": [
       "(272443, 5)"
      ]
     },
     "execution_count": 6,
     "metadata": {},
     "output_type": "execute_result"
    }
   ],
   "source": [
    "dataset=df.iloc[:, 0:df.shape[1]].values\n",
    "dataset.shape"
   ]
  },
  {
   "cell_type": "code",
   "execution_count": 7,
   "id": "032df548",
   "metadata": {},
   "outputs": [],
   "source": [
    "scaler=preprocessing.MinMaxScaler(feature_range=(0, 1))\n",
    "dataset_scaled=scaler.fit_transform(dataset)"
   ]
  },
  {
   "cell_type": "code",
   "execution_count": 8,
   "id": "7d09f009",
   "metadata": {},
   "outputs": [
    {
     "data": {
      "text/plain": [
       "(272443, 5)"
      ]
     },
     "execution_count": 8,
     "metadata": {},
     "output_type": "execute_result"
    }
   ],
   "source": [
    "dataset_scaled.shape"
   ]
  },
  {
   "cell_type": "code",
   "execution_count": 9,
   "id": "503f453c",
   "metadata": {},
   "outputs": [
    {
     "data": {
      "text/plain": [
       "array([[0.00551431, 0.00574165, 0.0046863 , 0.00553717, 0.01496905],\n",
       "       [0.00565175, 0.00587669, 0.00502396, 0.0058081 , 0.01575525],\n",
       "       [0.00578677, 0.00576336, 0.00493231, 0.00584439, 0.01466171],\n",
       "       ...,\n",
       "       [0.2732152 , 0.27348929, 0.27248301, 0.27418309, 0.00154171],\n",
       "       [0.27336711, 0.2738293 , 0.27282309, 0.27445886, 0.00248543],\n",
       "       [0.27370708, 0.27407768, 0.27317764, 0.27480236, 0.00235723]])"
      ]
     },
     "execution_count": 9,
     "metadata": {},
     "output_type": "execute_result"
    }
   ],
   "source": [
    "dataset_scaled"
   ]
  },
  {
   "cell_type": "code",
   "execution_count": 10,
   "id": "17589a7c",
   "metadata": {},
   "outputs": [
    {
     "data": {
      "text/plain": [
       "(266994, 5)"
      ]
     },
     "execution_count": 10,
     "metadata": {},
     "output_type": "execute_result"
    }
   ],
   "source": [
    "training_set, test_and_validation_set=model_selection.train_test_split(dataset_scaled, test_size=0.02, shuffle=False)\n",
    "training_set.shape"
   ]
  },
  {
   "cell_type": "code",
   "execution_count": 11,
   "id": "674c2f9d",
   "metadata": {},
   "outputs": [
    {
     "data": {
      "text/plain": [
       "(5449, 5)"
      ]
     },
     "execution_count": 11,
     "metadata": {},
     "output_type": "execute_result"
    }
   ],
   "source": [
    "test_and_validation_set.shape"
   ]
  },
  {
   "cell_type": "code",
   "execution_count": 12,
   "id": "dfc99c20",
   "metadata": {},
   "outputs": [
    {
     "name": "stdout",
     "output_type": "stream",
     "text": [
      "(2724, 5)\n",
      "(2725, 5)\n"
     ]
    }
   ],
   "source": [
    "validation_set, test_set=model_selection.train_test_split(test_and_validation_set, test_size=0.5, shuffle=False)\n",
    "print(validation_set.shape)\n",
    "print(test_set.shape)"
   ]
  },
  {
   "cell_type": "code",
   "execution_count": 13,
   "id": "5045fb10",
   "metadata": {},
   "outputs": [],
   "source": [
    "X_train=[]\n",
    "y_train=[]\n",
    "for i in range(12, len(training_set)):\n",
    "    X_train.append(training_set[i-12:i, :])\n",
    "    y_train.append(training_set[i, 1])\n",
    "X_train, y_train=np.array(X_train), np.array(y_train)"
   ]
  },
  {
   "cell_type": "code",
   "execution_count": 14,
   "id": "2e6e014d",
   "metadata": {},
   "outputs": [
    {
     "data": {
      "text/plain": [
       "(266982, 12, 5)"
      ]
     },
     "execution_count": 14,
     "metadata": {},
     "output_type": "execute_result"
    }
   ],
   "source": [
    "X_train=np.reshape(X_train, newshape=(X_train.shape[0], X_train.shape[1], df.shape[1]))\n",
    "X_train.shape"
   ]
  },
  {
   "cell_type": "code",
   "execution_count": 15,
   "id": "2bcc2bfe",
   "metadata": {},
   "outputs": [
    {
     "data": {
      "text/plain": [
       "(266982,)"
      ]
     },
     "execution_count": 15,
     "metadata": {},
     "output_type": "execute_result"
    }
   ],
   "source": [
    "y_train.shape"
   ]
  },
  {
   "cell_type": "code",
   "execution_count": 16,
   "id": "457b5501",
   "metadata": {},
   "outputs": [
    {
     "data": {
      "text/plain": [
       "(2712, 12, 5)"
      ]
     },
     "execution_count": 16,
     "metadata": {},
     "output_type": "execute_result"
    }
   ],
   "source": [
    "X_validation=[]\n",
    "y_validation=[]\n",
    "for i in range(12, len(validation_set)):\n",
    "    X_validation.append(validation_set[i-12:i, :])\n",
    "    y_validation.append(validation_set[i, 1])\n",
    "X_validation, y_validation=np.array(X_validation), np.array(y_validation)\n",
    "X_validation=np.reshape(X_validation, newshape=(X_validation.shape[0], X_validation.shape[1], df.shape[1]))\n",
    "X_validation.shape"
   ]
  },
  {
   "cell_type": "code",
   "execution_count": 17,
   "id": "6199af92",
   "metadata": {},
   "outputs": [
    {
     "data": {
      "text/plain": [
       "(2712,)"
      ]
     },
     "execution_count": 17,
     "metadata": {},
     "output_type": "execute_result"
    }
   ],
   "source": [
    "y_validation.shape"
   ]
  },
  {
   "cell_type": "code",
   "execution_count": 18,
   "id": "2daff84e",
   "metadata": {},
   "outputs": [],
   "source": [
    "#lstm_model=tf.keras.Sequential()\n",
    "#lstm_model.add(tf.keras.layers.LSTM(units=50, return_sequences=True, input_shape=(X_train.shape[1], X_train.shape[2])))\n",
    "#lstm_model.add(tf.keras.layers.Dropout(rate=0.1))\n",
    "#lstm_model.add(tf.keras.layers.LSTM(units=50, return_sequences=True))\n",
    "#lstm_model.add(tf.keras.layers.Dropout(rate=0.1))\n",
    "#lstm_model.add(tf.keras.layers.LSTM(units=50, return_sequences=True))\n",
    "#lstm_model.add(tf.keras.layers.Dropout(rate=0.1))\n",
    "#lstm_model.add(tf.keras.layers.LSTM(units=50, return_sequences=True))\n",
    "#lstm_model.add(tf.keras.layers.Dropout(rate=0.1))\n",
    "#lstm_model.add(tf.keras.layers.LSTM(units=50, return_sequences=True))\n",
    "#lstm_model.add(tf.keras.layers.Dropout(rate=0.1))\n",
    "#lstm_model.add(tf.keras.layers.LSTM(units=50, return_sequences=False))\n",
    "#lstm_model.add(tf.keras.layers.Dropout(rate=0.1))\n",
    "#lstm_model.add(tf.keras.layers.Dense(units=1))"
   ]
  },
  {
   "cell_type": "code",
   "execution_count": 19,
   "id": "31eb4d47",
   "metadata": {},
   "outputs": [],
   "source": [
    "#lstm_model.compile(optimizer=\"RMSprop\", loss=\"mean_squared_error\")"
   ]
  },
  {
   "cell_type": "code",
   "execution_count": 20,
   "id": "98733874",
   "metadata": {},
   "outputs": [],
   "source": [
    "#lstm_model.summary()"
   ]
  },
  {
   "cell_type": "code",
   "execution_count": 21,
   "id": "4baa8a79",
   "metadata": {},
   "outputs": [],
   "source": [
    "#lstm_history=lstm_model.fit(X_train, y_train, batch_size=32, epochs=100)"
   ]
  },
  {
   "cell_type": "code",
   "execution_count": 22,
   "id": "39fe576b",
   "metadata": {},
   "outputs": [],
   "source": [
    "#training_loss_values=np.array(lstm_history.history['loss'])"
   ]
  },
  {
   "cell_type": "code",
   "execution_count": 23,
   "id": "da0fd714",
   "metadata": {},
   "outputs": [],
   "source": [
    "#lstm_model.save('./LSTM Model/LSTM_model.h5')\n",
    "#lstm_model.save_weights('./LSTM Model/LSTM_model_weights')\n",
    "#np.savetxt('./LSTM Model/TrainingLossValues.txt', training_loss_values)"
   ]
  },
  {
   "cell_type": "code",
   "execution_count": 24,
   "id": "ea2bceb0",
   "metadata": {},
   "outputs": [],
   "source": [
    "training_loss_values=np.loadtxt('./LSTM Model/TrainingLossValues.txt')"
   ]
  },
  {
   "cell_type": "code",
   "execution_count": 25,
   "id": "057db1e1",
   "metadata": {},
   "outputs": [
    {
     "data": {
      "image/png": "[encoded data removed]",
      "text/plain": [
       "<Figure size 800x800 with 1 Axes>"
      ]
     },
     "metadata": {},
     "output_type": "display_data"
    }
   ],
   "source": [
    "plt.figure(figsize=(8,8))\n",
    "plt.plot(range(1,training_loss_values.shape[0]+1), training_loss_values)\n",
    "plt.xlabel(\"Epochs\")\n",
    "plt.ylabel(\"Loss\")\n",
    "plt.show()"
   ]
  },
  {
   "cell_type": "code",
   "execution_count": 26,
   "id": "88381b66",
   "metadata": {},
   "outputs": [],
   "source": [
    "def create_lstm_model(neurons, dropout_rate):\n",
    "    model=tf.keras.Sequential()\n",
    "    model.add(tf.keras.layers.LSTM(units=neurons, return_sequences=True, input_shape=(X_validation.shape[1], X_validation.shape[2])))\n",
    "    model.add(tf.keras.layers.Dropout(rate=dropout_rate))\n",
    "    model.add(tf.keras.layers.LSTM(units=neurons, return_sequences=True))\n",
    "    model.add(tf.keras.layers.Dropout(rate=dropout_rate))\n",
    "    model.add(tf.keras.layers.LSTM(units=neurons, return_sequences=True))\n",
    "    model.add(tf.keras.layers.Dropout(rate=dropout_rate))\n",
    "    model.add(tf.keras.layers.LSTM(units=neurons, return_sequences=True))\n",
    "    model.add(tf.keras.layers.Dropout(rate=dropout_rate))\n",
    "    model.add(tf.keras.layers.LSTM(units=neurons, return_sequences=True))\n",
    "    model.add(tf.keras.layers.Dropout(rate=dropout_rate))\n",
    "    model.add(tf.keras.layers.LSTM(units=neurons, return_sequences=False))\n",
    "    model.add(tf.keras.layers.Dropout(rate=dropout_rate))\n",
    "    model.add(tf.keras.layers.Dense(units=1))\n",
    "    \n",
    "    return model"
   ]
  },
  {
   "cell_type": "code",
   "execution_count": 27,
   "id": "43fd4c36",
   "metadata": {},
   "outputs": [],
   "source": [
    "neurons=[40,50,60,70]\n",
    "dropout_rate=[0.2, 0.3, 0.4]\n",
    "epochs=[75,100]\n",
    "batch_size=[20,30,40]"
   ]
  },
  {
   "cell_type": "code",
   "execution_count": 28,
   "id": "2ca3f44c",
   "metadata": {},
   "outputs": [],
   "source": [
    "param_grid=dict(model__neurons=neurons, model__dropout_rate=dropout_rate, epochs=epochs, batch_size=batch_size)"
   ]
  },
  {
   "cell_type": "code",
   "execution_count": 29,
   "id": "e454b302",
   "metadata": {},
   "outputs": [],
   "source": [
    "tuning_model=KerasRegressor(model=create_lstm_model, loss='mean_squared_error', optimizer='adam', verbose=0)"
   ]
  },
  {
   "cell_type": "code",
   "execution_count": 30,
   "id": "0406b500",
   "metadata": {},
   "outputs": [],
   "source": [
    "grid=model_selection.GridSearchCV(estimator=tuning_model, param_grid=param_grid, n_jobs=None, cv=3, verbose=5)"
   ]
  },
  {
   "cell_type": "code",
   "execution_count": 31,
   "id": "8aa9a2c9",
   "metadata": {},
   "outputs": [
    {
     "name": "stdout",
     "output_type": "stream",
     "text": [
      "Fitting 3 folds for each of 72 candidates, totalling 216 fits\n",
      "[CV 1/3] END batch_size=20, epochs=75, model__dropout_rate=0.2, model__neurons=40;, score=0.642 total time= 2.0min\n",
      "[CV 2/3] END batch_size=20, epochs=75, model__dropout_rate=0.2, model__neurons=40;, score=0.260 total time= 2.0min\n",
      "[CV 3/3] END batch_size=20, epochs=75, model__dropout_rate=0.2, model__neurons=40;, score=0.226 total time= 2.0min\n",
      "[CV 1/3] END batch_size=20, epochs=75, model__dropout_rate=0.2, model__neurons=50;, score=0.878 total time= 2.3min\n",
      "[CV 2/3] END batch_size=20, epochs=75, model__dropout_rate=0.2, model__neurons=50;, score=0.738 total time= 2.2min\n",
      "[CV 3/3] END batch_size=20, epochs=75, model__dropout_rate=0.2, model__neurons=50;, score=-1.743 total time= 2.3min\n",
      "[CV 1/3] END batch_size=20, epochs=75, model__dropout_rate=0.2, model__neurons=60;, score=0.786 total time= 2.1min\n",
      "[CV 2/3] END batch_size=20, epochs=75, model__dropout_rate=0.2, model__neurons=60;, score=0.807 total time= 2.1min\n",
      "[CV 3/3] END batch_size=20, epochs=75, model__dropout_rate=0.2, model__neurons=60;, score=-1.300 total time= 2.0min\n",
      "[CV 1/3] END batch_size=20, epochs=75, model__dropout_rate=0.2, model__neurons=70;, score=0.724 total time= 2.3min\n",
      "[CV 2/3] END batch_size=20, epochs=75, model__dropout_rate=0.2, model__neurons=70;, score=0.797 total time= 2.3min\n",
      "[CV 3/3] END batch_size=20, epochs=75, model__dropout_rate=0.2, model__neurons=70;, score=0.770 total time= 2.3min\n",
      "[CV 1/3] END batch_size=20, epochs=75, model__dropout_rate=0.3, model__neurons=40;, score=0.879 total time= 2.1min\n",
      "[CV 2/3] END batch_size=20, epochs=75, model__dropout_rate=0.3, model__neurons=40;, score=-0.563 total time= 2.0min\n",
      "[CV 3/3] END batch_size=20, epochs=75, model__dropout_rate=0.3, model__neurons=40;, score=-1.029 total time= 2.0min\n",
      "[CV 1/3] END batch_size=20, epochs=75, model__dropout_rate=0.3, model__neurons=50;, score=0.748 total time= 2.3min\n",
      "[CV 2/3] END batch_size=20, epochs=75, model__dropout_rate=0.3, model__neurons=50;, score=0.643 total time= 2.3min\n",
      "[CV 3/3] END batch_size=20, epochs=75, model__dropout_rate=0.3, model__neurons=50;, score=-2.388 total time= 2.3min\n",
      "[CV 1/3] END batch_size=20, epochs=75, model__dropout_rate=0.3, model__neurons=60;, score=0.418 total time= 2.1min\n",
      "[CV 2/3] END batch_size=20, epochs=75, model__dropout_rate=0.3, model__neurons=60;, score=0.796 total time= 2.1min\n",
      "[CV 3/3] END batch_size=20, epochs=75, model__dropout_rate=0.3, model__neurons=60;, score=-3.482 total time= 2.1min\n",
      "[CV 1/3] END batch_size=20, epochs=75, model__dropout_rate=0.3, model__neurons=70;, score=0.741 total time= 2.3min\n",
      "[CV 2/3] END batch_size=20, epochs=75, model__dropout_rate=0.3, model__neurons=70;, score=0.811 total time= 2.3min\n",
      "[CV 3/3] END batch_size=20, epochs=75, model__dropout_rate=0.3, model__neurons=70;, score=0.543 total time= 2.3min\n",
      "[CV 1/3] END batch_size=20, epochs=75, model__dropout_rate=0.4, model__neurons=40;, score=0.685 total time= 2.0min\n",
      "[CV 2/3] END batch_size=20, epochs=75, model__dropout_rate=0.4, model__neurons=40;, score=0.769 total time= 2.1min\n",
      "[CV 3/3] END batch_size=20, epochs=75, model__dropout_rate=0.4, model__neurons=40;, score=-1.354 total time= 2.1min\n",
      "[CV 1/3] END batch_size=20, epochs=75, model__dropout_rate=0.4, model__neurons=50;, score=0.377 total time= 2.3min\n",
      "[CV 2/3] END batch_size=20, epochs=75, model__dropout_rate=0.4, model__neurons=50;, score=0.013 total time= 2.3min\n",
      "[CV 3/3] END batch_size=20, epochs=75, model__dropout_rate=0.4, model__neurons=50;, score=-1.565 total time= 2.3min\n",
      "[CV 1/3] END batch_size=20, epochs=75, model__dropout_rate=0.4, model__neurons=60;, score=0.878 total time= 2.1min\n",
      "[CV 2/3] END batch_size=20, epochs=75, model__dropout_rate=0.4, model__neurons=60;, score=0.801 total time= 2.1min\n",
      "[CV 3/3] END batch_size=20, epochs=75, model__dropout_rate=0.4, model__neurons=60;, score=-0.511 total time= 2.1min\n",
      "[CV 1/3] END batch_size=20, epochs=75, model__dropout_rate=0.4, model__neurons=70;, score=0.836 total time= 2.3min\n",
      "[CV 2/3] END batch_size=20, epochs=75, model__dropout_rate=0.4, model__neurons=70;, score=0.745 total time= 2.3min\n",
      "[CV 3/3] END batch_size=20, epochs=75, model__dropout_rate=0.4, model__neurons=70;, score=-1.424 total time= 2.3min\n",
      "[CV 1/3] END batch_size=20, epochs=100, model__dropout_rate=0.2, model__neurons=40;, score=0.745 total time= 2.6min\n",
      "[CV 2/3] END batch_size=20, epochs=100, model__dropout_rate=0.2, model__neurons=40;, score=-0.258 total time= 2.7min\n",
      "[CV 3/3] END batch_size=20, epochs=100, model__dropout_rate=0.2, model__neurons=40;, score=0.761 total time= 2.6min\n",
      "[CV 1/3] END batch_size=20, epochs=100, model__dropout_rate=0.2, model__neurons=50;, score=0.824 total time= 3.0min\n",
      "[CV 2/3] END batch_size=20, epochs=100, model__dropout_rate=0.2, model__neurons=50;, score=0.721 total time= 3.0min\n",
      "[CV 3/3] END batch_size=20, epochs=100, model__dropout_rate=0.2, model__neurons=50;, score=0.895 total time= 3.0min\n",
      "[CV 1/3] END batch_size=20, epochs=100, model__dropout_rate=0.2, model__neurons=60;, score=0.880 total time= 2.7min\n",
      "[CV 2/3] END batch_size=20, epochs=100, model__dropout_rate=0.2, model__neurons=60;, score=0.822 total time= 2.7min\n",
      "[CV 3/3] END batch_size=20, epochs=100, model__dropout_rate=0.2, model__neurons=60;, score=0.637 total time= 2.7min\n",
      "[CV 1/3] END batch_size=20, epochs=100, model__dropout_rate=0.2, model__neurons=70;, score=0.684 total time= 3.1min\n",
      "[CV 2/3] END batch_size=20, epochs=100, model__dropout_rate=0.2, model__neurons=70;, score=0.668 total time= 3.0min\n",
      "[CV 3/3] END batch_size=20, epochs=100, model__dropout_rate=0.2, model__neurons=70;, score=0.841 total time= 3.0min\n",
      "[CV 1/3] END batch_size=20, epochs=100, model__dropout_rate=0.3, model__neurons=40;, score=0.888 total time= 2.7min\n",
      "[CV 2/3] END batch_size=20, epochs=100, model__dropout_rate=0.3, model__neurons=40;, score=0.278 total time= 2.7min\n",
      "[CV 3/3] END batch_size=20, epochs=100, model__dropout_rate=0.3, model__neurons=40;, score=0.097 total time= 2.7min\n",
      "[CV 1/3] END batch_size=20, epochs=100, model__dropout_rate=0.3, model__neurons=50;, score=0.854 total time= 3.0min\n",
      "[CV 2/3] END batch_size=20, epochs=100, model__dropout_rate=0.3, model__neurons=50;, score=0.789 total time= 3.0min\n",
      "[CV 3/3] END batch_size=20, epochs=100, model__dropout_rate=0.3, model__neurons=50;, score=0.268 total time= 3.0min\n",
      "[CV 1/3] END batch_size=20, epochs=100, model__dropout_rate=0.3, model__neurons=60;, score=0.819 total time= 2.7min\n",
      "[CV 2/3] END batch_size=20, epochs=100, model__dropout_rate=0.3, model__neurons=60;, score=0.703 total time= 2.7min\n",
      "[CV 3/3] END batch_size=20, epochs=100, model__dropout_rate=0.3, model__neurons=60;, score=0.701 total time= 2.7min\n",
      "[CV 1/3] END batch_size=20, epochs=100, model__dropout_rate=0.3, model__neurons=70;, score=0.707 total time= 3.0min\n",
      "[CV 2/3] END batch_size=20, epochs=100, model__dropout_rate=0.3, model__neurons=70;, score=0.824 total time= 3.0min\n",
      "[CV 3/3] END batch_size=20, epochs=100, model__dropout_rate=0.3, model__neurons=70;, score=0.758 total time= 3.0min\n",
      "[CV 1/3] END batch_size=20, epochs=100, model__dropout_rate=0.4, model__neurons=40;, score=0.820 total time= 2.7min\n",
      "[CV 2/3] END batch_size=20, epochs=100, model__dropout_rate=0.4, model__neurons=40;, score=0.295 total time= 2.6min\n",
      "[CV 3/3] END batch_size=20, epochs=100, model__dropout_rate=0.4, model__neurons=40;, score=0.808 total time= 2.6min\n",
      "[CV 1/3] END batch_size=20, epochs=100, model__dropout_rate=0.4, model__neurons=50;, score=0.885 total time= 3.0min\n",
      "[CV 2/3] END batch_size=20, epochs=100, model__dropout_rate=0.4, model__neurons=50;, score=0.815 total time= 3.0min\n",
      "[CV 3/3] END batch_size=20, epochs=100, model__dropout_rate=0.4, model__neurons=50;, score=0.567 total time= 2.9min\n",
      "[CV 1/3] END batch_size=20, epochs=100, model__dropout_rate=0.4, model__neurons=60;, score=0.885 total time= 2.7min\n",
      "[CV 2/3] END batch_size=20, epochs=100, model__dropout_rate=0.4, model__neurons=60;, score=0.807 total time= 2.7min\n",
      "[CV 3/3] END batch_size=20, epochs=100, model__dropout_rate=0.4, model__neurons=60;, score=0.866 total time= 2.7min\n",
      "[CV 1/3] END batch_size=20, epochs=100, model__dropout_rate=0.4, model__neurons=70;, score=0.409 total time= 3.0min\n",
      "[CV 2/3] END batch_size=20, epochs=100, model__dropout_rate=0.4, model__neurons=70;, score=0.429 total time= 3.0min\n"
     ]
    },
    {
     "name": "stdout",
     "output_type": "stream",
     "text": [
      "[CV 3/3] END batch_size=20, epochs=100, model__dropout_rate=0.4, model__neurons=70;, score=0.792 total time= 3.0min\n",
      "[CV 1/3] END batch_size=30, epochs=75, model__dropout_rate=0.2, model__neurons=40;, score=0.841 total time= 1.4min\n",
      "[CV 2/3] END batch_size=30, epochs=75, model__dropout_rate=0.2, model__neurons=40;, score=0.769 total time= 1.4min\n",
      "[CV 3/3] END batch_size=30, epochs=75, model__dropout_rate=0.2, model__neurons=40;, score=-5.194 total time= 1.4min\n",
      "[CV 1/3] END batch_size=30, epochs=75, model__dropout_rate=0.2, model__neurons=50;, score=0.312 total time= 1.6min\n",
      "[CV 2/3] END batch_size=30, epochs=75, model__dropout_rate=0.2, model__neurons=50;, score=0.796 total time= 1.6min\n",
      "[CV 3/3] END batch_size=30, epochs=75, model__dropout_rate=0.2, model__neurons=50;, score=-5.984 total time= 1.6min\n",
      "[CV 1/3] END batch_size=30, epochs=75, model__dropout_rate=0.2, model__neurons=60;, score=-0.868 total time= 1.5min\n",
      "[CV 2/3] END batch_size=30, epochs=75, model__dropout_rate=0.2, model__neurons=60;, score=0.785 total time= 1.5min\n",
      "[CV 3/3] END batch_size=30, epochs=75, model__dropout_rate=0.2, model__neurons=60;, score=-6.373 total time= 1.5min\n",
      "[CV 1/3] END batch_size=30, epochs=75, model__dropout_rate=0.2, model__neurons=70;, score=0.264 total time= 1.6min\n",
      "[CV 2/3] END batch_size=30, epochs=75, model__dropout_rate=0.2, model__neurons=70;, score=-0.429 total time= 1.6min\n",
      "[CV 3/3] END batch_size=30, epochs=75, model__dropout_rate=0.2, model__neurons=70;, score=-5.270 total time= 1.6min\n",
      "[CV 1/3] END batch_size=30, epochs=75, model__dropout_rate=0.3, model__neurons=40;, score=0.818 total time= 1.4min\n",
      "[CV 2/3] END batch_size=30, epochs=75, model__dropout_rate=0.3, model__neurons=40;, score=0.666 total time= 1.4min\n",
      "[CV 3/3] END batch_size=30, epochs=75, model__dropout_rate=0.3, model__neurons=40;, score=-4.681 total time= 1.4min\n",
      "[CV 1/3] END batch_size=30, epochs=75, model__dropout_rate=0.3, model__neurons=50;, score=0.850 total time= 1.6min\n",
      "[CV 2/3] END batch_size=30, epochs=75, model__dropout_rate=0.3, model__neurons=50;, score=0.781 total time= 1.6min\n",
      "[CV 3/3] END batch_size=30, epochs=75, model__dropout_rate=0.3, model__neurons=50;, score=-5.544 total time= 1.6min\n",
      "[CV 1/3] END batch_size=30, epochs=75, model__dropout_rate=0.3, model__neurons=60;, score=0.789 total time= 1.4min\n",
      "[CV 2/3] END batch_size=30, epochs=75, model__dropout_rate=0.3, model__neurons=60;, score=0.802 total time= 1.5min\n",
      "[CV 3/3] END batch_size=30, epochs=75, model__dropout_rate=0.3, model__neurons=60;, score=-3.560 total time= 1.5min\n",
      "[CV 1/3] END batch_size=30, epochs=75, model__dropout_rate=0.3, model__neurons=70;, score=0.239 total time= 1.6min\n",
      "[CV 2/3] END batch_size=30, epochs=75, model__dropout_rate=0.3, model__neurons=70;, score=0.687 total time= 1.6min\n",
      "[CV 3/3] END batch_size=30, epochs=75, model__dropout_rate=0.3, model__neurons=70;, score=-3.725 total time= 1.6min\n",
      "[CV 1/3] END batch_size=30, epochs=75, model__dropout_rate=0.4, model__neurons=40;, score=-2.002 total time= 1.4min\n",
      "[CV 2/3] END batch_size=30, epochs=75, model__dropout_rate=0.4, model__neurons=40;, score=0.638 total time= 1.4min\n",
      "[CV 3/3] END batch_size=30, epochs=75, model__dropout_rate=0.4, model__neurons=40;, score=-5.899 total time= 1.4min\n",
      "[CV 1/3] END batch_size=30, epochs=75, model__dropout_rate=0.4, model__neurons=50;, score=0.521 total time= 1.6min\n",
      "[CV 2/3] END batch_size=30, epochs=75, model__dropout_rate=0.4, model__neurons=50;, score=0.650 total time= 1.6min\n",
      "[CV 3/3] END batch_size=30, epochs=75, model__dropout_rate=0.4, model__neurons=50;, score=-4.595 total time= 1.6min\n",
      "[CV 1/3] END batch_size=30, epochs=75, model__dropout_rate=0.4, model__neurons=60;, score=0.436 total time= 1.4min\n",
      "[CV 2/3] END batch_size=30, epochs=75, model__dropout_rate=0.4, model__neurons=60;, score=0.594 total time= 1.4min\n",
      "[CV 3/3] END batch_size=30, epochs=75, model__dropout_rate=0.4, model__neurons=60;, score=-7.243 total time= 1.4min\n",
      "[CV 1/3] END batch_size=30, epochs=75, model__dropout_rate=0.4, model__neurons=70;, score=0.862 total time= 1.6min\n",
      "[CV 2/3] END batch_size=30, epochs=75, model__dropout_rate=0.4, model__neurons=70;, score=0.524 total time= 1.6min\n",
      "[CV 3/3] END batch_size=30, epochs=75, model__dropout_rate=0.4, model__neurons=70;, score=-4.351 total time= 1.6min\n",
      "[CV 1/3] END batch_size=30, epochs=100, model__dropout_rate=0.2, model__neurons=40;, score=0.812 total time= 1.9min\n",
      "[CV 2/3] END batch_size=30, epochs=100, model__dropout_rate=0.2, model__neurons=40;, score=0.732 total time= 1.8min\n",
      "[CV 3/3] END batch_size=30, epochs=100, model__dropout_rate=0.2, model__neurons=40;, score=0.039 total time= 1.8min\n",
      "[CV 1/3] END batch_size=30, epochs=100, model__dropout_rate=0.2, model__neurons=50;, score=0.840 total time= 2.0min\n",
      "[CV 2/3] END batch_size=30, epochs=100, model__dropout_rate=0.2, model__neurons=50;, score=0.634 total time= 2.0min\n",
      "[CV 3/3] END batch_size=30, epochs=100, model__dropout_rate=0.2, model__neurons=50;, score=0.652 total time= 2.1min\n",
      "[CV 1/3] END batch_size=30, epochs=100, model__dropout_rate=0.2, model__neurons=60;, score=0.849 total time= 1.9min\n",
      "[CV 2/3] END batch_size=30, epochs=100, model__dropout_rate=0.2, model__neurons=60;, score=-0.468 total time= 1.9min\n",
      "[CV 3/3] END batch_size=30, epochs=100, model__dropout_rate=0.2, model__neurons=60;, score=-1.242 total time= 1.9min\n",
      "[CV 1/3] END batch_size=30, epochs=100, model__dropout_rate=0.2, model__neurons=70;, score=0.863 total time= 2.1min\n",
      "[CV 2/3] END batch_size=30, epochs=100, model__dropout_rate=0.2, model__neurons=70;, score=0.766 total time= 2.1min\n",
      "[CV 3/3] END batch_size=30, epochs=100, model__dropout_rate=0.2, model__neurons=70;, score=-0.508 total time= 2.1min\n",
      "[CV 1/3] END batch_size=30, epochs=100, model__dropout_rate=0.3, model__neurons=40;, score=0.642 total time= 1.9min\n",
      "[CV 2/3] END batch_size=30, epochs=100, model__dropout_rate=0.3, model__neurons=40;, score=0.685 total time= 1.9min\n",
      "[CV 3/3] END batch_size=30, epochs=100, model__dropout_rate=0.3, model__neurons=40;, score=-2.898 total time= 1.9min\n",
      "[CV 1/3] END batch_size=30, epochs=100, model__dropout_rate=0.3, model__neurons=50;, score=-0.735 total time= 2.1min\n",
      "[CV 2/3] END batch_size=30, epochs=100, model__dropout_rate=0.3, model__neurons=50;, score=0.476 total time= 2.0min\n",
      "[CV 3/3] END batch_size=30, epochs=100, model__dropout_rate=0.3, model__neurons=50;, score=-1.057 total time= 2.1min\n",
      "[CV 1/3] END batch_size=30, epochs=100, model__dropout_rate=0.3, model__neurons=60;, score=0.746 total time= 1.9min\n",
      "[CV 2/3] END batch_size=30, epochs=100, model__dropout_rate=0.3, model__neurons=60;, score=0.363 total time= 1.9min\n",
      "[CV 3/3] END batch_size=30, epochs=100, model__dropout_rate=0.3, model__neurons=60;, score=0.022 total time= 1.9min\n",
      "[CV 1/3] END batch_size=30, epochs=100, model__dropout_rate=0.3, model__neurons=70;, score=0.880 total time= 2.1min\n",
      "[CV 2/3] END batch_size=30, epochs=100, model__dropout_rate=0.3, model__neurons=70;, score=0.791 total time= 2.1min\n",
      "[CV 3/3] END batch_size=30, epochs=100, model__dropout_rate=0.3, model__neurons=70;, score=0.144 total time= 2.1min\n",
      "[CV 1/3] END batch_size=30, epochs=100, model__dropout_rate=0.4, model__neurons=40;, score=0.842 total time= 1.8min\n",
      "[CV 2/3] END batch_size=30, epochs=100, model__dropout_rate=0.4, model__neurons=40;, score=0.712 total time= 1.8min\n",
      "[CV 3/3] END batch_size=30, epochs=100, model__dropout_rate=0.4, model__neurons=40;, score=0.561 total time= 1.9min\n",
      "[CV 1/3] END batch_size=30, epochs=100, model__dropout_rate=0.4, model__neurons=50;, score=0.123 total time= 2.1min\n",
      "[CV 2/3] END batch_size=30, epochs=100, model__dropout_rate=0.4, model__neurons=50;, score=0.782 total time= 2.1min\n",
      "[CV 3/3] END batch_size=30, epochs=100, model__dropout_rate=0.4, model__neurons=50;, score=-3.764 total time= 2.0min\n",
      "[CV 1/3] END batch_size=30, epochs=100, model__dropout_rate=0.4, model__neurons=60;, score=0.327 total time= 1.9min\n",
      "[CV 2/3] END batch_size=30, epochs=100, model__dropout_rate=0.4, model__neurons=60;, score=0.800 total time= 1.9min\n",
      "[CV 3/3] END batch_size=30, epochs=100, model__dropout_rate=0.4, model__neurons=60;, score=-0.626 total time= 1.9min\n",
      "[CV 1/3] END batch_size=30, epochs=100, model__dropout_rate=0.4, model__neurons=70;, score=0.803 total time= 2.1min\n"
     ]
    },
    {
     "name": "stdout",
     "output_type": "stream",
     "text": [
      "[CV 2/3] END batch_size=30, epochs=100, model__dropout_rate=0.4, model__neurons=70;, score=-0.474 total time= 2.1min\n",
      "[CV 3/3] END batch_size=30, epochs=100, model__dropout_rate=0.4, model__neurons=70;, score=0.038 total time= 2.1min\n",
      "[CV 1/3] END batch_size=40, epochs=75, model__dropout_rate=0.2, model__neurons=40;, score=-3.839 total time= 1.1min\n",
      "[CV 2/3] END batch_size=40, epochs=75, model__dropout_rate=0.2, model__neurons=40;, score=0.801 total time= 1.1min\n"
     ]
    },
    {
     "ename": "KeyboardInterrupt",
     "evalue": "",
     "output_type": "error",
     "traceback": [
      "\u001b[1;31m---------------------------------------------------------------------------\u001b[0m",
      "\u001b[1;31mKeyboardInterrupt\u001b[0m                         Traceback (most recent call last)",
      "Cell \u001b[1;32mIn[31], line 1\u001b[0m\n\u001b[1;32m----> 1\u001b[0m grid_result\u001b[38;5;241m=\u001b[39m\u001b[43mgrid\u001b[49m\u001b[38;5;241;43m.\u001b[39;49m\u001b[43mfit\u001b[49m\u001b[43m(\u001b[49m\u001b[43mX_validation\u001b[49m\u001b[43m,\u001b[49m\u001b[43m \u001b[49m\u001b[43my_validation\u001b[49m\u001b[43m)\u001b[49m\n",
      "File \u001b[1;32m~\\anaconda3\\lib\\site-packages\\sklearn\\base.py:1151\u001b[0m, in \u001b[0;36m_fit_context.<locals>.decorator.<locals>.wrapper\u001b[1;34m(estimator, *args, **kwargs)\u001b[0m\n\u001b[0;32m   1144\u001b[0m     estimator\u001b[38;5;241m.\u001b[39m_validate_params()\n\u001b[0;32m   1146\u001b[0m \u001b[38;5;28;01mwith\u001b[39;00m config_context(\n\u001b[0;32m   1147\u001b[0m     skip_parameter_validation\u001b[38;5;241m=\u001b[39m(\n\u001b[0;32m   1148\u001b[0m         prefer_skip_nested_validation \u001b[38;5;129;01mor\u001b[39;00m global_skip_validation\n\u001b[0;32m   1149\u001b[0m     )\n\u001b[0;32m   1150\u001b[0m ):\n\u001b[1;32m-> 1151\u001b[0m     \u001b[38;5;28;01mreturn\u001b[39;00m fit_method(estimator, \u001b[38;5;241m*\u001b[39margs, \u001b[38;5;241m*\u001b[39m\u001b[38;5;241m*\u001b[39mkwargs)\n",
      "File \u001b[1;32m~\\anaconda3\\lib\\site-packages\\sklearn\\model_selection\\_search.py:898\u001b[0m, in \u001b[0;36mBaseSearchCV.fit\u001b[1;34m(self, X, y, groups, **fit_params)\u001b[0m\n\u001b[0;32m    892\u001b[0m     results \u001b[38;5;241m=\u001b[39m \u001b[38;5;28mself\u001b[39m\u001b[38;5;241m.\u001b[39m_format_results(\n\u001b[0;32m    893\u001b[0m         all_candidate_params, n_splits, all_out, all_more_results\n\u001b[0;32m    894\u001b[0m     )\n\u001b[0;32m    896\u001b[0m     \u001b[38;5;28;01mreturn\u001b[39;00m results\n\u001b[1;32m--> 898\u001b[0m \u001b[38;5;28;43mself\u001b[39;49m\u001b[38;5;241;43m.\u001b[39;49m\u001b[43m_run_search\u001b[49m\u001b[43m(\u001b[49m\u001b[43mevaluate_candidates\u001b[49m\u001b[43m)\u001b[49m\n\u001b[0;32m    900\u001b[0m \u001b[38;5;66;03m# multimetric is determined here because in the case of a callable\u001b[39;00m\n\u001b[0;32m    901\u001b[0m \u001b[38;5;66;03m# self.scoring the return type is only known after calling\u001b[39;00m\n\u001b[0;32m    902\u001b[0m first_test_score \u001b[38;5;241m=\u001b[39m all_out[\u001b[38;5;241m0\u001b[39m][\u001b[38;5;124m\"\u001b[39m\u001b[38;5;124mtest_scores\u001b[39m\u001b[38;5;124m\"\u001b[39m]\n",
      "File \u001b[1;32m~\\anaconda3\\lib\\site-packages\\sklearn\\model_selection\\_search.py:1419\u001b[0m, in \u001b[0;36mGridSearchCV._run_search\u001b[1;34m(self, evaluate_candidates)\u001b[0m\n\u001b[0;32m   1417\u001b[0m \u001b[38;5;28;01mdef\u001b[39;00m \u001b[38;5;21m_run_search\u001b[39m(\u001b[38;5;28mself\u001b[39m, evaluate_candidates):\n\u001b[0;32m   1418\u001b[0m     \u001b[38;5;124;03m\"\"\"Search all candidates in param_grid\"\"\"\u001b[39;00m\n\u001b[1;32m-> 1419\u001b[0m     \u001b[43mevaluate_candidates\u001b[49m\u001b[43m(\u001b[49m\u001b[43mParameterGrid\u001b[49m\u001b[43m(\u001b[49m\u001b[38;5;28;43mself\u001b[39;49m\u001b[38;5;241;43m.\u001b[39;49m\u001b[43mparam_grid\u001b[49m\u001b[43m)\u001b[49m\u001b[43m)\u001b[49m\n",
      "File \u001b[1;32m~\\anaconda3\\lib\\site-packages\\sklearn\\model_selection\\_search.py:845\u001b[0m, in \u001b[0;36mBaseSearchCV.fit.<locals>.evaluate_candidates\u001b[1;34m(candidate_params, cv, more_results)\u001b[0m\n\u001b[0;32m    837\u001b[0m \u001b[38;5;28;01mif\u001b[39;00m \u001b[38;5;28mself\u001b[39m\u001b[38;5;241m.\u001b[39mverbose \u001b[38;5;241m>\u001b[39m \u001b[38;5;241m0\u001b[39m:\n\u001b[0;32m    838\u001b[0m     \u001b[38;5;28mprint\u001b[39m(\n\u001b[0;32m    839\u001b[0m         \u001b[38;5;124m\"\u001b[39m\u001b[38;5;124mFitting \u001b[39m\u001b[38;5;132;01m{0}\u001b[39;00m\u001b[38;5;124m folds for each of \u001b[39m\u001b[38;5;132;01m{1}\u001b[39;00m\u001b[38;5;124m candidates,\u001b[39m\u001b[38;5;124m\"\u001b[39m\n\u001b[0;32m    840\u001b[0m         \u001b[38;5;124m\"\u001b[39m\u001b[38;5;124m totalling \u001b[39m\u001b[38;5;132;01m{2}\u001b[39;00m\u001b[38;5;124m fits\u001b[39m\u001b[38;5;124m\"\u001b[39m\u001b[38;5;241m.\u001b[39mformat(\n\u001b[0;32m    841\u001b[0m             n_splits, n_candidates, n_candidates \u001b[38;5;241m*\u001b[39m n_splits\n\u001b[0;32m    842\u001b[0m         )\n\u001b[0;32m    843\u001b[0m     )\n\u001b[1;32m--> 845\u001b[0m out \u001b[38;5;241m=\u001b[39m \u001b[43mparallel\u001b[49m\u001b[43m(\u001b[49m\n\u001b[0;32m    846\u001b[0m \u001b[43m    \u001b[49m\u001b[43mdelayed\u001b[49m\u001b[43m(\u001b[49m\u001b[43m_fit_and_score\u001b[49m\u001b[43m)\u001b[49m\u001b[43m(\u001b[49m\n\u001b[0;32m    847\u001b[0m \u001b[43m        \u001b[49m\u001b[43mclone\u001b[49m\u001b[43m(\u001b[49m\u001b[43mbase_estimator\u001b[49m\u001b[43m)\u001b[49m\u001b[43m,\u001b[49m\n\u001b[0;32m    848\u001b[0m \u001b[43m        \u001b[49m\u001b[43mX\u001b[49m\u001b[43m,\u001b[49m\n\u001b[0;32m    849\u001b[0m \u001b[43m        \u001b[49m\u001b[43my\u001b[49m\u001b[43m,\u001b[49m\n\u001b[0;32m    850\u001b[0m \u001b[43m        \u001b[49m\u001b[43mtrain\u001b[49m\u001b[38;5;241;43m=\u001b[39;49m\u001b[43mtrain\u001b[49m\u001b[43m,\u001b[49m\n\u001b[0;32m    851\u001b[0m \u001b[43m        \u001b[49m\u001b[43mtest\u001b[49m\u001b[38;5;241;43m=\u001b[39;49m\u001b[43mtest\u001b[49m\u001b[43m,\u001b[49m\n\u001b[0;32m    852\u001b[0m \u001b[43m        \u001b[49m\u001b[43mparameters\u001b[49m\u001b[38;5;241;43m=\u001b[39;49m\u001b[43mparameters\u001b[49m\u001b[43m,\u001b[49m\n\u001b[0;32m    853\u001b[0m \u001b[43m        \u001b[49m\u001b[43msplit_progress\u001b[49m\u001b[38;5;241;43m=\u001b[39;49m\u001b[43m(\u001b[49m\u001b[43msplit_idx\u001b[49m\u001b[43m,\u001b[49m\u001b[43m \u001b[49m\u001b[43mn_splits\u001b[49m\u001b[43m)\u001b[49m\u001b[43m,\u001b[49m\n\u001b[0;32m    854\u001b[0m \u001b[43m        \u001b[49m\u001b[43mcandidate_progress\u001b[49m\u001b[38;5;241;43m=\u001b[39;49m\u001b[43m(\u001b[49m\u001b[43mcand_idx\u001b[49m\u001b[43m,\u001b[49m\u001b[43m \u001b[49m\u001b[43mn_candidates\u001b[49m\u001b[43m)\u001b[49m\u001b[43m,\u001b[49m\n\u001b[0;32m    855\u001b[0m \u001b[43m        \u001b[49m\u001b[38;5;241;43m*\u001b[39;49m\u001b[38;5;241;43m*\u001b[39;49m\u001b[43mfit_and_score_kwargs\u001b[49m\u001b[43m,\u001b[49m\n\u001b[0;32m    856\u001b[0m \u001b[43m    \u001b[49m\u001b[43m)\u001b[49m\n\u001b[0;32m    857\u001b[0m \u001b[43m    \u001b[49m\u001b[38;5;28;43;01mfor\u001b[39;49;00m\u001b[43m \u001b[49m\u001b[43m(\u001b[49m\u001b[43mcand_idx\u001b[49m\u001b[43m,\u001b[49m\u001b[43m \u001b[49m\u001b[43mparameters\u001b[49m\u001b[43m)\u001b[49m\u001b[43m,\u001b[49m\u001b[43m \u001b[49m\u001b[43m(\u001b[49m\u001b[43msplit_idx\u001b[49m\u001b[43m,\u001b[49m\u001b[43m \u001b[49m\u001b[43m(\u001b[49m\u001b[43mtrain\u001b[49m\u001b[43m,\u001b[49m\u001b[43m \u001b[49m\u001b[43mtest\u001b[49m\u001b[43m)\u001b[49m\u001b[43m)\u001b[49m\u001b[43m \u001b[49m\u001b[38;5;129;43;01min\u001b[39;49;00m\u001b[43m \u001b[49m\u001b[43mproduct\u001b[49m\u001b[43m(\u001b[49m\n\u001b[0;32m    858\u001b[0m \u001b[43m        \u001b[49m\u001b[38;5;28;43menumerate\u001b[39;49m\u001b[43m(\u001b[49m\u001b[43mcandidate_params\u001b[49m\u001b[43m)\u001b[49m\u001b[43m,\u001b[49m\u001b[43m \u001b[49m\u001b[38;5;28;43menumerate\u001b[39;49m\u001b[43m(\u001b[49m\u001b[43mcv\u001b[49m\u001b[38;5;241;43m.\u001b[39;49m\u001b[43msplit\u001b[49m\u001b[43m(\u001b[49m\u001b[43mX\u001b[49m\u001b[43m,\u001b[49m\u001b[43m \u001b[49m\u001b[43my\u001b[49m\u001b[43m,\u001b[49m\u001b[43m \u001b[49m\u001b[43mgroups\u001b[49m\u001b[43m)\u001b[49m\u001b[43m)\u001b[49m\n\u001b[0;32m    859\u001b[0m \u001b[43m    \u001b[49m\u001b[43m)\u001b[49m\n\u001b[0;32m    860\u001b[0m \u001b[43m\u001b[49m\u001b[43m)\u001b[49m\n\u001b[0;32m    862\u001b[0m \u001b[38;5;28;01mif\u001b[39;00m \u001b[38;5;28mlen\u001b[39m(out) \u001b[38;5;241m<\u001b[39m \u001b[38;5;241m1\u001b[39m:\n\u001b[0;32m    863\u001b[0m     \u001b[38;5;28;01mraise\u001b[39;00m \u001b[38;5;167;01mValueError\u001b[39;00m(\n\u001b[0;32m    864\u001b[0m         \u001b[38;5;124m\"\u001b[39m\u001b[38;5;124mNo fits were performed. \u001b[39m\u001b[38;5;124m\"\u001b[39m\n\u001b[0;32m    865\u001b[0m         \u001b[38;5;124m\"\u001b[39m\u001b[38;5;124mWas the CV iterator empty? \u001b[39m\u001b[38;5;124m\"\u001b[39m\n\u001b[0;32m    866\u001b[0m         \u001b[38;5;124m\"\u001b[39m\u001b[38;5;124mWere there no candidates?\u001b[39m\u001b[38;5;124m\"\u001b[39m\n\u001b[0;32m    867\u001b[0m     )\n",
      "File \u001b[1;32m~\\anaconda3\\lib\\site-packages\\sklearn\\utils\\parallel.py:65\u001b[0m, in \u001b[0;36mParallel.__call__\u001b[1;34m(self, iterable)\u001b[0m\n\u001b[0;32m     60\u001b[0m config \u001b[38;5;241m=\u001b[39m get_config()\n\u001b[0;32m     61\u001b[0m iterable_with_config \u001b[38;5;241m=\u001b[39m (\n\u001b[0;32m     62\u001b[0m     (_with_config(delayed_func, config), args, kwargs)\n\u001b[0;32m     63\u001b[0m     \u001b[38;5;28;01mfor\u001b[39;00m delayed_func, args, kwargs \u001b[38;5;129;01min\u001b[39;00m iterable\n\u001b[0;32m     64\u001b[0m )\n\u001b[1;32m---> 65\u001b[0m \u001b[38;5;28;01mreturn\u001b[39;00m \u001b[38;5;28;43msuper\u001b[39;49m\u001b[43m(\u001b[49m\u001b[43m)\u001b[49m\u001b[38;5;241;43m.\u001b[39;49m\u001b[38;5;21;43m__call__\u001b[39;49m\u001b[43m(\u001b[49m\u001b[43miterable_with_config\u001b[49m\u001b[43m)\u001b[49m\n",
      "File \u001b[1;32m~\\anaconda3\\lib\\site-packages\\joblib\\parallel.py:1051\u001b[0m, in \u001b[0;36mParallel.__call__\u001b[1;34m(self, iterable)\u001b[0m\n\u001b[0;32m   1048\u001b[0m \u001b[38;5;28;01mif\u001b[39;00m \u001b[38;5;28mself\u001b[39m\u001b[38;5;241m.\u001b[39mdispatch_one_batch(iterator):\n\u001b[0;32m   1049\u001b[0m     \u001b[38;5;28mself\u001b[39m\u001b[38;5;241m.\u001b[39m_iterating \u001b[38;5;241m=\u001b[39m \u001b[38;5;28mself\u001b[39m\u001b[38;5;241m.\u001b[39m_original_iterator \u001b[38;5;129;01mis\u001b[39;00m \u001b[38;5;129;01mnot\u001b[39;00m \u001b[38;5;28;01mNone\u001b[39;00m\n\u001b[1;32m-> 1051\u001b[0m \u001b[38;5;28;01mwhile\u001b[39;00m \u001b[38;5;28;43mself\u001b[39;49m\u001b[38;5;241;43m.\u001b[39;49m\u001b[43mdispatch_one_batch\u001b[49m\u001b[43m(\u001b[49m\u001b[43miterator\u001b[49m\u001b[43m)\u001b[49m:\n\u001b[0;32m   1052\u001b[0m     \u001b[38;5;28;01mpass\u001b[39;00m\n\u001b[0;32m   1054\u001b[0m \u001b[38;5;28;01mif\u001b[39;00m pre_dispatch \u001b[38;5;241m==\u001b[39m \u001b[38;5;124m\"\u001b[39m\u001b[38;5;124mall\u001b[39m\u001b[38;5;124m\"\u001b[39m \u001b[38;5;129;01mor\u001b[39;00m n_jobs \u001b[38;5;241m==\u001b[39m \u001b[38;5;241m1\u001b[39m:\n\u001b[0;32m   1055\u001b[0m     \u001b[38;5;66;03m# The iterable was consumed all at once by the above for loop.\u001b[39;00m\n\u001b[0;32m   1056\u001b[0m     \u001b[38;5;66;03m# No need to wait for async callbacks to trigger to\u001b[39;00m\n\u001b[0;32m   1057\u001b[0m     \u001b[38;5;66;03m# consumption.\u001b[39;00m\n",
      "File \u001b[1;32m~\\anaconda3\\lib\\site-packages\\joblib\\parallel.py:864\u001b[0m, in \u001b[0;36mParallel.dispatch_one_batch\u001b[1;34m(self, iterator)\u001b[0m\n\u001b[0;32m    862\u001b[0m     \u001b[38;5;28;01mreturn\u001b[39;00m \u001b[38;5;28;01mFalse\u001b[39;00m\n\u001b[0;32m    863\u001b[0m \u001b[38;5;28;01melse\u001b[39;00m:\n\u001b[1;32m--> 864\u001b[0m     \u001b[38;5;28;43mself\u001b[39;49m\u001b[38;5;241;43m.\u001b[39;49m\u001b[43m_dispatch\u001b[49m\u001b[43m(\u001b[49m\u001b[43mtasks\u001b[49m\u001b[43m)\u001b[49m\n\u001b[0;32m    865\u001b[0m     \u001b[38;5;28;01mreturn\u001b[39;00m \u001b[38;5;28;01mTrue\u001b[39;00m\n",
      "File \u001b[1;32m~\\anaconda3\\lib\\site-packages\\joblib\\parallel.py:782\u001b[0m, in \u001b[0;36mParallel._dispatch\u001b[1;34m(self, batch)\u001b[0m\n\u001b[0;32m    780\u001b[0m \u001b[38;5;28;01mwith\u001b[39;00m \u001b[38;5;28mself\u001b[39m\u001b[38;5;241m.\u001b[39m_lock:\n\u001b[0;32m    781\u001b[0m     job_idx \u001b[38;5;241m=\u001b[39m \u001b[38;5;28mlen\u001b[39m(\u001b[38;5;28mself\u001b[39m\u001b[38;5;241m.\u001b[39m_jobs)\n\u001b[1;32m--> 782\u001b[0m     job \u001b[38;5;241m=\u001b[39m \u001b[38;5;28;43mself\u001b[39;49m\u001b[38;5;241;43m.\u001b[39;49m\u001b[43m_backend\u001b[49m\u001b[38;5;241;43m.\u001b[39;49m\u001b[43mapply_async\u001b[49m\u001b[43m(\u001b[49m\u001b[43mbatch\u001b[49m\u001b[43m,\u001b[49m\u001b[43m \u001b[49m\u001b[43mcallback\u001b[49m\u001b[38;5;241;43m=\u001b[39;49m\u001b[43mcb\u001b[49m\u001b[43m)\u001b[49m\n\u001b[0;32m    783\u001b[0m     \u001b[38;5;66;03m# A job can complete so quickly than its callback is\u001b[39;00m\n\u001b[0;32m    784\u001b[0m     \u001b[38;5;66;03m# called before we get here, causing self._jobs to\u001b[39;00m\n\u001b[0;32m    785\u001b[0m     \u001b[38;5;66;03m# grow. To ensure correct results ordering, .insert is\u001b[39;00m\n\u001b[0;32m    786\u001b[0m     \u001b[38;5;66;03m# used (rather than .append) in the following line\u001b[39;00m\n\u001b[0;32m    787\u001b[0m     \u001b[38;5;28mself\u001b[39m\u001b[38;5;241m.\u001b[39m_jobs\u001b[38;5;241m.\u001b[39minsert(job_idx, job)\n",
      "File \u001b[1;32m~\\anaconda3\\lib\\site-packages\\joblib\\_parallel_backends.py:208\u001b[0m, in \u001b[0;36mSequentialBackend.apply_async\u001b[1;34m(self, func, callback)\u001b[0m\n\u001b[0;32m    206\u001b[0m \u001b[38;5;28;01mdef\u001b[39;00m \u001b[38;5;21mapply_async\u001b[39m(\u001b[38;5;28mself\u001b[39m, func, callback\u001b[38;5;241m=\u001b[39m\u001b[38;5;28;01mNone\u001b[39;00m):\n\u001b[0;32m    207\u001b[0m     \u001b[38;5;124;03m\"\"\"Schedule a func to be run\"\"\"\u001b[39;00m\n\u001b[1;32m--> 208\u001b[0m     result \u001b[38;5;241m=\u001b[39m \u001b[43mImmediateResult\u001b[49m\u001b[43m(\u001b[49m\u001b[43mfunc\u001b[49m\u001b[43m)\u001b[49m\n\u001b[0;32m    209\u001b[0m     \u001b[38;5;28;01mif\u001b[39;00m callback:\n\u001b[0;32m    210\u001b[0m         callback(result)\n",
      "File \u001b[1;32m~\\anaconda3\\lib\\site-packages\\joblib\\_parallel_backends.py:572\u001b[0m, in \u001b[0;36mImmediateResult.__init__\u001b[1;34m(self, batch)\u001b[0m\n\u001b[0;32m    569\u001b[0m \u001b[38;5;28;01mdef\u001b[39;00m \u001b[38;5;21m__init__\u001b[39m(\u001b[38;5;28mself\u001b[39m, batch):\n\u001b[0;32m    570\u001b[0m     \u001b[38;5;66;03m# Don't delay the application, to avoid keeping the input\u001b[39;00m\n\u001b[0;32m    571\u001b[0m     \u001b[38;5;66;03m# arguments in memory\u001b[39;00m\n\u001b[1;32m--> 572\u001b[0m     \u001b[38;5;28mself\u001b[39m\u001b[38;5;241m.\u001b[39mresults \u001b[38;5;241m=\u001b[39m \u001b[43mbatch\u001b[49m\u001b[43m(\u001b[49m\u001b[43m)\u001b[49m\n",
      "File \u001b[1;32m~\\anaconda3\\lib\\site-packages\\joblib\\parallel.py:263\u001b[0m, in \u001b[0;36mBatchedCalls.__call__\u001b[1;34m(self)\u001b[0m\n\u001b[0;32m    259\u001b[0m \u001b[38;5;28;01mdef\u001b[39;00m \u001b[38;5;21m__call__\u001b[39m(\u001b[38;5;28mself\u001b[39m):\n\u001b[0;32m    260\u001b[0m     \u001b[38;5;66;03m# Set the default nested backend to self._backend but do not set the\u001b[39;00m\n\u001b[0;32m    261\u001b[0m     \u001b[38;5;66;03m# change the default number of processes to -1\u001b[39;00m\n\u001b[0;32m    262\u001b[0m     \u001b[38;5;28;01mwith\u001b[39;00m parallel_backend(\u001b[38;5;28mself\u001b[39m\u001b[38;5;241m.\u001b[39m_backend, n_jobs\u001b[38;5;241m=\u001b[39m\u001b[38;5;28mself\u001b[39m\u001b[38;5;241m.\u001b[39m_n_jobs):\n\u001b[1;32m--> 263\u001b[0m         \u001b[38;5;28;01mreturn\u001b[39;00m [func(\u001b[38;5;241m*\u001b[39margs, \u001b[38;5;241m*\u001b[39m\u001b[38;5;241m*\u001b[39mkwargs)\n\u001b[0;32m    264\u001b[0m                 \u001b[38;5;28;01mfor\u001b[39;00m func, args, kwargs \u001b[38;5;129;01min\u001b[39;00m \u001b[38;5;28mself\u001b[39m\u001b[38;5;241m.\u001b[39mitems]\n",
      "File \u001b[1;32m~\\anaconda3\\lib\\site-packages\\joblib\\parallel.py:263\u001b[0m, in \u001b[0;36m<listcomp>\u001b[1;34m(.0)\u001b[0m\n\u001b[0;32m    259\u001b[0m \u001b[38;5;28;01mdef\u001b[39;00m \u001b[38;5;21m__call__\u001b[39m(\u001b[38;5;28mself\u001b[39m):\n\u001b[0;32m    260\u001b[0m     \u001b[38;5;66;03m# Set the default nested backend to self._backend but do not set the\u001b[39;00m\n\u001b[0;32m    261\u001b[0m     \u001b[38;5;66;03m# change the default number of processes to -1\u001b[39;00m\n\u001b[0;32m    262\u001b[0m     \u001b[38;5;28;01mwith\u001b[39;00m parallel_backend(\u001b[38;5;28mself\u001b[39m\u001b[38;5;241m.\u001b[39m_backend, n_jobs\u001b[38;5;241m=\u001b[39m\u001b[38;5;28mself\u001b[39m\u001b[38;5;241m.\u001b[39m_n_jobs):\n\u001b[1;32m--> 263\u001b[0m         \u001b[38;5;28;01mreturn\u001b[39;00m [func(\u001b[38;5;241m*\u001b[39margs, \u001b[38;5;241m*\u001b[39m\u001b[38;5;241m*\u001b[39mkwargs)\n\u001b[0;32m    264\u001b[0m                 \u001b[38;5;28;01mfor\u001b[39;00m func, args, kwargs \u001b[38;5;129;01min\u001b[39;00m \u001b[38;5;28mself\u001b[39m\u001b[38;5;241m.\u001b[39mitems]\n",
      "File \u001b[1;32m~\\anaconda3\\lib\\site-packages\\sklearn\\utils\\parallel.py:127\u001b[0m, in \u001b[0;36m_FuncWrapper.__call__\u001b[1;34m(self, *args, **kwargs)\u001b[0m\n\u001b[0;32m    125\u001b[0m     config \u001b[38;5;241m=\u001b[39m {}\n\u001b[0;32m    126\u001b[0m \u001b[38;5;28;01mwith\u001b[39;00m config_context(\u001b[38;5;241m*\u001b[39m\u001b[38;5;241m*\u001b[39mconfig):\n\u001b[1;32m--> 127\u001b[0m     \u001b[38;5;28;01mreturn\u001b[39;00m \u001b[38;5;28mself\u001b[39m\u001b[38;5;241m.\u001b[39mfunction(\u001b[38;5;241m*\u001b[39margs, \u001b[38;5;241m*\u001b[39m\u001b[38;5;241m*\u001b[39mkwargs)\n",
      "File \u001b[1;32m~\\anaconda3\\lib\\site-packages\\sklearn\\model_selection\\_validation.py:732\u001b[0m, in \u001b[0;36m_fit_and_score\u001b[1;34m(estimator, X, y, scorer, train, test, verbose, parameters, fit_params, return_train_score, return_parameters, return_n_test_samples, return_times, return_estimator, split_progress, candidate_progress, error_score)\u001b[0m\n\u001b[0;32m    730\u001b[0m         estimator\u001b[38;5;241m.\u001b[39mfit(X_train, \u001b[38;5;241m*\u001b[39m\u001b[38;5;241m*\u001b[39mfit_params)\n\u001b[0;32m    731\u001b[0m     \u001b[38;5;28;01melse\u001b[39;00m:\n\u001b[1;32m--> 732\u001b[0m         estimator\u001b[38;5;241m.\u001b[39mfit(X_train, y_train, \u001b[38;5;241m*\u001b[39m\u001b[38;5;241m*\u001b[39mfit_params)\n\u001b[0;32m    734\u001b[0m \u001b[38;5;28;01mexcept\u001b[39;00m \u001b[38;5;167;01mException\u001b[39;00m:\n\u001b[0;32m    735\u001b[0m     \u001b[38;5;66;03m# Note fit time as time until error\u001b[39;00m\n\u001b[0;32m    736\u001b[0m     fit_time \u001b[38;5;241m=\u001b[39m time\u001b[38;5;241m.\u001b[39mtime() \u001b[38;5;241m-\u001b[39m start_time\n",
      "File \u001b[1;32m~\\anaconda3\\lib\\site-packages\\scikeras\\wrappers.py:760\u001b[0m, in \u001b[0;36mBaseWrapper.fit\u001b[1;34m(self, X, y, sample_weight, **kwargs)\u001b[0m\n\u001b[0;32m    755\u001b[0m kwargs[\u001b[38;5;124m\"\u001b[39m\u001b[38;5;124mepochs\u001b[39m\u001b[38;5;124m\"\u001b[39m] \u001b[38;5;241m=\u001b[39m kwargs\u001b[38;5;241m.\u001b[39mget(\n\u001b[0;32m    756\u001b[0m     \u001b[38;5;124m\"\u001b[39m\u001b[38;5;124mepochs\u001b[39m\u001b[38;5;124m\"\u001b[39m, \u001b[38;5;28mgetattr\u001b[39m(\u001b[38;5;28mself\u001b[39m, \u001b[38;5;124m\"\u001b[39m\u001b[38;5;124mfit__epochs\u001b[39m\u001b[38;5;124m\"\u001b[39m, \u001b[38;5;28mself\u001b[39m\u001b[38;5;241m.\u001b[39mepochs)\n\u001b[0;32m    757\u001b[0m )\n\u001b[0;32m    758\u001b[0m kwargs[\u001b[38;5;124m\"\u001b[39m\u001b[38;5;124minitial_epoch\u001b[39m\u001b[38;5;124m\"\u001b[39m] \u001b[38;5;241m=\u001b[39m kwargs\u001b[38;5;241m.\u001b[39mget(\u001b[38;5;124m\"\u001b[39m\u001b[38;5;124minitial_epoch\u001b[39m\u001b[38;5;124m\"\u001b[39m, \u001b[38;5;241m0\u001b[39m)\n\u001b[1;32m--> 760\u001b[0m \u001b[38;5;28mself\u001b[39m\u001b[38;5;241m.\u001b[39m_fit(\n\u001b[0;32m    761\u001b[0m     X\u001b[38;5;241m=\u001b[39mX,\n\u001b[0;32m    762\u001b[0m     y\u001b[38;5;241m=\u001b[39my,\n\u001b[0;32m    763\u001b[0m     sample_weight\u001b[38;5;241m=\u001b[39msample_weight,\n\u001b[0;32m    764\u001b[0m     warm_start\u001b[38;5;241m=\u001b[39m\u001b[38;5;28mself\u001b[39m\u001b[38;5;241m.\u001b[39mwarm_start,\n\u001b[0;32m    765\u001b[0m     \u001b[38;5;241m*\u001b[39m\u001b[38;5;241m*\u001b[39mkwargs,\n\u001b[0;32m    766\u001b[0m )\n\u001b[0;32m    768\u001b[0m \u001b[38;5;28;01mreturn\u001b[39;00m \u001b[38;5;28mself\u001b[39m\n",
      "File \u001b[1;32m~\\anaconda3\\lib\\site-packages\\scikeras\\wrappers.py:928\u001b[0m, in \u001b[0;36mBaseWrapper._fit\u001b[1;34m(self, X, y, sample_weight, warm_start, epochs, initial_epoch, **kwargs)\u001b[0m\n\u001b[0;32m    924\u001b[0m X \u001b[38;5;241m=\u001b[39m \u001b[38;5;28mself\u001b[39m\u001b[38;5;241m.\u001b[39mfeature_encoder_\u001b[38;5;241m.\u001b[39mtransform(X)\n\u001b[0;32m    926\u001b[0m \u001b[38;5;28mself\u001b[39m\u001b[38;5;241m.\u001b[39m_check_model_compatibility(y)\n\u001b[1;32m--> 928\u001b[0m \u001b[38;5;28mself\u001b[39m\u001b[38;5;241m.\u001b[39m_fit_keras_model(\n\u001b[0;32m    929\u001b[0m     X,\n\u001b[0;32m    930\u001b[0m     y,\n\u001b[0;32m    931\u001b[0m     sample_weight\u001b[38;5;241m=\u001b[39msample_weight,\n\u001b[0;32m    932\u001b[0m     warm_start\u001b[38;5;241m=\u001b[39mwarm_start,\n\u001b[0;32m    933\u001b[0m     epochs\u001b[38;5;241m=\u001b[39mepochs,\n\u001b[0;32m    934\u001b[0m     initial_epoch\u001b[38;5;241m=\u001b[39minitial_epoch,\n\u001b[0;32m    935\u001b[0m     \u001b[38;5;241m*\u001b[39m\u001b[38;5;241m*\u001b[39mkwargs,\n\u001b[0;32m    936\u001b[0m )\n",
      "File \u001b[1;32m~\\anaconda3\\lib\\site-packages\\scikeras\\wrappers.py:524\u001b[0m, in \u001b[0;36mBaseWrapper._fit_keras_model\u001b[1;34m(self, X, y, sample_weight, warm_start, epochs, initial_epoch, **kwargs)\u001b[0m\n\u001b[0;32m    522\u001b[0m         hist \u001b[38;5;241m=\u001b[39m \u001b[38;5;28mself\u001b[39m\u001b[38;5;241m.\u001b[39mmodel_\u001b[38;5;241m.\u001b[39mfit(x\u001b[38;5;241m=\u001b[39mX, y\u001b[38;5;241m=\u001b[39my, \u001b[38;5;241m*\u001b[39m\u001b[38;5;241m*\u001b[39mfit_args)\n\u001b[0;32m    523\u001b[0m \u001b[38;5;28;01melse\u001b[39;00m:\n\u001b[1;32m--> 524\u001b[0m     hist \u001b[38;5;241m=\u001b[39m \u001b[38;5;28mself\u001b[39m\u001b[38;5;241m.\u001b[39mmodel_\u001b[38;5;241m.\u001b[39mfit(x\u001b[38;5;241m=\u001b[39mX, y\u001b[38;5;241m=\u001b[39my, \u001b[38;5;241m*\u001b[39m\u001b[38;5;241m*\u001b[39mfit_args)\n\u001b[0;32m    526\u001b[0m \u001b[38;5;28;01mif\u001b[39;00m \u001b[38;5;129;01mnot\u001b[39;00m warm_start \u001b[38;5;129;01mor\u001b[39;00m \u001b[38;5;129;01mnot\u001b[39;00m \u001b[38;5;28mhasattr\u001b[39m(\u001b[38;5;28mself\u001b[39m, \u001b[38;5;124m\"\u001b[39m\u001b[38;5;124mhistory_\u001b[39m\u001b[38;5;124m\"\u001b[39m) \u001b[38;5;129;01mor\u001b[39;00m initial_epoch \u001b[38;5;241m==\u001b[39m \u001b[38;5;241m0\u001b[39m:\n\u001b[0;32m    527\u001b[0m     \u001b[38;5;28mself\u001b[39m\u001b[38;5;241m.\u001b[39mhistory_ \u001b[38;5;241m=\u001b[39m defaultdict(\u001b[38;5;28mlist\u001b[39m)\n",
      "File \u001b[1;32m~\\anaconda3\\lib\\site-packages\\keras\\utils\\traceback_utils.py:65\u001b[0m, in \u001b[0;36mfilter_traceback.<locals>.error_handler\u001b[1;34m(*args, **kwargs)\u001b[0m\n\u001b[0;32m     63\u001b[0m filtered_tb \u001b[38;5;241m=\u001b[39m \u001b[38;5;28;01mNone\u001b[39;00m\n\u001b[0;32m     64\u001b[0m \u001b[38;5;28;01mtry\u001b[39;00m:\n\u001b[1;32m---> 65\u001b[0m     \u001b[38;5;28;01mreturn\u001b[39;00m fn(\u001b[38;5;241m*\u001b[39margs, \u001b[38;5;241m*\u001b[39m\u001b[38;5;241m*\u001b[39mkwargs)\n\u001b[0;32m     66\u001b[0m \u001b[38;5;28;01mexcept\u001b[39;00m \u001b[38;5;167;01mException\u001b[39;00m \u001b[38;5;28;01mas\u001b[39;00m e:\n\u001b[0;32m     67\u001b[0m     filtered_tb \u001b[38;5;241m=\u001b[39m _process_traceback_frames(e\u001b[38;5;241m.\u001b[39m__traceback__)\n",
      "File \u001b[1;32m~\\anaconda3\\lib\\site-packages\\keras\\engine\\training.py:1564\u001b[0m, in \u001b[0;36mModel.fit\u001b[1;34m(self, x, y, batch_size, epochs, verbose, callbacks, validation_split, validation_data, shuffle, class_weight, sample_weight, initial_epoch, steps_per_epoch, validation_steps, validation_batch_size, validation_freq, max_queue_size, workers, use_multiprocessing)\u001b[0m\n\u001b[0;32m   1556\u001b[0m \u001b[38;5;28;01mwith\u001b[39;00m tf\u001b[38;5;241m.\u001b[39mprofiler\u001b[38;5;241m.\u001b[39mexperimental\u001b[38;5;241m.\u001b[39mTrace(\n\u001b[0;32m   1557\u001b[0m     \u001b[38;5;124m\"\u001b[39m\u001b[38;5;124mtrain\u001b[39m\u001b[38;5;124m\"\u001b[39m,\n\u001b[0;32m   1558\u001b[0m     epoch_num\u001b[38;5;241m=\u001b[39mepoch,\n\u001b[1;32m   (...)\u001b[0m\n\u001b[0;32m   1561\u001b[0m     _r\u001b[38;5;241m=\u001b[39m\u001b[38;5;241m1\u001b[39m,\n\u001b[0;32m   1562\u001b[0m ):\n\u001b[0;32m   1563\u001b[0m     callbacks\u001b[38;5;241m.\u001b[39mon_train_batch_begin(step)\n\u001b[1;32m-> 1564\u001b[0m     tmp_logs \u001b[38;5;241m=\u001b[39m \u001b[38;5;28;43mself\u001b[39;49m\u001b[38;5;241;43m.\u001b[39;49m\u001b[43mtrain_function\u001b[49m\u001b[43m(\u001b[49m\u001b[43miterator\u001b[49m\u001b[43m)\u001b[49m\n\u001b[0;32m   1565\u001b[0m     \u001b[38;5;28;01mif\u001b[39;00m data_handler\u001b[38;5;241m.\u001b[39mshould_sync:\n\u001b[0;32m   1566\u001b[0m         context\u001b[38;5;241m.\u001b[39masync_wait()\n",
      "File \u001b[1;32m~\\anaconda3\\lib\\site-packages\\tensorflow\\python\\util\\traceback_utils.py:150\u001b[0m, in \u001b[0;36mfilter_traceback.<locals>.error_handler\u001b[1;34m(*args, **kwargs)\u001b[0m\n\u001b[0;32m    148\u001b[0m filtered_tb \u001b[38;5;241m=\u001b[39m \u001b[38;5;28;01mNone\u001b[39;00m\n\u001b[0;32m    149\u001b[0m \u001b[38;5;28;01mtry\u001b[39;00m:\n\u001b[1;32m--> 150\u001b[0m   \u001b[38;5;28;01mreturn\u001b[39;00m fn(\u001b[38;5;241m*\u001b[39margs, \u001b[38;5;241m*\u001b[39m\u001b[38;5;241m*\u001b[39mkwargs)\n\u001b[0;32m    151\u001b[0m \u001b[38;5;28;01mexcept\u001b[39;00m \u001b[38;5;167;01mException\u001b[39;00m \u001b[38;5;28;01mas\u001b[39;00m e:\n\u001b[0;32m    152\u001b[0m   filtered_tb \u001b[38;5;241m=\u001b[39m _process_traceback_frames(e\u001b[38;5;241m.\u001b[39m__traceback__)\n",
      "File \u001b[1;32m~\\anaconda3\\lib\\site-packages\\tensorflow\\python\\eager\\def_function.py:915\u001b[0m, in \u001b[0;36mFunction.__call__\u001b[1;34m(self, *args, **kwds)\u001b[0m\n\u001b[0;32m    912\u001b[0m compiler \u001b[38;5;241m=\u001b[39m \u001b[38;5;124m\"\u001b[39m\u001b[38;5;124mxla\u001b[39m\u001b[38;5;124m\"\u001b[39m \u001b[38;5;28;01mif\u001b[39;00m \u001b[38;5;28mself\u001b[39m\u001b[38;5;241m.\u001b[39m_jit_compile \u001b[38;5;28;01melse\u001b[39;00m \u001b[38;5;124m\"\u001b[39m\u001b[38;5;124mnonXla\u001b[39m\u001b[38;5;124m\"\u001b[39m\n\u001b[0;32m    914\u001b[0m \u001b[38;5;28;01mwith\u001b[39;00m OptionalXlaContext(\u001b[38;5;28mself\u001b[39m\u001b[38;5;241m.\u001b[39m_jit_compile):\n\u001b[1;32m--> 915\u001b[0m   result \u001b[38;5;241m=\u001b[39m \u001b[38;5;28mself\u001b[39m\u001b[38;5;241m.\u001b[39m_call(\u001b[38;5;241m*\u001b[39margs, \u001b[38;5;241m*\u001b[39m\u001b[38;5;241m*\u001b[39mkwds)\n\u001b[0;32m    917\u001b[0m new_tracing_count \u001b[38;5;241m=\u001b[39m \u001b[38;5;28mself\u001b[39m\u001b[38;5;241m.\u001b[39mexperimental_get_tracing_count()\n\u001b[0;32m    918\u001b[0m without_tracing \u001b[38;5;241m=\u001b[39m (tracing_count \u001b[38;5;241m==\u001b[39m new_tracing_count)\n",
      "File \u001b[1;32m~\\anaconda3\\lib\\site-packages\\tensorflow\\python\\eager\\def_function.py:947\u001b[0m, in \u001b[0;36mFunction._call\u001b[1;34m(self, *args, **kwds)\u001b[0m\n\u001b[0;32m    944\u001b[0m   \u001b[38;5;28mself\u001b[39m\u001b[38;5;241m.\u001b[39m_lock\u001b[38;5;241m.\u001b[39mrelease()\n\u001b[0;32m    945\u001b[0m   \u001b[38;5;66;03m# In this case we have created variables on the first call, so we run the\u001b[39;00m\n\u001b[0;32m    946\u001b[0m   \u001b[38;5;66;03m# defunned version which is guaranteed to never create variables.\u001b[39;00m\n\u001b[1;32m--> 947\u001b[0m   \u001b[38;5;28;01mreturn\u001b[39;00m \u001b[38;5;28mself\u001b[39m\u001b[38;5;241m.\u001b[39m_stateless_fn(\u001b[38;5;241m*\u001b[39margs, \u001b[38;5;241m*\u001b[39m\u001b[38;5;241m*\u001b[39mkwds)  \u001b[38;5;66;03m# pylint: disable=not-callable\u001b[39;00m\n\u001b[0;32m    948\u001b[0m \u001b[38;5;28;01melif\u001b[39;00m \u001b[38;5;28mself\u001b[39m\u001b[38;5;241m.\u001b[39m_stateful_fn \u001b[38;5;129;01mis\u001b[39;00m \u001b[38;5;129;01mnot\u001b[39;00m \u001b[38;5;28;01mNone\u001b[39;00m:\n\u001b[0;32m    949\u001b[0m   \u001b[38;5;66;03m# Release the lock early so that multiple threads can perform the call\u001b[39;00m\n\u001b[0;32m    950\u001b[0m   \u001b[38;5;66;03m# in parallel.\u001b[39;00m\n\u001b[0;32m    951\u001b[0m   \u001b[38;5;28mself\u001b[39m\u001b[38;5;241m.\u001b[39m_lock\u001b[38;5;241m.\u001b[39mrelease()\n",
      "File \u001b[1;32m~\\anaconda3\\lib\\site-packages\\tensorflow\\python\\eager\\function.py:2496\u001b[0m, in \u001b[0;36mFunction.__call__\u001b[1;34m(self, *args, **kwargs)\u001b[0m\n\u001b[0;32m   2493\u001b[0m \u001b[38;5;28;01mwith\u001b[39;00m \u001b[38;5;28mself\u001b[39m\u001b[38;5;241m.\u001b[39m_lock:\n\u001b[0;32m   2494\u001b[0m   (graph_function,\n\u001b[0;32m   2495\u001b[0m    filtered_flat_args) \u001b[38;5;241m=\u001b[39m \u001b[38;5;28mself\u001b[39m\u001b[38;5;241m.\u001b[39m_maybe_define_function(args, kwargs)\n\u001b[1;32m-> 2496\u001b[0m \u001b[38;5;28;01mreturn\u001b[39;00m \u001b[43mgraph_function\u001b[49m\u001b[38;5;241;43m.\u001b[39;49m\u001b[43m_call_flat\u001b[49m\u001b[43m(\u001b[49m\n\u001b[0;32m   2497\u001b[0m \u001b[43m    \u001b[49m\u001b[43mfiltered_flat_args\u001b[49m\u001b[43m,\u001b[49m\u001b[43m \u001b[49m\u001b[43mcaptured_inputs\u001b[49m\u001b[38;5;241;43m=\u001b[39;49m\u001b[43mgraph_function\u001b[49m\u001b[38;5;241;43m.\u001b[39;49m\u001b[43mcaptured_inputs\u001b[49m\u001b[43m)\u001b[49m\n",
      "File \u001b[1;32m~\\anaconda3\\lib\\site-packages\\tensorflow\\python\\eager\\function.py:1862\u001b[0m, in \u001b[0;36mConcreteFunction._call_flat\u001b[1;34m(self, args, captured_inputs, cancellation_manager)\u001b[0m\n\u001b[0;32m   1858\u001b[0m possible_gradient_type \u001b[38;5;241m=\u001b[39m gradients_util\u001b[38;5;241m.\u001b[39mPossibleTapeGradientTypes(args)\n\u001b[0;32m   1859\u001b[0m \u001b[38;5;28;01mif\u001b[39;00m (possible_gradient_type \u001b[38;5;241m==\u001b[39m gradients_util\u001b[38;5;241m.\u001b[39mPOSSIBLE_GRADIENT_TYPES_NONE\n\u001b[0;32m   1860\u001b[0m     \u001b[38;5;129;01mand\u001b[39;00m executing_eagerly):\n\u001b[0;32m   1861\u001b[0m   \u001b[38;5;66;03m# No tape is watching; skip to running the function.\u001b[39;00m\n\u001b[1;32m-> 1862\u001b[0m   \u001b[38;5;28;01mreturn\u001b[39;00m \u001b[38;5;28mself\u001b[39m\u001b[38;5;241m.\u001b[39m_build_call_outputs(\u001b[38;5;28;43mself\u001b[39;49m\u001b[38;5;241;43m.\u001b[39;49m\u001b[43m_inference_function\u001b[49m\u001b[38;5;241;43m.\u001b[39;49m\u001b[43mcall\u001b[49m\u001b[43m(\u001b[49m\n\u001b[0;32m   1863\u001b[0m \u001b[43m      \u001b[49m\u001b[43mctx\u001b[49m\u001b[43m,\u001b[49m\u001b[43m \u001b[49m\u001b[43margs\u001b[49m\u001b[43m,\u001b[49m\u001b[43m \u001b[49m\u001b[43mcancellation_manager\u001b[49m\u001b[38;5;241;43m=\u001b[39;49m\u001b[43mcancellation_manager\u001b[49m\u001b[43m)\u001b[49m)\n\u001b[0;32m   1864\u001b[0m forward_backward \u001b[38;5;241m=\u001b[39m \u001b[38;5;28mself\u001b[39m\u001b[38;5;241m.\u001b[39m_select_forward_and_backward_functions(\n\u001b[0;32m   1865\u001b[0m     args,\n\u001b[0;32m   1866\u001b[0m     possible_gradient_type,\n\u001b[0;32m   1867\u001b[0m     executing_eagerly)\n\u001b[0;32m   1868\u001b[0m forward_function, args_with_tangents \u001b[38;5;241m=\u001b[39m forward_backward\u001b[38;5;241m.\u001b[39mforward()\n",
      "File \u001b[1;32m~\\anaconda3\\lib\\site-packages\\tensorflow\\python\\eager\\function.py:499\u001b[0m, in \u001b[0;36m_EagerDefinedFunction.call\u001b[1;34m(self, ctx, args, cancellation_manager)\u001b[0m\n\u001b[0;32m    497\u001b[0m \u001b[38;5;28;01mwith\u001b[39;00m _InterpolateFunctionError(\u001b[38;5;28mself\u001b[39m):\n\u001b[0;32m    498\u001b[0m   \u001b[38;5;28;01mif\u001b[39;00m cancellation_manager \u001b[38;5;129;01mis\u001b[39;00m \u001b[38;5;28;01mNone\u001b[39;00m:\n\u001b[1;32m--> 499\u001b[0m     outputs \u001b[38;5;241m=\u001b[39m \u001b[43mexecute\u001b[49m\u001b[38;5;241;43m.\u001b[39;49m\u001b[43mexecute\u001b[49m\u001b[43m(\u001b[49m\n\u001b[0;32m    500\u001b[0m \u001b[43m        \u001b[49m\u001b[38;5;28;43mstr\u001b[39;49m\u001b[43m(\u001b[49m\u001b[38;5;28;43mself\u001b[39;49m\u001b[38;5;241;43m.\u001b[39;49m\u001b[43msignature\u001b[49m\u001b[38;5;241;43m.\u001b[39;49m\u001b[43mname\u001b[49m\u001b[43m)\u001b[49m\u001b[43m,\u001b[49m\n\u001b[0;32m    501\u001b[0m \u001b[43m        \u001b[49m\u001b[43mnum_outputs\u001b[49m\u001b[38;5;241;43m=\u001b[39;49m\u001b[38;5;28;43mself\u001b[39;49m\u001b[38;5;241;43m.\u001b[39;49m\u001b[43m_num_outputs\u001b[49m\u001b[43m,\u001b[49m\n\u001b[0;32m    502\u001b[0m \u001b[43m        \u001b[49m\u001b[43minputs\u001b[49m\u001b[38;5;241;43m=\u001b[39;49m\u001b[43margs\u001b[49m\u001b[43m,\u001b[49m\n\u001b[0;32m    503\u001b[0m \u001b[43m        \u001b[49m\u001b[43mattrs\u001b[49m\u001b[38;5;241;43m=\u001b[39;49m\u001b[43mattrs\u001b[49m\u001b[43m,\u001b[49m\n\u001b[0;32m    504\u001b[0m \u001b[43m        \u001b[49m\u001b[43mctx\u001b[49m\u001b[38;5;241;43m=\u001b[39;49m\u001b[43mctx\u001b[49m\u001b[43m)\u001b[49m\n\u001b[0;32m    505\u001b[0m   \u001b[38;5;28;01melse\u001b[39;00m:\n\u001b[0;32m    506\u001b[0m     outputs \u001b[38;5;241m=\u001b[39m execute\u001b[38;5;241m.\u001b[39mexecute_with_cancellation(\n\u001b[0;32m    507\u001b[0m         \u001b[38;5;28mstr\u001b[39m(\u001b[38;5;28mself\u001b[39m\u001b[38;5;241m.\u001b[39msignature\u001b[38;5;241m.\u001b[39mname),\n\u001b[0;32m    508\u001b[0m         num_outputs\u001b[38;5;241m=\u001b[39m\u001b[38;5;28mself\u001b[39m\u001b[38;5;241m.\u001b[39m_num_outputs,\n\u001b[1;32m   (...)\u001b[0m\n\u001b[0;32m    511\u001b[0m         ctx\u001b[38;5;241m=\u001b[39mctx,\n\u001b[0;32m    512\u001b[0m         cancellation_manager\u001b[38;5;241m=\u001b[39mcancellation_manager)\n",
      "File \u001b[1;32m~\\anaconda3\\lib\\site-packages\\tensorflow\\python\\eager\\execute.py:54\u001b[0m, in \u001b[0;36mquick_execute\u001b[1;34m(op_name, num_outputs, inputs, attrs, ctx, name)\u001b[0m\n\u001b[0;32m     52\u001b[0m \u001b[38;5;28;01mtry\u001b[39;00m:\n\u001b[0;32m     53\u001b[0m   ctx\u001b[38;5;241m.\u001b[39mensure_initialized()\n\u001b[1;32m---> 54\u001b[0m   tensors \u001b[38;5;241m=\u001b[39m \u001b[43mpywrap_tfe\u001b[49m\u001b[38;5;241;43m.\u001b[39;49m\u001b[43mTFE_Py_Execute\u001b[49m\u001b[43m(\u001b[49m\u001b[43mctx\u001b[49m\u001b[38;5;241;43m.\u001b[39;49m\u001b[43m_handle\u001b[49m\u001b[43m,\u001b[49m\u001b[43m \u001b[49m\u001b[43mdevice_name\u001b[49m\u001b[43m,\u001b[49m\u001b[43m \u001b[49m\u001b[43mop_name\u001b[49m\u001b[43m,\u001b[49m\n\u001b[0;32m     55\u001b[0m \u001b[43m                                      \u001b[49m\u001b[43minputs\u001b[49m\u001b[43m,\u001b[49m\u001b[43m \u001b[49m\u001b[43mattrs\u001b[49m\u001b[43m,\u001b[49m\u001b[43m \u001b[49m\u001b[43mnum_outputs\u001b[49m\u001b[43m)\u001b[49m\n\u001b[0;32m     56\u001b[0m \u001b[38;5;28;01mexcept\u001b[39;00m core\u001b[38;5;241m.\u001b[39m_NotOkStatusException \u001b[38;5;28;01mas\u001b[39;00m e:\n\u001b[0;32m     57\u001b[0m   \u001b[38;5;28;01mif\u001b[39;00m name \u001b[38;5;129;01mis\u001b[39;00m \u001b[38;5;129;01mnot\u001b[39;00m \u001b[38;5;28;01mNone\u001b[39;00m:\n",
      "\u001b[1;31mKeyboardInterrupt\u001b[0m: "
     ]
    }
   ],
   "source": [
    "grid_result=grid.fit(X_validation, y_validation)"
   ]
  },
  {
   "cell_type": "code",
   "execution_count": null,
   "id": "b74abfe0",
   "metadata": {},
   "outputs": [],
   "source": []
  }
 ],
 "metadata": {
  "kernelspec": {
   "display_name": "Python 3 (ipykernel)",
   "language": "python",
   "name": "python3"
  },
  "language_info": {
   "codemirror_mode": {
    "name": "ipython",
    "version": 3
   },
   "file_extension": ".py",
   "mimetype": "text/x-python",
   "name": "python",
   "nbconvert_exporter": "python",
   "pygments_lexer": "ipython3",
   "version": "3.10.9"
  }
 },
 "nbformat": 4,
 "nbformat_minor": 5
}
