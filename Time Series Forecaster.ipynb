{
 "cells": [
  {
   "cell_type": "code",
   "execution_count": 3,
   "id": "68d39f4a",
   "metadata": {},
   "outputs": [],
   "source": [
    "import numpy as np\n",
    "import pandas as pd\n",
    "import matplotlib.pyplot as plt\n",
    "import datetime\n",
    "import time\n",
    "import requests\n",
    "import hmac\n",
    "import os\n",
    "import json\n",
    "from dotenv.main import load_dotenv\n",
    "from hashlib import sha256"
   ]
  },
  {
   "cell_type": "code",
   "execution_count": 4,
   "id": "0ab92207",
   "metadata": {},
   "outputs": [],
   "source": [
    "load_dotenv(\"./dev.env\")\n",
    "api_url=\"https://open-api.bingx.com\"\n",
    "api_key=os.getenv(\"api_key\")\n",
    "secret_key=os.getenv(\"secret_key\")"
   ]
  },
  {
   "cell_type": "code",
   "execution_count": 65,
   "id": "1f2ca5d9",
   "metadata": {},
   "outputs": [],
   "source": [
    "def data_mining(crypto_pair, interval, start_time, end_time):\n",
    "    payload = {}\n",
    "    path = '/openApi/swap/v2/quote/klines'\n",
    "    method = \"GET\"\n",
    "    start_timestamp=int(time.mktime(datetime.datetime.strptime(start_time,\"%Y/%m/%d\").timetuple())*1000)\n",
    "    end_timestamp=int(time.mktime(datetime.datetime.strptime(end_time,\"%Y/%m/%d\").timetuple())*1000)\n",
    "    timestamps=[]\n",
    "    data=[]\n",
    "    for i in range(start_timestamp, end_timestamp+1, 432000000):\n",
    "        timestamps.append(i)\n",
    "    \n",
    "    for j in range(len(timestamps)-1):\n",
    "        paramsMap = {\n",
    "            \"symbol\": crypto_pair,\n",
    "            \"interval\": interval,\n",
    "            \"startTime\": timestamps[j],\n",
    "            \"endTime\": timestamps[j+1],\n",
    "            \"limit\": 1440\n",
    "        }\n",
    "        paramsStr = praseParam(paramsMap)\n",
    "        data_dict=json.loads(send_request(method, path, paramsStr, payload))['data']\n",
    "        data_frame=pd.DataFrame(data_dict)\n",
    "        data.append(data_frame)\n",
    "    \n",
    "    return data_preprocessing(data)\n",
    "    \n",
    "def get_sign(api_secret, payload):\n",
    "    signature = hmac.new(api_secret.encode(\"utf-8\"), payload.encode(\"utf-8\"), digestmod=sha256).hexdigest()\n",
    "    return signature\n",
    "\n",
    "\n",
    "def send_request(method, path, urlpa, payload):\n",
    "    url = \"%s%s?%s&signature=%s\" % (api_url, path, urlpa, get_sign(secret_key, urlpa))\n",
    "    headers = {\n",
    "        'X-BX-APIKEY': api_key,\n",
    "    }\n",
    "    response = requests.request(method, url, headers=headers, data=payload)\n",
    "    return response.text\n",
    "\n",
    "def praseParam(paramsMap):\n",
    "    sortedKeys = sorted(paramsMap)\n",
    "    paramsStr = \"&\".join([\"%s=%s\" % (x, paramsMap[x]) for x in sortedKeys])\n",
    "    return paramsStr+\"&timestamp=\"+str(int(time.time() * 1000))\n",
    "\n",
    "def milisec_to_sec(x):\n",
    "    return x/1000\n",
    "\n",
    "def data_preprocessing(data_list):\n",
    "    df=pd.concat(data_list, ignore_index=True)\n",
    "    df['time']=df['time'].apply(milisec_to_sec)\n",
    "    df['time']=df['time'].apply(datetime.datetime.fromtimestamp)\n",
    "    df.drop(['time'])\n",
    "    return df"
   ]
  },
  {
   "cell_type": "code",
   "execution_count": null,
   "id": "efb3a6e5",
   "metadata": {},
   "outputs": [],
   "source": []
  }
 ],
 "metadata": {
  "kernelspec": {
   "display_name": "Python 3 (ipykernel)",
   "language": "python",
   "name": "python3"
  },
  "language_info": {
   "codemirror_mode": {
    "name": "ipython",
    "version": 3
   },
   "file_extension": ".py",
   "mimetype": "text/x-python",
   "name": "python",
   "nbconvert_exporter": "python",
   "pygments_lexer": "ipython3",
   "version": "3.10.9"
  }
 },
 "nbformat": 4,
 "nbformat_minor": 5
}
