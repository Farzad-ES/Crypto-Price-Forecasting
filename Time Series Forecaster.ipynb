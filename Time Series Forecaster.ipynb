{
 "cells": [
  {
   "cell_type": "code",
   "execution_count": 1,
   "id": "68d39f4a",
   "metadata": {},
   "outputs": [],
   "source": [
    "import numpy as np\n",
    "import pandas as pd\n",
    "import matplotlib.pyplot as plt\n",
    "import sklearn\n",
    "import tensorflow as tf\n",
    "import json\n",
    "import pickle\n",
    "from sklearn import preprocessing\n",
    "from sklearn import model_selection\n",
    "from sklearn.ensemble import RandomForestClassifier\n",
    "from sklearn.metrics import precision_score\n",
    "from scikeras.wrappers import KerasRegressor\n",
    "from keras.wrappers.scikit_learn import KerasClassifier\n",
    "from bayes_opt import BayesianOptimization  \n",
    "from Data_mining import data_mining"
   ]
  },
  {
   "cell_type": "code",
   "execution_count": 2,
   "id": "efb3a6e5",
   "metadata": {},
   "outputs": [],
   "source": [
    "#Data mining process\n",
    "#df=data_mining(\"ETH-USDT\", \"5m\", \"2020/04/09\", \"2023/08/11\")\n",
    "#df.to_csv(\"ETH-USDT_5m.csv\")\n",
    "#df"
   ]
  },
  {
   "cell_type": "code",
   "execution_count": 3,
   "id": "295f5dd0",
   "metadata": {},
   "outputs": [
    {
     "data": {
      "text/html": [
       "<div>\n",
       "<style scoped>\n",
       "    .dataframe tbody tr th:only-of-type {\n",
       "        vertical-align: middle;\n",
       "    }\n",
       "\n",
       "    .dataframe tbody tr th {\n",
       "        vertical-align: top;\n",
       "    }\n",
       "\n",
       "    .dataframe thead th {\n",
       "        text-align: right;\n",
       "    }\n",
       "</style>\n",
       "<table border=\"1\" class=\"dataframe\">\n",
       "  <thead>\n",
       "    <tr style=\"text-align: right;\">\n",
       "      <th></th>\n",
       "      <th>open</th>\n",
       "      <th>close</th>\n",
       "      <th>high</th>\n",
       "      <th>low</th>\n",
       "      <th>volume</th>\n",
       "    </tr>\n",
       "    <tr>\n",
       "      <th>time</th>\n",
       "      <th></th>\n",
       "      <th></th>\n",
       "      <th></th>\n",
       "      <th></th>\n",
       "      <th></th>\n",
       "    </tr>\n",
       "  </thead>\n",
       "  <tbody>\n",
       "    <tr>\n",
       "      <th>2020-04-09 00:00:00</th>\n",
       "      <td>172.20</td>\n",
       "      <td>172.12</td>\n",
       "      <td>172.34</td>\n",
       "      <td>172.07</td>\n",
       "      <td>204.24</td>\n",
       "    </tr>\n",
       "    <tr>\n",
       "      <th>2020-04-09 00:05:00</th>\n",
       "      <td>172.14</td>\n",
       "      <td>171.93</td>\n",
       "      <td>172.16</td>\n",
       "      <td>171.80</td>\n",
       "      <td>191.04</td>\n",
       "    </tr>\n",
       "    <tr>\n",
       "      <th>2020-04-09 00:10:00</th>\n",
       "      <td>171.94</td>\n",
       "      <td>172.12</td>\n",
       "      <td>172.26</td>\n",
       "      <td>171.91</td>\n",
       "      <td>200.84</td>\n",
       "    </tr>\n",
       "    <tr>\n",
       "      <th>2020-04-09 00:15:00</th>\n",
       "      <td>172.12</td>\n",
       "      <td>172.02</td>\n",
       "      <td>172.28</td>\n",
       "      <td>171.98</td>\n",
       "      <td>198.00</td>\n",
       "    </tr>\n",
       "    <tr>\n",
       "      <th>2020-04-09 00:20:00</th>\n",
       "      <td>171.99</td>\n",
       "      <td>171.87</td>\n",
       "      <td>172.10</td>\n",
       "      <td>171.72</td>\n",
       "      <td>208.17</td>\n",
       "    </tr>\n",
       "    <tr>\n",
       "      <th>...</th>\n",
       "      <td>...</td>\n",
       "      <td>...</td>\n",
       "      <td>...</td>\n",
       "      <td>...</td>\n",
       "      <td>...</td>\n",
       "    </tr>\n",
       "    <tr>\n",
       "      <th>2023-08-10 23:35:00</th>\n",
       "      <td>1849.86</td>\n",
       "      <td>1850.13</td>\n",
       "      <td>1850.13</td>\n",
       "      <td>1849.32</td>\n",
       "      <td>585.88</td>\n",
       "    </tr>\n",
       "    <tr>\n",
       "      <th>2023-08-10 23:40:00</th>\n",
       "      <td>1850.14</td>\n",
       "      <td>1850.67</td>\n",
       "      <td>1850.71</td>\n",
       "      <td>1850.00</td>\n",
       "      <td>443.23</td>\n",
       "    </tr>\n",
       "    <tr>\n",
       "      <th>2023-08-10 23:45:00</th>\n",
       "      <td>1850.67</td>\n",
       "      <td>1851.03</td>\n",
       "      <td>1851.54</td>\n",
       "      <td>1850.67</td>\n",
       "      <td>1229.89</td>\n",
       "    </tr>\n",
       "    <tr>\n",
       "      <th>2023-08-10 23:50:00</th>\n",
       "      <td>1851.04</td>\n",
       "      <td>1850.37</td>\n",
       "      <td>1851.04</td>\n",
       "      <td>1850.10</td>\n",
       "      <td>212.13</td>\n",
       "    </tr>\n",
       "    <tr>\n",
       "      <th>2023-08-10 23:55:00</th>\n",
       "      <td>1850.37</td>\n",
       "      <td>1850.45</td>\n",
       "      <td>1850.46</td>\n",
       "      <td>1850.37</td>\n",
       "      <td>173.34</td>\n",
       "    </tr>\n",
       "  </tbody>\n",
       "</table>\n",
       "<p>351347 rows × 5 columns</p>\n",
       "</div>"
      ],
      "text/plain": [
       "                        open    close     high      low   volume\n",
       "time                                                            \n",
       "2020-04-09 00:00:00   172.20   172.12   172.34   172.07   204.24\n",
       "2020-04-09 00:05:00   172.14   171.93   172.16   171.80   191.04\n",
       "2020-04-09 00:10:00   171.94   172.12   172.26   171.91   200.84\n",
       "2020-04-09 00:15:00   172.12   172.02   172.28   171.98   198.00\n",
       "2020-04-09 00:20:00   171.99   171.87   172.10   171.72   208.17\n",
       "...                      ...      ...      ...      ...      ...\n",
       "2023-08-10 23:35:00  1849.86  1850.13  1850.13  1849.32   585.88\n",
       "2023-08-10 23:40:00  1850.14  1850.67  1850.71  1850.00   443.23\n",
       "2023-08-10 23:45:00  1850.67  1851.03  1851.54  1850.67  1229.89\n",
       "2023-08-10 23:50:00  1851.04  1850.37  1851.04  1850.10   212.13\n",
       "2023-08-10 23:55:00  1850.37  1850.45  1850.46  1850.37   173.34\n",
       "\n",
       "[351347 rows x 5 columns]"
      ]
     },
     "execution_count": 3,
     "metadata": {},
     "output_type": "execute_result"
    }
   ],
   "source": [
    "df=pd.read_csv('./ETH-USDT_5m.csv')\n",
    "df=df.set_index(['time'])\n",
    "df"
   ]
  },
  {
   "cell_type": "code",
   "execution_count": 4,
   "id": "c9987a2d",
   "metadata": {},
   "outputs": [
    {
     "data": {
      "text/plain": [
       "DatetimeIndex([], dtype='datetime64[ns]', freq=None)"
      ]
     },
     "execution_count": 4,
     "metadata": {},
     "output_type": "execute_result"
    }
   ],
   "source": [
    "pd.date_range(start='2021-01-01 00:00:00', end='2023-08-03 23:55:00').difference(df.index)"
   ]
  },
  {
   "cell_type": "code",
   "execution_count": 5,
   "id": "c433be3c",
   "metadata": {},
   "outputs": [
    {
     "data": {
      "text/html": [
       "<div>\n",
       "<style scoped>\n",
       "    .dataframe tbody tr th:only-of-type {\n",
       "        vertical-align: middle;\n",
       "    }\n",
       "\n",
       "    .dataframe tbody tr th {\n",
       "        vertical-align: top;\n",
       "    }\n",
       "\n",
       "    .dataframe thead th {\n",
       "        text-align: right;\n",
       "    }\n",
       "</style>\n",
       "<table border=\"1\" class=\"dataframe\">\n",
       "  <thead>\n",
       "    <tr style=\"text-align: right;\">\n",
       "      <th></th>\n",
       "      <th>open</th>\n",
       "      <th>close</th>\n",
       "      <th>high</th>\n",
       "      <th>low</th>\n",
       "      <th>volume</th>\n",
       "      <th>tomorrow</th>\n",
       "      <th>target</th>\n",
       "    </tr>\n",
       "    <tr>\n",
       "      <th>time</th>\n",
       "      <th></th>\n",
       "      <th></th>\n",
       "      <th></th>\n",
       "      <th></th>\n",
       "      <th></th>\n",
       "      <th></th>\n",
       "      <th></th>\n",
       "    </tr>\n",
       "  </thead>\n",
       "  <tbody>\n",
       "    <tr>\n",
       "      <th>2020-04-09 00:00:00</th>\n",
       "      <td>172.20</td>\n",
       "      <td>172.12</td>\n",
       "      <td>172.34</td>\n",
       "      <td>172.07</td>\n",
       "      <td>204.24</td>\n",
       "      <td>171.93</td>\n",
       "      <td>0</td>\n",
       "    </tr>\n",
       "    <tr>\n",
       "      <th>2020-04-09 00:05:00</th>\n",
       "      <td>172.14</td>\n",
       "      <td>171.93</td>\n",
       "      <td>172.16</td>\n",
       "      <td>171.80</td>\n",
       "      <td>191.04</td>\n",
       "      <td>172.12</td>\n",
       "      <td>1</td>\n",
       "    </tr>\n",
       "    <tr>\n",
       "      <th>2020-04-09 00:10:00</th>\n",
       "      <td>171.94</td>\n",
       "      <td>172.12</td>\n",
       "      <td>172.26</td>\n",
       "      <td>171.91</td>\n",
       "      <td>200.84</td>\n",
       "      <td>172.02</td>\n",
       "      <td>0</td>\n",
       "    </tr>\n",
       "    <tr>\n",
       "      <th>2020-04-09 00:15:00</th>\n",
       "      <td>172.12</td>\n",
       "      <td>172.02</td>\n",
       "      <td>172.28</td>\n",
       "      <td>171.98</td>\n",
       "      <td>198.00</td>\n",
       "      <td>171.87</td>\n",
       "      <td>0</td>\n",
       "    </tr>\n",
       "    <tr>\n",
       "      <th>2020-04-09 00:20:00</th>\n",
       "      <td>171.99</td>\n",
       "      <td>171.87</td>\n",
       "      <td>172.10</td>\n",
       "      <td>171.72</td>\n",
       "      <td>208.17</td>\n",
       "      <td>171.88</td>\n",
       "      <td>1</td>\n",
       "    </tr>\n",
       "    <tr>\n",
       "      <th>...</th>\n",
       "      <td>...</td>\n",
       "      <td>...</td>\n",
       "      <td>...</td>\n",
       "      <td>...</td>\n",
       "      <td>...</td>\n",
       "      <td>...</td>\n",
       "      <td>...</td>\n",
       "    </tr>\n",
       "    <tr>\n",
       "      <th>2023-08-10 23:35:00</th>\n",
       "      <td>1849.86</td>\n",
       "      <td>1850.13</td>\n",
       "      <td>1850.13</td>\n",
       "      <td>1849.32</td>\n",
       "      <td>585.88</td>\n",
       "      <td>1850.67</td>\n",
       "      <td>1</td>\n",
       "    </tr>\n",
       "    <tr>\n",
       "      <th>2023-08-10 23:40:00</th>\n",
       "      <td>1850.14</td>\n",
       "      <td>1850.67</td>\n",
       "      <td>1850.71</td>\n",
       "      <td>1850.00</td>\n",
       "      <td>443.23</td>\n",
       "      <td>1851.03</td>\n",
       "      <td>1</td>\n",
       "    </tr>\n",
       "    <tr>\n",
       "      <th>2023-08-10 23:45:00</th>\n",
       "      <td>1850.67</td>\n",
       "      <td>1851.03</td>\n",
       "      <td>1851.54</td>\n",
       "      <td>1850.67</td>\n",
       "      <td>1229.89</td>\n",
       "      <td>1850.37</td>\n",
       "      <td>0</td>\n",
       "    </tr>\n",
       "    <tr>\n",
       "      <th>2023-08-10 23:50:00</th>\n",
       "      <td>1851.04</td>\n",
       "      <td>1850.37</td>\n",
       "      <td>1851.04</td>\n",
       "      <td>1850.10</td>\n",
       "      <td>212.13</td>\n",
       "      <td>1850.45</td>\n",
       "      <td>1</td>\n",
       "    </tr>\n",
       "    <tr>\n",
       "      <th>2023-08-10 23:55:00</th>\n",
       "      <td>1850.37</td>\n",
       "      <td>1850.45</td>\n",
       "      <td>1850.46</td>\n",
       "      <td>1850.37</td>\n",
       "      <td>173.34</td>\n",
       "      <td>NaN</td>\n",
       "      <td>0</td>\n",
       "    </tr>\n",
       "  </tbody>\n",
       "</table>\n",
       "<p>351347 rows × 7 columns</p>\n",
       "</div>"
      ],
      "text/plain": [
       "                        open    close     high      low   volume  tomorrow  \\\n",
       "time                                                                         \n",
       "2020-04-09 00:00:00   172.20   172.12   172.34   172.07   204.24    171.93   \n",
       "2020-04-09 00:05:00   172.14   171.93   172.16   171.80   191.04    172.12   \n",
       "2020-04-09 00:10:00   171.94   172.12   172.26   171.91   200.84    172.02   \n",
       "2020-04-09 00:15:00   172.12   172.02   172.28   171.98   198.00    171.87   \n",
       "2020-04-09 00:20:00   171.99   171.87   172.10   171.72   208.17    171.88   \n",
       "...                      ...      ...      ...      ...      ...       ...   \n",
       "2023-08-10 23:35:00  1849.86  1850.13  1850.13  1849.32   585.88   1850.67   \n",
       "2023-08-10 23:40:00  1850.14  1850.67  1850.71  1850.00   443.23   1851.03   \n",
       "2023-08-10 23:45:00  1850.67  1851.03  1851.54  1850.67  1229.89   1850.37   \n",
       "2023-08-10 23:50:00  1851.04  1850.37  1851.04  1850.10   212.13   1850.45   \n",
       "2023-08-10 23:55:00  1850.37  1850.45  1850.46  1850.37   173.34       NaN   \n",
       "\n",
       "                     target  \n",
       "time                         \n",
       "2020-04-09 00:00:00       0  \n",
       "2020-04-09 00:05:00       1  \n",
       "2020-04-09 00:10:00       0  \n",
       "2020-04-09 00:15:00       0  \n",
       "2020-04-09 00:20:00       1  \n",
       "...                     ...  \n",
       "2023-08-10 23:35:00       1  \n",
       "2023-08-10 23:40:00       1  \n",
       "2023-08-10 23:45:00       0  \n",
       "2023-08-10 23:50:00       1  \n",
       "2023-08-10 23:55:00       0  \n",
       "\n",
       "[351347 rows x 7 columns]"
      ]
     },
     "execution_count": 5,
     "metadata": {},
     "output_type": "execute_result"
    }
   ],
   "source": [
    "df['tomorrow']=df['close'].shift(-1)\n",
    "df['target']=(df['tomorrow'] > df['close']).astype(int)\n",
    "df"
   ]
  },
  {
   "cell_type": "code",
   "execution_count": 6,
   "id": "133f4462",
   "metadata": {},
   "outputs": [],
   "source": [
    "df=df.drop(df.index[-1])\n",
    "del df['tomorrow']"
   ]
  },
  {
   "cell_type": "code",
   "execution_count": 7,
   "id": "33a73595",
   "metadata": {},
   "outputs": [
    {
     "data": {
      "text/html": [
       "<div>\n",
       "<style scoped>\n",
       "    .dataframe tbody tr th:only-of-type {\n",
       "        vertical-align: middle;\n",
       "    }\n",
       "\n",
       "    .dataframe tbody tr th {\n",
       "        vertical-align: top;\n",
       "    }\n",
       "\n",
       "    .dataframe thead th {\n",
       "        text-align: right;\n",
       "    }\n",
       "</style>\n",
       "<table border=\"1\" class=\"dataframe\">\n",
       "  <thead>\n",
       "    <tr style=\"text-align: right;\">\n",
       "      <th></th>\n",
       "      <th>open</th>\n",
       "      <th>close</th>\n",
       "      <th>high</th>\n",
       "      <th>low</th>\n",
       "      <th>volume</th>\n",
       "      <th>target</th>\n",
       "    </tr>\n",
       "    <tr>\n",
       "      <th>time</th>\n",
       "      <th></th>\n",
       "      <th></th>\n",
       "      <th></th>\n",
       "      <th></th>\n",
       "      <th></th>\n",
       "      <th></th>\n",
       "    </tr>\n",
       "  </thead>\n",
       "  <tbody>\n",
       "    <tr>\n",
       "      <th>2020-04-09 00:00:00</th>\n",
       "      <td>172.20</td>\n",
       "      <td>172.12</td>\n",
       "      <td>172.34</td>\n",
       "      <td>172.07</td>\n",
       "      <td>204.24</td>\n",
       "      <td>0</td>\n",
       "    </tr>\n",
       "    <tr>\n",
       "      <th>2020-04-09 00:05:00</th>\n",
       "      <td>172.14</td>\n",
       "      <td>171.93</td>\n",
       "      <td>172.16</td>\n",
       "      <td>171.80</td>\n",
       "      <td>191.04</td>\n",
       "      <td>1</td>\n",
       "    </tr>\n",
       "    <tr>\n",
       "      <th>2020-04-09 00:10:00</th>\n",
       "      <td>171.94</td>\n",
       "      <td>172.12</td>\n",
       "      <td>172.26</td>\n",
       "      <td>171.91</td>\n",
       "      <td>200.84</td>\n",
       "      <td>0</td>\n",
       "    </tr>\n",
       "    <tr>\n",
       "      <th>2020-04-09 00:15:00</th>\n",
       "      <td>172.12</td>\n",
       "      <td>172.02</td>\n",
       "      <td>172.28</td>\n",
       "      <td>171.98</td>\n",
       "      <td>198.00</td>\n",
       "      <td>0</td>\n",
       "    </tr>\n",
       "    <tr>\n",
       "      <th>2020-04-09 00:20:00</th>\n",
       "      <td>171.99</td>\n",
       "      <td>171.87</td>\n",
       "      <td>172.10</td>\n",
       "      <td>171.72</td>\n",
       "      <td>208.17</td>\n",
       "      <td>1</td>\n",
       "    </tr>\n",
       "    <tr>\n",
       "      <th>...</th>\n",
       "      <td>...</td>\n",
       "      <td>...</td>\n",
       "      <td>...</td>\n",
       "      <td>...</td>\n",
       "      <td>...</td>\n",
       "      <td>...</td>\n",
       "    </tr>\n",
       "    <tr>\n",
       "      <th>2023-08-10 23:30:00</th>\n",
       "      <td>1849.37</td>\n",
       "      <td>1849.86</td>\n",
       "      <td>1849.86</td>\n",
       "      <td>1849.32</td>\n",
       "      <td>666.97</td>\n",
       "      <td>1</td>\n",
       "    </tr>\n",
       "    <tr>\n",
       "      <th>2023-08-10 23:35:00</th>\n",
       "      <td>1849.86</td>\n",
       "      <td>1850.13</td>\n",
       "      <td>1850.13</td>\n",
       "      <td>1849.32</td>\n",
       "      <td>585.88</td>\n",
       "      <td>1</td>\n",
       "    </tr>\n",
       "    <tr>\n",
       "      <th>2023-08-10 23:40:00</th>\n",
       "      <td>1850.14</td>\n",
       "      <td>1850.67</td>\n",
       "      <td>1850.71</td>\n",
       "      <td>1850.00</td>\n",
       "      <td>443.23</td>\n",
       "      <td>1</td>\n",
       "    </tr>\n",
       "    <tr>\n",
       "      <th>2023-08-10 23:45:00</th>\n",
       "      <td>1850.67</td>\n",
       "      <td>1851.03</td>\n",
       "      <td>1851.54</td>\n",
       "      <td>1850.67</td>\n",
       "      <td>1229.89</td>\n",
       "      <td>0</td>\n",
       "    </tr>\n",
       "    <tr>\n",
       "      <th>2023-08-10 23:50:00</th>\n",
       "      <td>1851.04</td>\n",
       "      <td>1850.37</td>\n",
       "      <td>1851.04</td>\n",
       "      <td>1850.10</td>\n",
       "      <td>212.13</td>\n",
       "      <td>1</td>\n",
       "    </tr>\n",
       "  </tbody>\n",
       "</table>\n",
       "<p>351346 rows × 6 columns</p>\n",
       "</div>"
      ],
      "text/plain": [
       "                        open    close     high      low   volume  target\n",
       "time                                                                    \n",
       "2020-04-09 00:00:00   172.20   172.12   172.34   172.07   204.24       0\n",
       "2020-04-09 00:05:00   172.14   171.93   172.16   171.80   191.04       1\n",
       "2020-04-09 00:10:00   171.94   172.12   172.26   171.91   200.84       0\n",
       "2020-04-09 00:15:00   172.12   172.02   172.28   171.98   198.00       0\n",
       "2020-04-09 00:20:00   171.99   171.87   172.10   171.72   208.17       1\n",
       "...                      ...      ...      ...      ...      ...     ...\n",
       "2023-08-10 23:30:00  1849.37  1849.86  1849.86  1849.32   666.97       1\n",
       "2023-08-10 23:35:00  1849.86  1850.13  1850.13  1849.32   585.88       1\n",
       "2023-08-10 23:40:00  1850.14  1850.67  1850.71  1850.00   443.23       1\n",
       "2023-08-10 23:45:00  1850.67  1851.03  1851.54  1850.67  1229.89       0\n",
       "2023-08-10 23:50:00  1851.04  1850.37  1851.04  1850.10   212.13       1\n",
       "\n",
       "[351346 rows x 6 columns]"
      ]
     },
     "execution_count": 7,
     "metadata": {},
     "output_type": "execute_result"
    }
   ],
   "source": [
    "df"
   ]
  },
  {
   "cell_type": "code",
   "execution_count": 8,
   "id": "b69c3084",
   "metadata": {},
   "outputs": [],
   "source": [
    "horizons=[12, 60, 120, 216, 288]\n",
    "new_predictors=[]\n",
    "\n",
    "for horizon in horizons:\n",
    "    rolling_averages=df.rolling(horizon).mean()\n",
    "    ratio_column=f\"Close_Ratio_{horizon}\"\n",
    "    df[ratio_column]=df['close']/rolling_averages['close']\n",
    "    \n",
    "    trend_column=f\"Trend_{horizon}\"\n",
    "    df[trend_column]=df.shift(1).rolling(horizon).sum()['target']\n",
    "    \n",
    "    new_predictors+=[ratio_column, trend_column]"
   ]
  },
  {
   "cell_type": "code",
   "execution_count": 9,
   "id": "c03e104e",
   "metadata": {},
   "outputs": [
    {
     "data": {
      "text/html": [
       "<div>\n",
       "<style scoped>\n",
       "    .dataframe tbody tr th:only-of-type {\n",
       "        vertical-align: middle;\n",
       "    }\n",
       "\n",
       "    .dataframe tbody tr th {\n",
       "        vertical-align: top;\n",
       "    }\n",
       "\n",
       "    .dataframe thead th {\n",
       "        text-align: right;\n",
       "    }\n",
       "</style>\n",
       "<table border=\"1\" class=\"dataframe\">\n",
       "  <thead>\n",
       "    <tr style=\"text-align: right;\">\n",
       "      <th></th>\n",
       "      <th>open</th>\n",
       "      <th>close</th>\n",
       "      <th>high</th>\n",
       "      <th>low</th>\n",
       "      <th>volume</th>\n",
       "      <th>target</th>\n",
       "      <th>Close_Ratio_12</th>\n",
       "      <th>Trend_12</th>\n",
       "      <th>Close_Ratio_60</th>\n",
       "      <th>Trend_60</th>\n",
       "      <th>Close_Ratio_120</th>\n",
       "      <th>Trend_120</th>\n",
       "      <th>Close_Ratio_216</th>\n",
       "      <th>Trend_216</th>\n",
       "      <th>Close_Ratio_288</th>\n",
       "      <th>Trend_288</th>\n",
       "    </tr>\n",
       "    <tr>\n",
       "      <th>time</th>\n",
       "      <th></th>\n",
       "      <th></th>\n",
       "      <th></th>\n",
       "      <th></th>\n",
       "      <th></th>\n",
       "      <th></th>\n",
       "      <th></th>\n",
       "      <th></th>\n",
       "      <th></th>\n",
       "      <th></th>\n",
       "      <th></th>\n",
       "      <th></th>\n",
       "      <th></th>\n",
       "      <th></th>\n",
       "      <th></th>\n",
       "      <th></th>\n",
       "    </tr>\n",
       "  </thead>\n",
       "  <tbody>\n",
       "    <tr>\n",
       "      <th>2020-04-10 00:00:00</th>\n",
       "      <td>169.03</td>\n",
       "      <td>168.94</td>\n",
       "      <td>169.04</td>\n",
       "      <td>168.86</td>\n",
       "      <td>190.78</td>\n",
       "      <td>1</td>\n",
       "      <td>0.999995</td>\n",
       "      <td>5.0</td>\n",
       "      <td>0.996742</td>\n",
       "      <td>27.0</td>\n",
       "      <td>0.994254</td>\n",
       "      <td>55.0</td>\n",
       "      <td>0.991846</td>\n",
       "      <td>106.0</td>\n",
       "      <td>0.989144</td>\n",
       "      <td>144.0</td>\n",
       "    </tr>\n",
       "    <tr>\n",
       "      <th>2020-04-10 00:05:00</th>\n",
       "      <td>168.94</td>\n",
       "      <td>169.06</td>\n",
       "      <td>169.16</td>\n",
       "      <td>168.94</td>\n",
       "      <td>212.42</td>\n",
       "      <td>1</td>\n",
       "      <td>1.000493</td>\n",
       "      <td>6.0</td>\n",
       "      <td>0.997531</td>\n",
       "      <td>27.0</td>\n",
       "      <td>0.995063</td>\n",
       "      <td>55.0</td>\n",
       "      <td>0.992593</td>\n",
       "      <td>107.0</td>\n",
       "      <td>0.989904</td>\n",
       "      <td>145.0</td>\n",
       "    </tr>\n",
       "    <tr>\n",
       "      <th>2020-04-10 00:10:00</th>\n",
       "      <td>169.03</td>\n",
       "      <td>169.64</td>\n",
       "      <td>169.68</td>\n",
       "      <td>169.00</td>\n",
       "      <td>183.46</td>\n",
       "      <td>1</td>\n",
       "      <td>1.003609</td>\n",
       "      <td>6.0</td>\n",
       "      <td>1.000937</td>\n",
       "      <td>28.0</td>\n",
       "      <td>0.998548</td>\n",
       "      <td>56.0</td>\n",
       "      <td>0.996041</td>\n",
       "      <td>107.0</td>\n",
       "      <td>0.993350</td>\n",
       "      <td>145.0</td>\n",
       "    </tr>\n",
       "    <tr>\n",
       "      <th>2020-04-10 00:15:00</th>\n",
       "      <td>169.66</td>\n",
       "      <td>169.69</td>\n",
       "      <td>169.69</td>\n",
       "      <td>169.43</td>\n",
       "      <td>199.67</td>\n",
       "      <td>1</td>\n",
       "      <td>1.003479</td>\n",
       "      <td>7.0</td>\n",
       "      <td>1.001224</td>\n",
       "      <td>28.0</td>\n",
       "      <td>0.998913</td>\n",
       "      <td>56.0</td>\n",
       "      <td>0.996384</td>\n",
       "      <td>107.0</td>\n",
       "      <td>0.993690</td>\n",
       "      <td>146.0</td>\n",
       "    </tr>\n",
       "    <tr>\n",
       "      <th>2020-04-10 00:20:00</th>\n",
       "      <td>169.68</td>\n",
       "      <td>170.48</td>\n",
       "      <td>170.48</td>\n",
       "      <td>169.57</td>\n",
       "      <td>190.82</td>\n",
       "      <td>0</td>\n",
       "      <td>1.007515</td>\n",
       "      <td>7.0</td>\n",
       "      <td>1.005791</td>\n",
       "      <td>29.0</td>\n",
       "      <td>1.003589</td>\n",
       "      <td>57.0</td>\n",
       "      <td>1.001046</td>\n",
       "      <td>108.0</td>\n",
       "      <td>0.998344</td>\n",
       "      <td>147.0</td>\n",
       "    </tr>\n",
       "    <tr>\n",
       "      <th>...</th>\n",
       "      <td>...</td>\n",
       "      <td>...</td>\n",
       "      <td>...</td>\n",
       "      <td>...</td>\n",
       "      <td>...</td>\n",
       "      <td>...</td>\n",
       "      <td>...</td>\n",
       "      <td>...</td>\n",
       "      <td>...</td>\n",
       "      <td>...</td>\n",
       "      <td>...</td>\n",
       "      <td>...</td>\n",
       "      <td>...</td>\n",
       "      <td>...</td>\n",
       "      <td>...</td>\n",
       "      <td>...</td>\n",
       "    </tr>\n",
       "    <tr>\n",
       "      <th>2023-08-10 23:30:00</th>\n",
       "      <td>1849.37</td>\n",
       "      <td>1849.86</td>\n",
       "      <td>1849.86</td>\n",
       "      <td>1849.32</td>\n",
       "      <td>666.97</td>\n",
       "      <td>1</td>\n",
       "      <td>1.000355</td>\n",
       "      <td>6.0</td>\n",
       "      <td>0.999631</td>\n",
       "      <td>28.0</td>\n",
       "      <td>0.998612</td>\n",
       "      <td>55.0</td>\n",
       "      <td>0.998719</td>\n",
       "      <td>96.0</td>\n",
       "      <td>0.998440</td>\n",
       "      <td>136.0</td>\n",
       "    </tr>\n",
       "    <tr>\n",
       "      <th>2023-08-10 23:35:00</th>\n",
       "      <td>1849.86</td>\n",
       "      <td>1850.13</td>\n",
       "      <td>1850.13</td>\n",
       "      <td>1849.32</td>\n",
       "      <td>585.88</td>\n",
       "      <td>1</td>\n",
       "      <td>1.000496</td>\n",
       "      <td>6.0</td>\n",
       "      <td>0.999792</td>\n",
       "      <td>29.0</td>\n",
       "      <td>0.998763</td>\n",
       "      <td>56.0</td>\n",
       "      <td>0.998877</td>\n",
       "      <td>96.0</td>\n",
       "      <td>0.998586</td>\n",
       "      <td>136.0</td>\n",
       "    </tr>\n",
       "    <tr>\n",
       "      <th>2023-08-10 23:40:00</th>\n",
       "      <td>1850.14</td>\n",
       "      <td>1850.67</td>\n",
       "      <td>1850.71</td>\n",
       "      <td>1850.00</td>\n",
       "      <td>443.23</td>\n",
       "      <td>1</td>\n",
       "      <td>1.000758</td>\n",
       "      <td>7.0</td>\n",
       "      <td>1.000107</td>\n",
       "      <td>29.0</td>\n",
       "      <td>0.999057</td>\n",
       "      <td>57.0</td>\n",
       "      <td>0.999183</td>\n",
       "      <td>96.0</td>\n",
       "      <td>0.998878</td>\n",
       "      <td>136.0</td>\n",
       "    </tr>\n",
       "    <tr>\n",
       "      <th>2023-08-10 23:45:00</th>\n",
       "      <td>1850.67</td>\n",
       "      <td>1851.03</td>\n",
       "      <td>1851.54</td>\n",
       "      <td>1850.67</td>\n",
       "      <td>1229.89</td>\n",
       "      <td>0</td>\n",
       "      <td>1.000896</td>\n",
       "      <td>8.0</td>\n",
       "      <td>1.000325</td>\n",
       "      <td>29.0</td>\n",
       "      <td>0.999252</td>\n",
       "      <td>58.0</td>\n",
       "      <td>0.999388</td>\n",
       "      <td>97.0</td>\n",
       "      <td>0.999073</td>\n",
       "      <td>136.0</td>\n",
       "    </tr>\n",
       "    <tr>\n",
       "      <th>2023-08-10 23:50:00</th>\n",
       "      <td>1851.04</td>\n",
       "      <td>1850.37</td>\n",
       "      <td>1851.04</td>\n",
       "      <td>1850.10</td>\n",
       "      <td>212.13</td>\n",
       "      <td>1</td>\n",
       "      <td>1.000481</td>\n",
       "      <td>8.0</td>\n",
       "      <td>0.999987</td>\n",
       "      <td>29.0</td>\n",
       "      <td>0.998895</td>\n",
       "      <td>58.0</td>\n",
       "      <td>0.999042</td>\n",
       "      <td>97.0</td>\n",
       "      <td>0.998719</td>\n",
       "      <td>135.0</td>\n",
       "    </tr>\n",
       "  </tbody>\n",
       "</table>\n",
       "<p>351058 rows × 16 columns</p>\n",
       "</div>"
      ],
      "text/plain": [
       "                        open    close     high      low   volume  target  \\\n",
       "time                                                                       \n",
       "2020-04-10 00:00:00   169.03   168.94   169.04   168.86   190.78       1   \n",
       "2020-04-10 00:05:00   168.94   169.06   169.16   168.94   212.42       1   \n",
       "2020-04-10 00:10:00   169.03   169.64   169.68   169.00   183.46       1   \n",
       "2020-04-10 00:15:00   169.66   169.69   169.69   169.43   199.67       1   \n",
       "2020-04-10 00:20:00   169.68   170.48   170.48   169.57   190.82       0   \n",
       "...                      ...      ...      ...      ...      ...     ...   \n",
       "2023-08-10 23:30:00  1849.37  1849.86  1849.86  1849.32   666.97       1   \n",
       "2023-08-10 23:35:00  1849.86  1850.13  1850.13  1849.32   585.88       1   \n",
       "2023-08-10 23:40:00  1850.14  1850.67  1850.71  1850.00   443.23       1   \n",
       "2023-08-10 23:45:00  1850.67  1851.03  1851.54  1850.67  1229.89       0   \n",
       "2023-08-10 23:50:00  1851.04  1850.37  1851.04  1850.10   212.13       1   \n",
       "\n",
       "                     Close_Ratio_12  Trend_12  Close_Ratio_60  Trend_60  \\\n",
       "time                                                                      \n",
       "2020-04-10 00:00:00        0.999995       5.0        0.996742      27.0   \n",
       "2020-04-10 00:05:00        1.000493       6.0        0.997531      27.0   \n",
       "2020-04-10 00:10:00        1.003609       6.0        1.000937      28.0   \n",
       "2020-04-10 00:15:00        1.003479       7.0        1.001224      28.0   \n",
       "2020-04-10 00:20:00        1.007515       7.0        1.005791      29.0   \n",
       "...                             ...       ...             ...       ...   \n",
       "2023-08-10 23:30:00        1.000355       6.0        0.999631      28.0   \n",
       "2023-08-10 23:35:00        1.000496       6.0        0.999792      29.0   \n",
       "2023-08-10 23:40:00        1.000758       7.0        1.000107      29.0   \n",
       "2023-08-10 23:45:00        1.000896       8.0        1.000325      29.0   \n",
       "2023-08-10 23:50:00        1.000481       8.0        0.999987      29.0   \n",
       "\n",
       "                     Close_Ratio_120  Trend_120  Close_Ratio_216  Trend_216  \\\n",
       "time                                                                          \n",
       "2020-04-10 00:00:00         0.994254       55.0         0.991846      106.0   \n",
       "2020-04-10 00:05:00         0.995063       55.0         0.992593      107.0   \n",
       "2020-04-10 00:10:00         0.998548       56.0         0.996041      107.0   \n",
       "2020-04-10 00:15:00         0.998913       56.0         0.996384      107.0   \n",
       "2020-04-10 00:20:00         1.003589       57.0         1.001046      108.0   \n",
       "...                              ...        ...              ...        ...   \n",
       "2023-08-10 23:30:00         0.998612       55.0         0.998719       96.0   \n",
       "2023-08-10 23:35:00         0.998763       56.0         0.998877       96.0   \n",
       "2023-08-10 23:40:00         0.999057       57.0         0.999183       96.0   \n",
       "2023-08-10 23:45:00         0.999252       58.0         0.999388       97.0   \n",
       "2023-08-10 23:50:00         0.998895       58.0         0.999042       97.0   \n",
       "\n",
       "                     Close_Ratio_288  Trend_288  \n",
       "time                                             \n",
       "2020-04-10 00:00:00         0.989144      144.0  \n",
       "2020-04-10 00:05:00         0.989904      145.0  \n",
       "2020-04-10 00:10:00         0.993350      145.0  \n",
       "2020-04-10 00:15:00         0.993690      146.0  \n",
       "2020-04-10 00:20:00         0.998344      147.0  \n",
       "...                              ...        ...  \n",
       "2023-08-10 23:30:00         0.998440      136.0  \n",
       "2023-08-10 23:35:00         0.998586      136.0  \n",
       "2023-08-10 23:40:00         0.998878      136.0  \n",
       "2023-08-10 23:45:00         0.999073      136.0  \n",
       "2023-08-10 23:50:00         0.998719      135.0  \n",
       "\n",
       "[351058 rows x 16 columns]"
      ]
     },
     "execution_count": 9,
     "metadata": {},
     "output_type": "execute_result"
    }
   ],
   "source": [
    "df=df.dropna()\n",
    "df"
   ]
  },
  {
   "cell_type": "code",
   "execution_count": 10,
   "id": "3910edda-337a-4f16-a0e5-b74efc422738",
   "metadata": {},
   "outputs": [
    {
     "data": {
      "text/plain": [
       "(351058, 16)"
      ]
     },
     "execution_count": 10,
     "metadata": {},
     "output_type": "execute_result"
    }
   ],
   "source": [
    "dataset=df.iloc[:, 0:df.shape[1]].values\n",
    "dataset.shape"
   ]
  },
  {
   "cell_type": "code",
   "execution_count": 11,
   "id": "032df548",
   "metadata": {},
   "outputs": [],
   "source": [
    "scaler=preprocessing.MinMaxScaler(feature_range=(0, 1))\n",
    "dataset_scaled=scaler.fit_transform(dataset)"
   ]
  },
  {
   "cell_type": "code",
   "execution_count": 12,
   "id": "7d09f009",
   "metadata": {},
   "outputs": [
    {
     "data": {
      "text/plain": [
       "(351058, 16)"
      ]
     },
     "execution_count": 12,
     "metadata": {},
     "output_type": "execute_result"
    }
   ],
   "source": [
    "dataset_scaled.shape"
   ]
  },
  {
   "cell_type": "code",
   "execution_count": 13,
   "id": "503f453c",
   "metadata": {},
   "outputs": [
    {
     "data": {
      "text/plain": [
       "array([1., 1., 1., ..., 1., 0., 1.])"
      ]
     },
     "execution_count": 13,
     "metadata": {},
     "output_type": "execute_result"
    }
   ],
   "source": [
    "dataset_scaled[:, 5]"
   ]
  },
  {
   "cell_type": "code",
   "execution_count": 14,
   "id": "17589a7c",
   "metadata": {},
   "outputs": [
    {
     "data": {
      "text/plain": [
       "(347547, 16)"
      ]
     },
     "execution_count": 14,
     "metadata": {},
     "output_type": "execute_result"
    }
   ],
   "source": [
    "training_set, test_and_validation_set=model_selection.train_test_split(dataset_scaled, test_size=0.01, shuffle=False)\n",
    "training_set.shape"
   ]
  },
  {
   "cell_type": "code",
   "execution_count": 15,
   "id": "674c2f9d",
   "metadata": {},
   "outputs": [
    {
     "data": {
      "text/plain": [
       "(3511, 16)"
      ]
     },
     "execution_count": 15,
     "metadata": {},
     "output_type": "execute_result"
    }
   ],
   "source": [
    "test_and_validation_set.shape"
   ]
  },
  {
   "cell_type": "code",
   "execution_count": 16,
   "id": "dfc99c20",
   "metadata": {},
   "outputs": [
    {
     "name": "stdout",
     "output_type": "stream",
     "text": [
      "(1755, 16)\n",
      "(1756, 16)\n"
     ]
    }
   ],
   "source": [
    "validation_set, test_set=model_selection.train_test_split(test_and_validation_set, test_size=0.5, shuffle=False)\n",
    "print(validation_set.shape)\n",
    "print(test_set.shape)"
   ]
  },
  {
   "cell_type": "code",
   "execution_count": 17,
   "id": "5045fb10",
   "metadata": {},
   "outputs": [],
   "source": [
    "X_train=[]\n",
    "y_train=[]\n",
    "for i in range(12, len(training_set)):\n",
    "    X_train.append(training_set[i-12:i, :])\n",
    "    y_train.append(training_set[i, 5])\n",
    "X_train, y_train=np.array(X_train), np.array(y_train)"
   ]
  },
  {
   "cell_type": "code",
   "execution_count": 18,
   "id": "2e6e014d",
   "metadata": {},
   "outputs": [
    {
     "data": {
      "text/plain": [
       "(347535, 12, 16)"
      ]
     },
     "execution_count": 18,
     "metadata": {},
     "output_type": "execute_result"
    }
   ],
   "source": [
    "X_train=np.reshape(X_train, newshape=(X_train.shape[0], X_train.shape[1], df.shape[1]))\n",
    "X_train.shape"
   ]
  },
  {
   "cell_type": "code",
   "execution_count": 19,
   "id": "2bcc2bfe",
   "metadata": {},
   "outputs": [
    {
     "data": {
      "text/plain": [
       "(347535,)"
      ]
     },
     "execution_count": 19,
     "metadata": {},
     "output_type": "execute_result"
    }
   ],
   "source": [
    "y_train.shape"
   ]
  },
  {
   "cell_type": "code",
   "execution_count": 20,
   "id": "457b5501",
   "metadata": {},
   "outputs": [
    {
     "data": {
      "text/plain": [
       "(1743, 12, 16)"
      ]
     },
     "execution_count": 20,
     "metadata": {},
     "output_type": "execute_result"
    }
   ],
   "source": [
    "X_validation=[]\n",
    "y_validation=[]\n",
    "for i in range(12, len(validation_set)):\n",
    "    X_validation.append(validation_set[i-12:i, :])\n",
    "    y_validation.append(validation_set[i, 5])\n",
    "X_validation, y_validation=np.array(X_validation), np.array(y_validation)\n",
    "X_validation=np.reshape(X_validation, newshape=(X_validation.shape[0], X_validation.shape[1], df.shape[1]))\n",
    "X_validation.shape"
   ]
  },
  {
   "cell_type": "code",
   "execution_count": 21,
   "id": "6199af92",
   "metadata": {},
   "outputs": [
    {
     "data": {
      "text/plain": [
       "(1743,)"
      ]
     },
     "execution_count": 21,
     "metadata": {},
     "output_type": "execute_result"
    }
   ],
   "source": [
    "y_validation.shape"
   ]
  },
  {
   "cell_type": "code",
   "execution_count": 22,
   "id": "6d29d448",
   "metadata": {},
   "outputs": [],
   "source": [
    "test_inputs=test_and_validation_set[len(test_and_validation_set)-len(test_set):]"
   ]
  },
  {
   "cell_type": "code",
   "execution_count": 23,
   "id": "df021c10",
   "metadata": {},
   "outputs": [
    {
     "data": {
      "text/plain": [
       "(1744, 12, 16)"
      ]
     },
     "execution_count": 23,
     "metadata": {},
     "output_type": "execute_result"
    }
   ],
   "source": [
    "X_test=[]\n",
    "y_test=[]\n",
    "for i in range(12, len(test_inputs)):\n",
    "    X_test.append(test_inputs[i-12:i, :])\n",
    "    y_test.append(test_inputs[i, 5])\n",
    "X_test, y_test=np.array(X_test), np.array(y_test)\n",
    "X_test=np.reshape(X_test, newshape=(X_test.shape[0], X_test.shape[1], df.shape[1]))\n",
    "X_test.shape"
   ]
  },
  {
   "cell_type": "markdown",
   "id": "db59fb11",
   "metadata": {},
   "source": [
    "### LSTM Regression Model"
   ]
  },
  {
   "cell_type": "code",
   "execution_count": 46,
   "id": "931cb13e",
   "metadata": {},
   "outputs": [],
   "source": [
    "lstm_reg_model=tf.keras.models.load_model('./LSTM Model/LSTM Regression/LSTM_model.h5')"
   ]
  },
  {
   "cell_type": "code",
   "execution_count": 47,
   "id": "afeb42d8",
   "metadata": {},
   "outputs": [],
   "source": [
    "df_reg=pd.read_csv('./ETH-USDT_5m.csv')\n",
    "df_reg=df_reg.set_index(['time'])"
   ]
  },
  {
   "cell_type": "code",
   "execution_count": 48,
   "id": "8ed6ae45",
   "metadata": {},
   "outputs": [],
   "source": [
    "dataset_reg=df_reg.iloc[:, 0:df_reg.shape[1]].values\n",
    "\n",
    "\n",
    "scaler_reg=preprocessing.MinMaxScaler(feature_range=(0, 1))\n",
    "dataset_reg_scaled=scaler_reg.fit_transform(dataset_reg)\n",
    "\n",
    "training_set_reg, test_and_validation_set_reg=model_selection.train_test_split(dataset_reg_scaled, test_size=0.01, shuffle=False)\n",
    "validation_set_reg, test_set_reg=model_selection.train_test_split(test_and_validation_set_reg, test_size=0.5, shuffle=False)"
   ]
  },
  {
   "cell_type": "code",
   "execution_count": 49,
   "id": "98eb6db3",
   "metadata": {},
   "outputs": [],
   "source": [
    "X_train_reg=[]\n",
    "y_train_reg=[]\n",
    "for i in range(12, len(training_set)):\n",
    "    X_train_reg.append(training_set_reg[i-12:i, :])\n",
    "    y_train_reg.append(training_set_reg[i, 1])\n",
    "X_train_reg, y_train_reg=np.array(X_train_reg), np.array(y_train_reg)"
   ]
  },
  {
   "cell_type": "code",
   "execution_count": 50,
   "id": "89bd874b",
   "metadata": {},
   "outputs": [
    {
     "data": {
      "text/plain": [
       "(1745, 12, 5)"
      ]
     },
     "execution_count": 50,
     "metadata": {},
     "output_type": "execute_result"
    }
   ],
   "source": [
    "X_validation_reg=[]\n",
    "y_validation_reg=[]\n",
    "for i in range(12, len(validation_set_reg)):\n",
    "    X_validation_reg.append(validation_set_reg[i-12:i, :])\n",
    "    y_validation_reg.append(validation_set_reg[i, 1])\n",
    "X_validation_reg, y_validation_reg=np.array(X_validation_reg), np.array(y_validation_reg)\n",
    "X_validation_reg=np.reshape(X_validation_reg, newshape=(X_validation_reg.shape[0], X_validation_reg.shape[1], df_reg.shape[1]))\n",
    "X_validation_reg.shape"
   ]
  },
  {
   "cell_type": "code",
   "execution_count": 51,
   "id": "d8c65735",
   "metadata": {},
   "outputs": [],
   "source": [
    "test_inputs_reg=test_and_validation_set_reg[len(test_and_validation_set_reg)-len(test_set_reg):]"
   ]
  },
  {
   "cell_type": "code",
   "execution_count": 52,
   "id": "d4e44c14",
   "metadata": {},
   "outputs": [
    {
     "data": {
      "text/plain": [
       "(1745, 12, 5)"
      ]
     },
     "execution_count": 52,
     "metadata": {},
     "output_type": "execute_result"
    }
   ],
   "source": [
    "X_test_reg=[]\n",
    "y_test_reg=[]\n",
    "for i in range(12, len(test_inputs_reg)):\n",
    "    X_test_reg.append(test_inputs_reg[i-12:i, :])\n",
    "    y_test_reg.append(test_inputs_reg[i, 1])\n",
    "X_test_reg, y_test_reg=np.array(X_test_reg), np.array(y_test_reg)\n",
    "X_test_reg=np.reshape(X_test_reg, newshape=(X_test_reg.shape[0], X_test_reg.shape[1], df_reg.shape[1]))\n",
    "X_test_reg.shape"
   ]
  },
  {
   "cell_type": "code",
   "execution_count": 53,
   "id": "178c6d86",
   "metadata": {},
   "outputs": [
    {
     "name": "stdout",
     "output_type": "stream",
     "text": [
      "55/55 [==============================] - 2s 13ms/step - loss: 5.8535e-06\n"
     ]
    }
   ],
   "source": [
    "score_reg=lstm_reg_model.evaluate(X_test_reg, y_test_reg)"
   ]
  },
  {
   "cell_type": "code",
   "execution_count": 54,
   "id": "0355c8e9",
   "metadata": {},
   "outputs": [
    {
     "name": "stdout",
     "output_type": "stream",
     "text": [
      "55/55 [==============================] - 2s 9ms/step\n"
     ]
    }
   ],
   "source": [
    "predicted_close_prices=lstm_reg_model.predict(X_test_reg)"
   ]
  },
  {
   "cell_type": "code",
   "execution_count": 55,
   "id": "0e20a877",
   "metadata": {},
   "outputs": [
    {
     "data": {
      "text/plain": [
       "(1745, 1)"
      ]
     },
     "execution_count": 55,
     "metadata": {},
     "output_type": "execute_result"
    }
   ],
   "source": [
    "predicted_close_prices.shape"
   ]
  },
  {
   "cell_type": "code",
   "execution_count": 56,
   "id": "338ca868",
   "metadata": {},
   "outputs": [],
   "source": [
    "prediction_copies_array = np.repeat(predicted_close_prices,5, axis=-1)\n",
    "predicted_close_prices = scaler_reg.inverse_transform(np.reshape(prediction_copies_array,(len(predicted_close_prices),5)))[:,0]"
   ]
  },
  {
   "cell_type": "code",
   "execution_count": 57,
   "id": "f1231d8c",
   "metadata": {},
   "outputs": [],
   "source": [
    "y_test_reg_copy = np.repeat(y_test_reg,5, axis=-1)\n",
    "y_test_reg = scaler_reg.inverse_transform(np.reshape(y_test_reg_copy,(len(y_test_reg),5)))[:,0]"
   ]
  },
  {
   "cell_type": "code",
   "execution_count": 58,
   "id": "031c95a3",
   "metadata": {},
   "outputs": [
    {
     "data": {
      "image/png": "[encoded data removed]",
      "text/plain": [
       "<Figure size 1000x800 with 1 Axes>"
      ]
     },
     "metadata": {},
     "output_type": "display_data"
    }
   ],
   "source": [
    "plt.figure(figsize=(10,8))\n",
    "plt.plot(predicted_close_prices[len(predicted_close_prices)-100:len(predicted_close_prices)], color='blue', label='Predicted price')\n",
    "plt.plot(y_test_reg[len(y_test_reg)-100:len(y_test_reg)], color='red', label='Real price')\n",
    "plt.title(\"Close price\")\n",
    "plt.legend()\n",
    "plt.show()"
   ]
  },
  {
   "cell_type": "code",
   "execution_count": 88,
   "id": "74bd4d95",
   "metadata": {},
   "outputs": [],
   "source": [
    "test_data_reg={'Real close prices':y_test_reg, 'Predicted close prices':predicted_close_prices}"
   ]
  },
  {
   "cell_type": "code",
   "execution_count": 89,
   "id": "c8e92daa",
   "metadata": {},
   "outputs": [
    {
     "data": {
      "text/plain": [
       "array(['2023-08-04 22:35:00', '2023-08-04 22:40:00',\n",
       "       '2023-08-04 22:45:00', ..., '2023-08-10 23:45:00',\n",
       "       '2023-08-10 23:50:00', '2023-08-10 23:55:00'], dtype=object)"
      ]
     },
     "execution_count": 89,
     "metadata": {},
     "output_type": "execute_result"
    }
   ],
   "source": [
    "df_reg.index[-1745:].values"
   ]
  },
  {
   "cell_type": "code",
   "execution_count": 90,
   "id": "93ad3617",
   "metadata": {},
   "outputs": [],
   "source": [
    "test_df_reg=pd.DataFrame(test_data_reg, index=df_reg.index[-1745:].values)"
   ]
  },
  {
   "cell_type": "code",
   "execution_count": 91,
   "id": "8488b35e",
   "metadata": {},
   "outputs": [
    {
     "data": {
      "text/html": [
       "<div>\n",
       "<style scoped>\n",
       "    .dataframe tbody tr th:only-of-type {\n",
       "        vertical-align: middle;\n",
       "    }\n",
       "\n",
       "    .dataframe tbody tr th {\n",
       "        vertical-align: top;\n",
       "    }\n",
       "\n",
       "    .dataframe thead th {\n",
       "        text-align: right;\n",
       "    }\n",
       "</style>\n",
       "<table border=\"1\" class=\"dataframe\">\n",
       "  <thead>\n",
       "    <tr style=\"text-align: right;\">\n",
       "      <th></th>\n",
       "      <th>Real close prices</th>\n",
       "      <th>Predicted close prices</th>\n",
       "    </tr>\n",
       "  </thead>\n",
       "  <tbody>\n",
       "    <tr>\n",
       "      <th>2023-08-04 22:35:00</th>\n",
       "      <td>1830.700303</td>\n",
       "      <td>1821.652954</td>\n",
       "    </tr>\n",
       "    <tr>\n",
       "      <th>2023-08-04 22:40:00</th>\n",
       "      <td>1832.450626</td>\n",
       "      <td>1820.610229</td>\n",
       "    </tr>\n",
       "    <tr>\n",
       "      <th>2023-08-04 22:45:00</th>\n",
       "      <td>1833.920898</td>\n",
       "      <td>1821.169434</td>\n",
       "    </tr>\n",
       "    <tr>\n",
       "      <th>2023-08-04 22:50:00</th>\n",
       "      <td>1833.050737</td>\n",
       "      <td>1822.466919</td>\n",
       "    </tr>\n",
       "    <tr>\n",
       "      <th>2023-08-04 22:55:00</th>\n",
       "      <td>1831.480447</td>\n",
       "      <td>1822.711670</td>\n",
       "    </tr>\n",
       "    <tr>\n",
       "      <th>...</th>\n",
       "      <td>...</td>\n",
       "      <td>...</td>\n",
       "    </tr>\n",
       "    <tr>\n",
       "      <th>2023-08-10 23:35:00</th>\n",
       "      <td>1850.443948</td>\n",
       "      <td>1838.286011</td>\n",
       "    </tr>\n",
       "    <tr>\n",
       "      <th>2023-08-10 23:40:00</th>\n",
       "      <td>1850.984047</td>\n",
       "      <td>1838.507080</td>\n",
       "    </tr>\n",
       "    <tr>\n",
       "      <th>2023-08-10 23:45:00</th>\n",
       "      <td>1851.344114</td>\n",
       "      <td>1839.059570</td>\n",
       "    </tr>\n",
       "    <tr>\n",
       "      <th>2023-08-10 23:50:00</th>\n",
       "      <td>1850.683992</td>\n",
       "      <td>1839.357178</td>\n",
       "    </tr>\n",
       "    <tr>\n",
       "      <th>2023-08-10 23:55:00</th>\n",
       "      <td>1850.764007</td>\n",
       "      <td>1839.033691</td>\n",
       "    </tr>\n",
       "  </tbody>\n",
       "</table>\n",
       "<p>1745 rows × 2 columns</p>\n",
       "</div>"
      ],
      "text/plain": [
       "                     Real close prices  Predicted close prices\n",
       "2023-08-04 22:35:00        1830.700303             1821.652954\n",
       "2023-08-04 22:40:00        1832.450626             1820.610229\n",
       "2023-08-04 22:45:00        1833.920898             1821.169434\n",
       "2023-08-04 22:50:00        1833.050737             1822.466919\n",
       "2023-08-04 22:55:00        1831.480447             1822.711670\n",
       "...                                ...                     ...\n",
       "2023-08-10 23:35:00        1850.443948             1838.286011\n",
       "2023-08-10 23:40:00        1850.984047             1838.507080\n",
       "2023-08-10 23:45:00        1851.344114             1839.059570\n",
       "2023-08-10 23:50:00        1850.683992             1839.357178\n",
       "2023-08-10 23:55:00        1850.764007             1839.033691\n",
       "\n",
       "[1745 rows x 2 columns]"
      ]
     },
     "execution_count": 91,
     "metadata": {},
     "output_type": "execute_result"
    }
   ],
   "source": [
    "test_df_reg"
   ]
  },
  {
   "cell_type": "code",
   "execution_count": 92,
   "id": "f353b66d",
   "metadata": {},
   "outputs": [
    {
     "data": {
      "text/html": [
       "<div>\n",
       "<style scoped>\n",
       "    .dataframe tbody tr th:only-of-type {\n",
       "        vertical-align: middle;\n",
       "    }\n",
       "\n",
       "    .dataframe tbody tr th {\n",
       "        vertical-align: top;\n",
       "    }\n",
       "\n",
       "    .dataframe thead th {\n",
       "        text-align: right;\n",
       "    }\n",
       "</style>\n",
       "<table border=\"1\" class=\"dataframe\">\n",
       "  <thead>\n",
       "    <tr style=\"text-align: right;\">\n",
       "      <th></th>\n",
       "      <th>Real close prices</th>\n",
       "      <th>Predicted close prices</th>\n",
       "      <th>Predicted tomorrow</th>\n",
       "      <th>Real tomorrow</th>\n",
       "    </tr>\n",
       "  </thead>\n",
       "  <tbody>\n",
       "    <tr>\n",
       "      <th>2023-08-04 22:35:00</th>\n",
       "      <td>1830.700303</td>\n",
       "      <td>1821.652954</td>\n",
       "      <td>1820.610229</td>\n",
       "      <td>1832.450626</td>\n",
       "    </tr>\n",
       "    <tr>\n",
       "      <th>2023-08-04 22:40:00</th>\n",
       "      <td>1832.450626</td>\n",
       "      <td>1820.610229</td>\n",
       "      <td>1821.169434</td>\n",
       "      <td>1833.920898</td>\n",
       "    </tr>\n",
       "    <tr>\n",
       "      <th>2023-08-04 22:45:00</th>\n",
       "      <td>1833.920898</td>\n",
       "      <td>1821.169434</td>\n",
       "      <td>1822.466919</td>\n",
       "      <td>1833.050737</td>\n",
       "    </tr>\n",
       "    <tr>\n",
       "      <th>2023-08-04 22:50:00</th>\n",
       "      <td>1833.050737</td>\n",
       "      <td>1822.466919</td>\n",
       "      <td>1822.711670</td>\n",
       "      <td>1831.480447</td>\n",
       "    </tr>\n",
       "    <tr>\n",
       "      <th>2023-08-04 22:55:00</th>\n",
       "      <td>1831.480447</td>\n",
       "      <td>1822.711670</td>\n",
       "      <td>1821.638916</td>\n",
       "      <td>1832.230586</td>\n",
       "    </tr>\n",
       "    <tr>\n",
       "      <th>...</th>\n",
       "      <td>...</td>\n",
       "      <td>...</td>\n",
       "      <td>...</td>\n",
       "      <td>...</td>\n",
       "    </tr>\n",
       "    <tr>\n",
       "      <th>2023-08-10 23:35:00</th>\n",
       "      <td>1850.443948</td>\n",
       "      <td>1838.286011</td>\n",
       "      <td>1838.507080</td>\n",
       "      <td>1850.984047</td>\n",
       "    </tr>\n",
       "    <tr>\n",
       "      <th>2023-08-10 23:40:00</th>\n",
       "      <td>1850.984047</td>\n",
       "      <td>1838.507080</td>\n",
       "      <td>1839.059570</td>\n",
       "      <td>1851.344114</td>\n",
       "    </tr>\n",
       "    <tr>\n",
       "      <th>2023-08-10 23:45:00</th>\n",
       "      <td>1851.344114</td>\n",
       "      <td>1839.059570</td>\n",
       "      <td>1839.357178</td>\n",
       "      <td>1850.683992</td>\n",
       "    </tr>\n",
       "    <tr>\n",
       "      <th>2023-08-10 23:50:00</th>\n",
       "      <td>1850.683992</td>\n",
       "      <td>1839.357178</td>\n",
       "      <td>1839.033691</td>\n",
       "      <td>1850.764007</td>\n",
       "    </tr>\n",
       "    <tr>\n",
       "      <th>2023-08-10 23:55:00</th>\n",
       "      <td>1850.764007</td>\n",
       "      <td>1839.033691</td>\n",
       "      <td>NaN</td>\n",
       "      <td>NaN</td>\n",
       "    </tr>\n",
       "  </tbody>\n",
       "</table>\n",
       "<p>1745 rows × 4 columns</p>\n",
       "</div>"
      ],
      "text/plain": [
       "                     Real close prices  Predicted close prices  \\\n",
       "2023-08-04 22:35:00        1830.700303             1821.652954   \n",
       "2023-08-04 22:40:00        1832.450626             1820.610229   \n",
       "2023-08-04 22:45:00        1833.920898             1821.169434   \n",
       "2023-08-04 22:50:00        1833.050737             1822.466919   \n",
       "2023-08-04 22:55:00        1831.480447             1822.711670   \n",
       "...                                ...                     ...   \n",
       "2023-08-10 23:35:00        1850.443948             1838.286011   \n",
       "2023-08-10 23:40:00        1850.984047             1838.507080   \n",
       "2023-08-10 23:45:00        1851.344114             1839.059570   \n",
       "2023-08-10 23:50:00        1850.683992             1839.357178   \n",
       "2023-08-10 23:55:00        1850.764007             1839.033691   \n",
       "\n",
       "                     Predicted tomorrow  Real tomorrow  \n",
       "2023-08-04 22:35:00         1820.610229    1832.450626  \n",
       "2023-08-04 22:40:00         1821.169434    1833.920898  \n",
       "2023-08-04 22:45:00         1822.466919    1833.050737  \n",
       "2023-08-04 22:50:00         1822.711670    1831.480447  \n",
       "2023-08-04 22:55:00         1821.638916    1832.230586  \n",
       "...                                 ...            ...  \n",
       "2023-08-10 23:35:00         1838.507080    1850.984047  \n",
       "2023-08-10 23:40:00         1839.059570    1851.344114  \n",
       "2023-08-10 23:45:00         1839.357178    1850.683992  \n",
       "2023-08-10 23:50:00         1839.033691    1850.764007  \n",
       "2023-08-10 23:55:00                 NaN            NaN  \n",
       "\n",
       "[1745 rows x 4 columns]"
      ]
     },
     "execution_count": 92,
     "metadata": {},
     "output_type": "execute_result"
    }
   ],
   "source": [
    "test_df_reg['Predicted tomorrow']=test_df_reg['Predicted close prices'].shift(-1)\n",
    "test_df_reg['Real tomorrow']=test_df_reg['Real close prices'].shift(-1)\n",
    "test_df_reg"
   ]
  },
  {
   "cell_type": "code",
   "execution_count": 93,
   "id": "3c0d4ed6",
   "metadata": {},
   "outputs": [],
   "source": [
    "test_df_reg['Predicted target']=(test_df_reg['Predicted tomorrow']>test_df_reg['Predicted close prices']).astype(int)\n",
    "test_df_reg['Real target']=(test_df_reg['Real tomorrow']>test_df_reg['Real close prices']).astype(int)"
   ]
  },
  {
   "cell_type": "code",
   "execution_count": 94,
   "id": "7a721e64",
   "metadata": {},
   "outputs": [
    {
     "data": {
      "text/html": [
       "<div>\n",
       "<style scoped>\n",
       "    .dataframe tbody tr th:only-of-type {\n",
       "        vertical-align: middle;\n",
       "    }\n",
       "\n",
       "    .dataframe tbody tr th {\n",
       "        vertical-align: top;\n",
       "    }\n",
       "\n",
       "    .dataframe thead th {\n",
       "        text-align: right;\n",
       "    }\n",
       "</style>\n",
       "<table border=\"1\" class=\"dataframe\">\n",
       "  <thead>\n",
       "    <tr style=\"text-align: right;\">\n",
       "      <th></th>\n",
       "      <th>Real close prices</th>\n",
       "      <th>Predicted close prices</th>\n",
       "      <th>Predicted tomorrow</th>\n",
       "      <th>Real tomorrow</th>\n",
       "      <th>Predicted target</th>\n",
       "      <th>Real target</th>\n",
       "    </tr>\n",
       "  </thead>\n",
       "  <tbody>\n",
       "    <tr>\n",
       "      <th>2023-08-04 22:35:00</th>\n",
       "      <td>1830.700303</td>\n",
       "      <td>1821.652954</td>\n",
       "      <td>1820.610229</td>\n",
       "      <td>1832.450626</td>\n",
       "      <td>0</td>\n",
       "      <td>1</td>\n",
       "    </tr>\n",
       "    <tr>\n",
       "      <th>2023-08-04 22:40:00</th>\n",
       "      <td>1832.450626</td>\n",
       "      <td>1820.610229</td>\n",
       "      <td>1821.169434</td>\n",
       "      <td>1833.920898</td>\n",
       "      <td>1</td>\n",
       "      <td>1</td>\n",
       "    </tr>\n",
       "    <tr>\n",
       "      <th>2023-08-04 22:45:00</th>\n",
       "      <td>1833.920898</td>\n",
       "      <td>1821.169434</td>\n",
       "      <td>1822.466919</td>\n",
       "      <td>1833.050737</td>\n",
       "      <td>1</td>\n",
       "      <td>0</td>\n",
       "    </tr>\n",
       "    <tr>\n",
       "      <th>2023-08-04 22:50:00</th>\n",
       "      <td>1833.050737</td>\n",
       "      <td>1822.466919</td>\n",
       "      <td>1822.711670</td>\n",
       "      <td>1831.480447</td>\n",
       "      <td>1</td>\n",
       "      <td>0</td>\n",
       "    </tr>\n",
       "    <tr>\n",
       "      <th>2023-08-04 22:55:00</th>\n",
       "      <td>1831.480447</td>\n",
       "      <td>1822.711670</td>\n",
       "      <td>1821.638916</td>\n",
       "      <td>1832.230586</td>\n",
       "      <td>0</td>\n",
       "      <td>1</td>\n",
       "    </tr>\n",
       "    <tr>\n",
       "      <th>...</th>\n",
       "      <td>...</td>\n",
       "      <td>...</td>\n",
       "      <td>...</td>\n",
       "      <td>...</td>\n",
       "      <td>...</td>\n",
       "      <td>...</td>\n",
       "    </tr>\n",
       "    <tr>\n",
       "      <th>2023-08-10 23:35:00</th>\n",
       "      <td>1850.443948</td>\n",
       "      <td>1838.286011</td>\n",
       "      <td>1838.507080</td>\n",
       "      <td>1850.984047</td>\n",
       "      <td>1</td>\n",
       "      <td>1</td>\n",
       "    </tr>\n",
       "    <tr>\n",
       "      <th>2023-08-10 23:40:00</th>\n",
       "      <td>1850.984047</td>\n",
       "      <td>1838.507080</td>\n",
       "      <td>1839.059570</td>\n",
       "      <td>1851.344114</td>\n",
       "      <td>1</td>\n",
       "      <td>1</td>\n",
       "    </tr>\n",
       "    <tr>\n",
       "      <th>2023-08-10 23:45:00</th>\n",
       "      <td>1851.344114</td>\n",
       "      <td>1839.059570</td>\n",
       "      <td>1839.357178</td>\n",
       "      <td>1850.683992</td>\n",
       "      <td>1</td>\n",
       "      <td>0</td>\n",
       "    </tr>\n",
       "    <tr>\n",
       "      <th>2023-08-10 23:50:00</th>\n",
       "      <td>1850.683992</td>\n",
       "      <td>1839.357178</td>\n",
       "      <td>1839.033691</td>\n",
       "      <td>1850.764007</td>\n",
       "      <td>0</td>\n",
       "      <td>1</td>\n",
       "    </tr>\n",
       "    <tr>\n",
       "      <th>2023-08-10 23:55:00</th>\n",
       "      <td>1850.764007</td>\n",
       "      <td>1839.033691</td>\n",
       "      <td>NaN</td>\n",
       "      <td>NaN</td>\n",
       "      <td>0</td>\n",
       "      <td>0</td>\n",
       "    </tr>\n",
       "  </tbody>\n",
       "</table>\n",
       "<p>1745 rows × 6 columns</p>\n",
       "</div>"
      ],
      "text/plain": [
       "                     Real close prices  Predicted close prices  \\\n",
       "2023-08-04 22:35:00        1830.700303             1821.652954   \n",
       "2023-08-04 22:40:00        1832.450626             1820.610229   \n",
       "2023-08-04 22:45:00        1833.920898             1821.169434   \n",
       "2023-08-04 22:50:00        1833.050737             1822.466919   \n",
       "2023-08-04 22:55:00        1831.480447             1822.711670   \n",
       "...                                ...                     ...   \n",
       "2023-08-10 23:35:00        1850.443948             1838.286011   \n",
       "2023-08-10 23:40:00        1850.984047             1838.507080   \n",
       "2023-08-10 23:45:00        1851.344114             1839.059570   \n",
       "2023-08-10 23:50:00        1850.683992             1839.357178   \n",
       "2023-08-10 23:55:00        1850.764007             1839.033691   \n",
       "\n",
       "                     Predicted tomorrow  Real tomorrow  Predicted target  \\\n",
       "2023-08-04 22:35:00         1820.610229    1832.450626                 0   \n",
       "2023-08-04 22:40:00         1821.169434    1833.920898                 1   \n",
       "2023-08-04 22:45:00         1822.466919    1833.050737                 1   \n",
       "2023-08-04 22:50:00         1822.711670    1831.480447                 1   \n",
       "2023-08-04 22:55:00         1821.638916    1832.230586                 0   \n",
       "...                                 ...            ...               ...   \n",
       "2023-08-10 23:35:00         1838.507080    1850.984047                 1   \n",
       "2023-08-10 23:40:00         1839.059570    1851.344114                 1   \n",
       "2023-08-10 23:45:00         1839.357178    1850.683992                 1   \n",
       "2023-08-10 23:50:00         1839.033691    1850.764007                 0   \n",
       "2023-08-10 23:55:00                 NaN            NaN                 0   \n",
       "\n",
       "                     Real target  \n",
       "2023-08-04 22:35:00            1  \n",
       "2023-08-04 22:40:00            1  \n",
       "2023-08-04 22:45:00            0  \n",
       "2023-08-04 22:50:00            0  \n",
       "2023-08-04 22:55:00            1  \n",
       "...                          ...  \n",
       "2023-08-10 23:35:00            1  \n",
       "2023-08-10 23:40:00            1  \n",
       "2023-08-10 23:45:00            0  \n",
       "2023-08-10 23:50:00            1  \n",
       "2023-08-10 23:55:00            0  \n",
       "\n",
       "[1745 rows x 6 columns]"
      ]
     },
     "execution_count": 94,
     "metadata": {},
     "output_type": "execute_result"
    }
   ],
   "source": [
    "test_df_reg"
   ]
  },
  {
   "cell_type": "code",
   "execution_count": 98,
   "id": "c8730f7d",
   "metadata": {},
   "outputs": [
    {
     "data": {
      "text/plain": [
       "0.5164835164835165"
      ]
     },
     "execution_count": 98,
     "metadata": {},
     "output_type": "execute_result"
    }
   ],
   "source": [
    "precision_score(test_df_reg['Real target'].values, test_df_reg['Predicted target'])"
   ]
  },
  {
   "cell_type": "markdown",
   "id": "cea9cd59",
   "metadata": {},
   "source": [
    "### LSTM Classification Model"
   ]
  },
  {
   "cell_type": "code",
   "execution_count": 31,
   "id": "88381b66",
   "metadata": {},
   "outputs": [],
   "source": [
    "#def create_lstm_model(neurons, dropout_rate):\n",
    "    #model=tf.keras.Sequential()\n",
    "    #model.add(tf.keras.layers.LSTM(units=neurons, return_sequences=True, input_shape=(X_validation.shape[1], X_validation.shape[2])))\n",
    "    #model.add(tf.keras.layers.Dropout(rate=dropout_rate))\n",
    "    #model.add(tf.keras.layers.LSTM(units=neurons, return_sequences=True))\n",
    "    #model.add(tf.keras.layers.Dropout(rate=dropout_rate))\n",
    "    #model.add(tf.keras.layers.LSTM(units=neurons, return_sequences=True))\n",
    "    #model.add(tf.keras.layers.Dropout(rate=dropout_rate))\n",
    "    #model.add(tf.keras.layers.LSTM(units=neurons, return_sequences=True))\n",
    "    #model.add(tf.keras.layers.Dropout(rate=dropout_rate))\n",
    "    #model.add(tf.keras.layers.LSTM(units=neurons, return_sequences=True))\n",
    "    #model.add(tf.keras.layers.Dropout(rate=dropout_rate))\n",
    "    #model.add(tf.keras.layers.LSTM(units=neurons, return_sequences=False))\n",
    "    #model.add(tf.keras.layers.Dropout(rate=dropout_rate))\n",
    "    #model.add(tf.keras.layers.Dense(units=1, activation='sigmoid'))\n",
    "    \n",
    "    #return model\n",
    "\n",
    "#neurons=[40,50,60]\n",
    "#dropout_rate=[0.2, 0.3, 0.4, 0.5]\n",
    "#epochs=[80,100]\n",
    "#batch_size=[16,24,32]\n",
    "#param_grid=dict(model__neurons=neurons, model__dropout_rate=dropout_rate, epochs=epochs, batch_size=batch_size)\n",
    "#tuning_model=KerasClassifier(model=create_lstm_model, loss='binary_crossentropy', optimizer='adam', metrics=['accuracy'], verbose=0)\n",
    "#grid=model_selection.GridSearchCV(estimator=tuning_model, param_grid=param_grid, n_jobs=None, cv=3, verbose=0)\n",
    "#grid_result=grid.fit(X_validation, y_validation)"
   ]
  },
  {
   "cell_type": "code",
   "execution_count": 32,
   "id": "4c1cc7e7",
   "metadata": {},
   "outputs": [],
   "source": [
    "#grid_result.best_params_"
   ]
  },
  {
   "cell_type": "code",
   "execution_count": 33,
   "id": "9d0e5093",
   "metadata": {},
   "outputs": [],
   "source": [
    "#grid_result.best_score_"
   ]
  },
  {
   "cell_type": "code",
   "execution_count": 34,
   "id": "570a2d9b",
   "metadata": {},
   "outputs": [],
   "source": [
    "#grid_results_lstm_classification=grid_result.best_params_\n",
    "#grid_results_lstm_classification['best_score']=grid_result.best_score_"
   ]
  },
  {
   "cell_type": "code",
   "execution_count": 35,
   "id": "62e1d959",
   "metadata": {},
   "outputs": [],
   "source": [
    "#grid_results_lstm_classification"
   ]
  },
  {
   "cell_type": "code",
   "execution_count": 36,
   "id": "02dcd5fc",
   "metadata": {},
   "outputs": [],
   "source": [
    "#with open('./LSTM Model/LSTM Classification/GridSearch_Results_LSTM_Classification.txt', 'w') as text_file:\n",
    "    #text_file.write(json.dumps(grid_results_lstm_classification))"
   ]
  },
  {
   "cell_type": "code",
   "execution_count": 37,
   "id": "9e99ab29",
   "metadata": {},
   "outputs": [
    {
     "data": {
      "text/plain": [
       "{'batch_size': 16,\n",
       " 'epochs': 80,\n",
       " 'model__dropout_rate': 0.2,\n",
       " 'model__neurons': 60,\n",
       " 'best_score': 0.5198529626280013}"
      ]
     },
     "execution_count": 37,
     "metadata": {},
     "output_type": "execute_result"
    }
   ],
   "source": [
    "with open('./LSTM Model/LSTM Classification/GridSearch_Results_LSTM_Classification.txt') as text_file:\n",
    "    grid_result=text_file.read()\n",
    "\n",
    "grid_results_lstm_classification=json.loads(grid_result)\n",
    "grid_results_lstm_classification"
   ]
  },
  {
   "cell_type": "code",
   "execution_count": 38,
   "id": "3293e18a",
   "metadata": {},
   "outputs": [],
   "source": [
    "#def create_lstm_model_bayesian(l1_1, l1_2, l2_1, l2_2, l2_4 ,l2_3, l2_5, l2_6, dropout_rate):\n",
    "    #model=tf.keras.Sequential()\n",
    "    #model.add(tf.keras.layers.LSTM(units=128, return_sequences=True, kernel_regularizer=tf.keras.regularizers.L1L2(l1=l1_1, l2=l2_1), bias_regularizer=tf.keras.regularizers.L2(l2_2), activity_regularizer=tf.keras.regularizers.L2(l2_3), input_shape=(X_validation.shape[1], X_validation.shape[2])))\n",
    "    #model.add(tf.keras.layers.LSTM(units=128, return_sequences=True))\n",
    "    #model.add(tf.keras.layers.Dropout(rate=dropout_rate))\n",
    "    #model.add(tf.keras.layers.LSTM(units=128, return_sequences=False))\n",
    "    #model.add(tf.keras.layers.Dropout(rate=dropout_rate))\n",
    "    #model.add(tf.keras.layers.Dense(units=1, activation='sigmoid', kernel_regularizer=tf.keras.regularizers.L1L2(l1=l1_2, l2=l2_4), bias_regularizer=tf.keras.regularizers.L2(l2_5), activity_regularizer=tf.keras.regularizers.L2(l2_6)))\n",
    "    \n",
    "    #model.compile(loss='binary_crossentropy', optimizer='adam', metrics=['accuracy'])\n",
    "    \n",
    "    #return model\n",
    "\n",
    "#pbounds={'l1_1':(0, 0.1), 'l1_2':(0, 0.1), 'l2_1':(0, 0.1), 'l2_2':(0, 0.1), 'l2_3':(0, 0.1), 'l2_4':(0, 0.1), 'l2_5':(0, 0.1), 'l2_6':(0, 0.1), 'dropout_rate':(0.4, 0.6)}\n",
    "#model=KerasClassifier(build_fn=create_lstm_model_bayesian, epochs=100, batch_size=32)\n",
    "#def optimize_lstm(l1_1, l1_2, l2_1, l2_2, l2_3, l2_4, l2_5, l2_6, dropout_rate):  \n",
    "    #model.set_params(l1_1=float(l1_1), l1_2=float(l1_2), l2_1=float(l2_1), l2_2=float(l2_2), l2_3=float(l2_3), l2_4=float(l2_4), l2_5=float(l2_5), l2_6=float(l2_6), dropout_rate=float(dropout_rate))  \n",
    "    #return -np.mean(sklearn.model_selection.cross_val_score(model, X_validation, y_validation, cv=3, n_jobs=None, scoring='accuracy')) \n",
    "#optimizer = BayesianOptimization(f=optimize_lstm, pbounds=pbounds, random_state=42)  \n",
    "#optimizer.maximize(n_iter=20)"
   ]
  },
  {
   "cell_type": "code",
   "execution_count": 39,
   "id": "0828fe43",
   "metadata": {},
   "outputs": [],
   "source": [
    "#optimizer.max['params']"
   ]
  },
  {
   "cell_type": "code",
   "execution_count": 40,
   "id": "2eac6526",
   "metadata": {},
   "outputs": [],
   "source": [
    "#with open('./LSTM Model/LSTM Classification/BayesianSearch_Results_LSTM_Classification.txt', 'w') as text_file_bayes:\n",
    "    #text_file_bayes.write(json.dumps(optimizer.max['params']))"
   ]
  },
  {
   "cell_type": "code",
   "execution_count": 41,
   "id": "c5d5fe14",
   "metadata": {},
   "outputs": [
    {
     "data": {
      "text/plain": [
       "{'dropout_rate': 0.4749080237694725,\n",
       " 'l1_1': 0.09507143064099162,\n",
       " 'l1_2': 0.0731993941811405,\n",
       " 'l2_1': 0.05986584841970366,\n",
       " 'l2_2': 0.015601864044243652,\n",
       " 'l2_3': 0.015599452033620266,\n",
       " 'l2_4': 0.005808361216819946,\n",
       " 'l2_5': 0.08661761457749352,\n",
       " 'l2_6': 0.06011150117432088}"
      ]
     },
     "execution_count": 41,
     "metadata": {},
     "output_type": "execute_result"
    }
   ],
   "source": [
    "with open('./LSTM Model/LSTM Classification/BayesianSearch_Results_LSTM_Classification.txt') as text_file:\n",
    "    bayes_result=text_file.read()\n",
    "\n",
    "bayes_results_lstm_classification=json.loads(bayes_result)\n",
    "bayes_results_lstm_classification"
   ]
  },
  {
   "cell_type": "code",
   "execution_count": 22,
   "id": "31f2c82a",
   "metadata": {},
   "outputs": [],
   "source": [
    "lstm_model=tf.keras.Sequential()\n",
    "lstm_model.add(tf.keras.layers.LSTM(units=128, return_sequences=True, input_shape=(X_train.shape[1], X_train.shape[2])))\n",
    "lstm_model.add(tf.keras.layers.Dropout(rate=0.45))\n",
    "lstm_model.add(tf.keras.layers.LSTM(units=128, return_sequences=True))\n",
    "lstm_model.add(tf.keras.layers.Dropout(rate=0.45))\n",
    "lstm_model.add(tf.keras.layers.LSTM(units=128, return_sequences=False))\n",
    "lstm_model.add(tf.keras.layers.Dropout(rate=0.45))\n",
    "lstm_model.add(tf.keras.layers.Dense(units=1, activation='sigmoid'))\n",
    "\n",
    "lstm_model.compile(loss='binary_crossentropy', optimizer='Adam', metrics=['accuracy'])"
   ]
  },
  {
   "cell_type": "code",
   "execution_count": 23,
   "id": "1c9171bd",
   "metadata": {},
   "outputs": [
    {
     "name": "stdout",
     "output_type": "stream",
     "text": [
      "Model: \"sequential\"\n",
      "_________________________________________________________________\n",
      " Layer (type)                Output Shape              Param #   \n",
      "=================================================================\n",
      " lstm (LSTM)                 (None, 12, 128)           74240     \n",
      "                                                                 \n",
      " dropout (Dropout)           (None, 12, 128)           0         \n",
      "                                                                 \n",
      " lstm_1 (LSTM)               (None, 12, 128)           131584    \n",
      "                                                                 \n",
      " dropout_1 (Dropout)         (None, 12, 128)           0         \n",
      "                                                                 \n",
      " lstm_2 (LSTM)               (None, 128)               131584    \n",
      "                                                                 \n",
      " dropout_2 (Dropout)         (None, 128)               0         \n",
      "                                                                 \n",
      " dense (Dense)               (None, 1)                 129       \n",
      "                                                                 \n",
      "=================================================================\n",
      "Total params: 337,537\n",
      "Trainable params: 337,537\n",
      "Non-trainable params: 0\n",
      "_________________________________________________________________\n"
     ]
    }
   ],
   "source": [
    "lstm_model.summary()"
   ]
  },
  {
   "cell_type": "code",
   "execution_count": 26,
   "id": "d294132e",
   "metadata": {},
   "outputs": [
    {
     "name": "stdout",
     "output_type": "stream",
     "text": [
      "Epoch 1/100\n",
      "10861/10861 [==============================] - 121s 11ms/step - loss: 0.6928 - accuracy: 0.5120 - val_loss: 0.6929 - val_accuracy: 0.5100\n",
      "Epoch 2/100\n",
      "10861/10861 [==============================] - 118s 11ms/step - loss: 0.6922 - accuracy: 0.5183 - val_loss: 0.6936 - val_accuracy: 0.5020\n",
      "Epoch 3/100\n",
      "10861/10861 [==============================] - 118s 11ms/step - loss: 0.6920 - accuracy: 0.5197 - val_loss: 0.6940 - val_accuracy: 0.5049\n",
      "Epoch 4/100\n",
      "10861/10861 [==============================] - 118s 11ms/step - loss: 0.6920 - accuracy: 0.5190 - val_loss: 0.6934 - val_accuracy: 0.5055\n",
      "Epoch 5/100\n",
      "10861/10861 [==============================] - 118s 11ms/step - loss: 0.6919 - accuracy: 0.5201 - val_loss: 0.6936 - val_accuracy: 0.5026\n",
      "Epoch 6/100\n",
      "10861/10861 [==============================] - 123s 11ms/step - loss: 0.6919 - accuracy: 0.5208 - val_loss: 0.6945 - val_accuracy: 0.5152\n",
      "Epoch 7/100\n",
      "10861/10861 [==============================] - 123s 11ms/step - loss: 0.6919 - accuracy: 0.5197 - val_loss: 0.6949 - val_accuracy: 0.5135\n",
      "Epoch 8/100\n",
      "10861/10861 [==============================] - 124s 11ms/step - loss: 0.6918 - accuracy: 0.5213 - val_loss: 0.6938 - val_accuracy: 0.5049\n",
      "Epoch 9/100\n",
      "10861/10861 [==============================] - 123s 11ms/step - loss: 0.6918 - accuracy: 0.5213 - val_loss: 0.6953 - val_accuracy: 0.5089\n",
      "Epoch 10/100\n",
      "10861/10861 [==============================] - 123s 11ms/step - loss: 0.6917 - accuracy: 0.5224 - val_loss: 0.6943 - val_accuracy: 0.5106\n",
      "Epoch 11/100\n",
      "10861/10861 [==============================] - 122s 11ms/step - loss: 0.6917 - accuracy: 0.5217 - val_loss: 0.6949 - val_accuracy: 0.5112\n",
      "Epoch 12/100\n",
      "10861/10861 [==============================] - 118s 11ms/step - loss: 0.6917 - accuracy: 0.5219 - val_loss: 0.6948 - val_accuracy: 0.5089\n",
      "Epoch 13/100\n",
      "10861/10861 [==============================] - 118s 11ms/step - loss: 0.6916 - accuracy: 0.5221 - val_loss: 0.6949 - val_accuracy: 0.5072\n",
      "Epoch 14/100\n",
      "10861/10861 [==============================] - 118s 11ms/step - loss: 0.6917 - accuracy: 0.5219 - val_loss: 0.6941 - val_accuracy: 0.5014\n",
      "Epoch 15/100\n",
      "10861/10861 [==============================] - 118s 11ms/step - loss: 0.6917 - accuracy: 0.5225 - val_loss: 0.6952 - val_accuracy: 0.5049\n",
      "Epoch 16/100\n",
      "10861/10861 [==============================] - 118s 11ms/step - loss: 0.6916 - accuracy: 0.5228 - val_loss: 0.6947 - val_accuracy: 0.5106\n",
      "Epoch 17/100\n",
      "10861/10861 [==============================] - 118s 11ms/step - loss: 0.6916 - accuracy: 0.5231 - val_loss: 0.6942 - val_accuracy: 0.5060\n",
      "Epoch 18/100\n",
      "10861/10861 [==============================] - 118s 11ms/step - loss: 0.6916 - accuracy: 0.5235 - val_loss: 0.6940 - val_accuracy: 0.5118\n",
      "Epoch 19/100\n",
      "10861/10861 [==============================] - 118s 11ms/step - loss: 0.6915 - accuracy: 0.5227 - val_loss: 0.6940 - val_accuracy: 0.5112\n",
      "Epoch 20/100\n",
      "10861/10861 [==============================] - 119s 11ms/step - loss: 0.6915 - accuracy: 0.5242 - val_loss: 0.6949 - val_accuracy: 0.5026\n",
      "Epoch 21/100\n",
      "10861/10861 [==============================] - 118s 11ms/step - loss: 0.6915 - accuracy: 0.5235 - val_loss: 0.6945 - val_accuracy: 0.5152\n",
      "Epoch 22/100\n",
      "10861/10861 [==============================] - 118s 11ms/step - loss: 0.6914 - accuracy: 0.5254 - val_loss: 0.6940 - val_accuracy: 0.5037\n",
      "Epoch 23/100\n",
      "10861/10861 [==============================] - 118s 11ms/step - loss: 0.6915 - accuracy: 0.5236 - val_loss: 0.6955 - val_accuracy: 0.5089\n",
      "Epoch 24/100\n",
      "10861/10861 [==============================] - 119s 11ms/step - loss: 0.6914 - accuracy: 0.5246 - val_loss: 0.6953 - val_accuracy: 0.5043\n",
      "Epoch 25/100\n",
      "10861/10861 [==============================] - 121s 11ms/step - loss: 0.6913 - accuracy: 0.5245 - val_loss: 0.6942 - val_accuracy: 0.5089\n",
      "Epoch 26/100\n",
      "10861/10861 [==============================] - 119s 11ms/step - loss: 0.6914 - accuracy: 0.5248 - val_loss: 0.6947 - val_accuracy: 0.5077\n",
      "Epoch 27/100\n",
      "10861/10861 [==============================] - 121s 11ms/step - loss: 0.6914 - accuracy: 0.5249 - val_loss: 0.6947 - val_accuracy: 0.5112\n",
      "Epoch 28/100\n",
      "10861/10861 [==============================] - 118s 11ms/step - loss: 0.6913 - accuracy: 0.5260 - val_loss: 0.6960 - val_accuracy: 0.5112\n",
      "Epoch 29/100\n",
      "10861/10861 [==============================] - 118s 11ms/step - loss: 0.6913 - accuracy: 0.5253 - val_loss: 0.6945 - val_accuracy: 0.5129\n",
      "Epoch 30/100\n",
      "10861/10861 [==============================] - 119s 11ms/step - loss: 0.6912 - accuracy: 0.5254 - val_loss: 0.6951 - val_accuracy: 0.5083\n",
      "Epoch 31/100\n",
      "10861/10861 [==============================] - 117s 11ms/step - loss: 0.6912 - accuracy: 0.5257 - val_loss: 0.6957 - val_accuracy: 0.5049\n",
      "Epoch 32/100\n",
      "10861/10861 [==============================] - 117s 11ms/step - loss: 0.6912 - accuracy: 0.5257 - val_loss: 0.6948 - val_accuracy: 0.5055\n",
      "Epoch 33/100\n",
      "10861/10861 [==============================] - 118s 11ms/step - loss: 0.6911 - accuracy: 0.5260 - val_loss: 0.6957 - val_accuracy: 0.5043\n",
      "Epoch 34/100\n",
      "10861/10861 [==============================] - 115s 11ms/step - loss: 0.6910 - accuracy: 0.5264 - val_loss: 0.6967 - val_accuracy: 0.5026\n",
      "Epoch 35/100\n",
      "10861/10861 [==============================] - 117s 11ms/step - loss: 0.6910 - accuracy: 0.5272 - val_loss: 0.6956 - val_accuracy: 0.5083\n",
      "Epoch 36/100\n",
      "10861/10861 [==============================] - 115s 11ms/step - loss: 0.6909 - accuracy: 0.5271 - val_loss: 0.6958 - val_accuracy: 0.5009\n",
      "Epoch 37/100\n",
      "10861/10861 [==============================] - 115s 11ms/step - loss: 0.6909 - accuracy: 0.5282 - val_loss: 0.6956 - val_accuracy: 0.5049\n",
      "Epoch 38/100\n",
      "10861/10861 [==============================] - 115s 11ms/step - loss: 0.6909 - accuracy: 0.5283 - val_loss: 0.6954 - val_accuracy: 0.5009\n",
      "Epoch 39/100\n",
      "10861/10861 [==============================] - 123s 11ms/step - loss: 0.6908 - accuracy: 0.5289 - val_loss: 0.6969 - val_accuracy: 0.4957\n",
      "Epoch 40/100\n",
      "10861/10861 [==============================] - 122s 11ms/step - loss: 0.6907 - accuracy: 0.5296 - val_loss: 0.6957 - val_accuracy: 0.4974\n",
      "Epoch 41/100\n",
      "10861/10861 [==============================] - 122s 11ms/step - loss: 0.6907 - accuracy: 0.5296 - val_loss: 0.6956 - val_accuracy: 0.5009\n",
      "Epoch 42/100\n",
      "10861/10861 [==============================] - 124s 11ms/step - loss: 0.6906 - accuracy: 0.5296 - val_loss: 0.6964 - val_accuracy: 0.4923\n",
      "Epoch 43/100\n",
      "10861/10861 [==============================] - 123s 11ms/step - loss: 0.6905 - accuracy: 0.5303 - val_loss: 0.6960 - val_accuracy: 0.4991\n",
      "Epoch 44/100\n",
      "10861/10861 [==============================] - 123s 11ms/step - loss: 0.6904 - accuracy: 0.5302 - val_loss: 0.6962 - val_accuracy: 0.5003\n",
      "Epoch 45/100\n",
      "10861/10861 [==============================] - 123s 11ms/step - loss: 0.6903 - accuracy: 0.5317 - val_loss: 0.6975 - val_accuracy: 0.5072\n",
      "Epoch 46/100\n",
      "10861/10861 [==============================] - 124s 11ms/step - loss: 0.6902 - accuracy: 0.5315 - val_loss: 0.6968 - val_accuracy: 0.5077\n",
      "Epoch 47/100\n",
      "10861/10861 [==============================] - 123s 11ms/step - loss: 0.6902 - accuracy: 0.5320 - val_loss: 0.6951 - val_accuracy: 0.5066\n",
      "Epoch 48/100\n",
      "10861/10861 [==============================] - 120s 11ms/step - loss: 0.6901 - accuracy: 0.5322 - val_loss: 0.6957 - val_accuracy: 0.5020\n",
      "Epoch 49/100\n",
      "10861/10861 [==============================] - 119s 11ms/step - loss: 0.6898 - accuracy: 0.5334 - val_loss: 0.6975 - val_accuracy: 0.4974\n",
      "Epoch 50/100\n",
      "10861/10861 [==============================] - 119s 11ms/step - loss: 0.6901 - accuracy: 0.5323 - val_loss: 0.6959 - val_accuracy: 0.5003\n",
      "Epoch 51/100\n",
      "10861/10861 [==============================] - 120s 11ms/step - loss: 0.6921 - accuracy: 0.5151 - val_loss: 0.6931 - val_accuracy: 0.5014\n",
      "Epoch 52/100\n",
      "10861/10861 [==============================] - 118s 11ms/step - loss: 0.6924 - accuracy: 0.5124 - val_loss: 0.6960 - val_accuracy: 0.5083\n",
      "Epoch 53/100\n",
      "10861/10861 [==============================] - 118s 11ms/step - loss: 0.6903 - accuracy: 0.5313 - val_loss: 0.6960 - val_accuracy: 0.4991\n",
      "Epoch 54/100\n",
      "10861/10861 [==============================] - 118s 11ms/step - loss: 0.6899 - accuracy: 0.5329 - val_loss: 0.6972 - val_accuracy: 0.4980\n",
      "Epoch 55/100\n",
      "10861/10861 [==============================] - 117s 11ms/step - loss: 0.6899 - accuracy: 0.5338 - val_loss: 0.6961 - val_accuracy: 0.4945\n",
      "Epoch 56/100\n",
      "10861/10861 [==============================] - 118s 11ms/step - loss: 0.6895 - accuracy: 0.5355 - val_loss: 0.6969 - val_accuracy: 0.4968\n",
      "Epoch 57/100\n",
      "10861/10861 [==============================] - 117s 11ms/step - loss: 0.6894 - accuracy: 0.5350 - val_loss: 0.6963 - val_accuracy: 0.5049\n",
      "Epoch 58/100\n",
      "10861/10861 [==============================] - 117s 11ms/step - loss: 0.6893 - accuracy: 0.5356 - val_loss: 0.6972 - val_accuracy: 0.5026\n",
      "Epoch 59/100\n",
      "10861/10861 [==============================] - 117s 11ms/step - loss: 0.6892 - accuracy: 0.5362 - val_loss: 0.6967 - val_accuracy: 0.4957\n",
      "Epoch 60/100\n",
      "10861/10861 [==============================] - 117s 11ms/step - loss: 0.6890 - accuracy: 0.5371 - val_loss: 0.6970 - val_accuracy: 0.5135\n",
      "Epoch 61/100\n",
      "10861/10861 [==============================] - 117s 11ms/step - loss: 0.6889 - accuracy: 0.5371 - val_loss: 0.6972 - val_accuracy: 0.4945\n",
      "Epoch 62/100\n",
      "10861/10861 [==============================] - 118s 11ms/step - loss: 0.6888 - accuracy: 0.5383 - val_loss: 0.6976 - val_accuracy: 0.4836\n",
      "Epoch 63/100\n",
      "10861/10861 [==============================] - 117s 11ms/step - loss: 0.6886 - accuracy: 0.5389 - val_loss: 0.6968 - val_accuracy: 0.4980\n",
      "Epoch 64/100\n",
      "10861/10861 [==============================] - 117s 11ms/step - loss: 0.6884 - accuracy: 0.5389 - val_loss: 0.6956 - val_accuracy: 0.5037\n",
      "Epoch 65/100\n",
      "10861/10861 [==============================] - 116s 11ms/step - loss: 0.6883 - accuracy: 0.5401 - val_loss: 0.6966 - val_accuracy: 0.5106\n",
      "Epoch 66/100\n",
      "10861/10861 [==============================] - 118s 11ms/step - loss: 0.6883 - accuracy: 0.5405 - val_loss: 0.6996 - val_accuracy: 0.4871\n",
      "Epoch 67/100\n",
      "10861/10861 [==============================] - 117s 11ms/step - loss: 0.6880 - accuracy: 0.5408 - val_loss: 0.6970 - val_accuracy: 0.5072\n",
      "Epoch 68/100\n",
      "10861/10861 [==============================] - 118s 11ms/step - loss: 0.6879 - accuracy: 0.5416 - val_loss: 0.6980 - val_accuracy: 0.5055\n",
      "Epoch 69/100\n",
      "10861/10861 [==============================] - 117s 11ms/step - loss: 0.6877 - accuracy: 0.5418 - val_loss: 0.6964 - val_accuracy: 0.5175\n",
      "Epoch 70/100\n",
      "10861/10861 [==============================] - 117s 11ms/step - loss: 0.6875 - accuracy: 0.5425 - val_loss: 0.6950 - val_accuracy: 0.5141\n",
      "Epoch 71/100\n",
      "10861/10861 [==============================] - 117s 11ms/step - loss: 0.6870 - accuracy: 0.5439 - val_loss: 0.6945 - val_accuracy: 0.5175\n",
      "Epoch 72/100\n",
      "10861/10861 [==============================] - 117s 11ms/step - loss: 0.6871 - accuracy: 0.5436 - val_loss: 0.6982 - val_accuracy: 0.5009\n",
      "Epoch 73/100\n",
      "10861/10861 [==============================] - 117s 11ms/step - loss: 0.6869 - accuracy: 0.5435 - val_loss: 0.6975 - val_accuracy: 0.5037\n",
      "Epoch 74/100\n",
      "10861/10861 [==============================] - 117s 11ms/step - loss: 0.6867 - accuracy: 0.5450 - val_loss: 0.6975 - val_accuracy: 0.5043\n",
      "Epoch 75/100\n",
      "10861/10861 [==============================] - 119s 11ms/step - loss: 0.6866 - accuracy: 0.5449 - val_loss: 0.6973 - val_accuracy: 0.4968\n",
      "Epoch 76/100\n",
      "10861/10861 [==============================] - 119s 11ms/step - loss: 0.6864 - accuracy: 0.5457 - val_loss: 0.6968 - val_accuracy: 0.5020\n",
      "Epoch 77/100\n",
      "10861/10861 [==============================] - 119s 11ms/step - loss: 0.6864 - accuracy: 0.5453 - val_loss: 0.6971 - val_accuracy: 0.4997\n",
      "Epoch 78/100\n",
      "10861/10861 [==============================] - 119s 11ms/step - loss: 0.6861 - accuracy: 0.5467 - val_loss: 0.6968 - val_accuracy: 0.5043\n",
      "Epoch 79/100\n",
      "10861/10861 [==============================] - 118s 11ms/step - loss: 0.6857 - accuracy: 0.5484 - val_loss: 0.6983 - val_accuracy: 0.5014\n",
      "Epoch 80/100\n",
      "10861/10861 [==============================] - 123s 11ms/step - loss: 0.6856 - accuracy: 0.5481 - val_loss: 0.6985 - val_accuracy: 0.4923\n",
      "Epoch 81/100\n",
      "10861/10861 [==============================] - 123s 11ms/step - loss: 0.6853 - accuracy: 0.5494 - val_loss: 0.6964 - val_accuracy: 0.5118\n",
      "Epoch 82/100\n",
      "10861/10861 [==============================] - 123s 11ms/step - loss: 0.6852 - accuracy: 0.5502 - val_loss: 0.6970 - val_accuracy: 0.5118\n",
      "Epoch 83/100\n",
      "10861/10861 [==============================] - 119s 11ms/step - loss: 0.6851 - accuracy: 0.5499 - val_loss: 0.6991 - val_accuracy: 0.5026\n",
      "Epoch 84/100\n",
      "10861/10861 [==============================] - 116s 11ms/step - loss: 0.6848 - accuracy: 0.5497 - val_loss: 0.6964 - val_accuracy: 0.5026\n",
      "Epoch 85/100\n",
      "10861/10861 [==============================] - 115s 11ms/step - loss: 0.6846 - accuracy: 0.5511 - val_loss: 0.6954 - val_accuracy: 0.5072\n",
      "Epoch 86/100\n",
      "10861/10861 [==============================] - 116s 11ms/step - loss: 0.6845 - accuracy: 0.5515 - val_loss: 0.6950 - val_accuracy: 0.5026\n",
      "Epoch 87/100\n",
      "10861/10861 [==============================] - 116s 11ms/step - loss: 0.6840 - accuracy: 0.5524 - val_loss: 0.6953 - val_accuracy: 0.5095\n",
      "Epoch 88/100\n",
      "10861/10861 [==============================] - 119s 11ms/step - loss: 0.6838 - accuracy: 0.5530 - val_loss: 0.6989 - val_accuracy: 0.5089\n",
      "Epoch 89/100\n",
      "10861/10861 [==============================] - 124s 11ms/step - loss: 0.6836 - accuracy: 0.5542 - val_loss: 0.6976 - val_accuracy: 0.5129\n",
      "Epoch 90/100\n",
      "10861/10861 [==============================] - 125s 11ms/step - loss: 0.6836 - accuracy: 0.5530 - val_loss: 0.6985 - val_accuracy: 0.5020\n",
      "Epoch 91/100\n",
      "10861/10861 [==============================] - 123s 11ms/step - loss: 0.6834 - accuracy: 0.5538 - val_loss: 0.6992 - val_accuracy: 0.5123\n",
      "Epoch 92/100\n",
      "10861/10861 [==============================] - 118s 11ms/step - loss: 0.6832 - accuracy: 0.5547 - val_loss: 0.6993 - val_accuracy: 0.5083\n",
      "Epoch 93/100\n",
      "10861/10861 [==============================] - 115s 11ms/step - loss: 0.6830 - accuracy: 0.5557 - val_loss: 0.7002 - val_accuracy: 0.5055\n",
      "Epoch 94/100\n",
      "10861/10861 [==============================] - 117s 11ms/step - loss: 0.6828 - accuracy: 0.5551 - val_loss: 0.7000 - val_accuracy: 0.5037\n",
      "Epoch 95/100\n",
      "10861/10861 [==============================] - 116s 11ms/step - loss: 0.6822 - accuracy: 0.5574 - val_loss: 0.6998 - val_accuracy: 0.5020\n",
      "Epoch 96/100\n",
      "10861/10861 [==============================] - 116s 11ms/step - loss: 0.6822 - accuracy: 0.5570 - val_loss: 0.6973 - val_accuracy: 0.5089\n",
      "Epoch 97/100\n",
      "10861/10861 [==============================] - 116s 11ms/step - loss: 0.6821 - accuracy: 0.5578 - val_loss: 0.6986 - val_accuracy: 0.5043\n",
      "Epoch 98/100\n",
      "10861/10861 [==============================] - 117s 11ms/step - loss: 0.6819 - accuracy: 0.5575 - val_loss: 0.7001 - val_accuracy: 0.5146\n",
      "Epoch 99/100\n",
      "10861/10861 [==============================] - 117s 11ms/step - loss: 0.6815 - accuracy: 0.5586 - val_loss: 0.7029 - val_accuracy: 0.4968\n",
      "Epoch 100/100\n",
      "10861/10861 [==============================] - 117s 11ms/step - loss: 0.6813 - accuracy: 0.5600 - val_loss: 0.7018 - val_accuracy: 0.5003\n"
     ]
    }
   ],
   "source": [
    "training_history=lstm_model.fit(X_train, y_train, epochs=100, batch_size=32, validation_data=(X_validation, y_validation))"
   ]
  },
  {
   "cell_type": "code",
   "execution_count": 44,
   "id": "1b04c1e5",
   "metadata": {},
   "outputs": [],
   "source": [
    "training_loss_values_lstm_classification=training_history.history['loss']\n",
    "training_accuracy_values_lstm_classification=training_history.history['accuracy']\n",
    "validation_loss_values_lstm_classification=training_history.history['val_loss']\n",
    "validation_accuracy_values_lstm_classification=training_history.history['val_accuracy']"
   ]
  },
  {
   "cell_type": "code",
   "execution_count": 45,
   "id": "977d5d7c",
   "metadata": {},
   "outputs": [],
   "source": [
    "lstm_model.save('./LSTM Model/LSTM Classification/LSTM_Classification_model.h5')\n",
    "lstm_model.save_weights('./LSTM Model/LSTM Classification/LSTM Classification_model_weights')\n",
    "np.savetxt('./LSTM Model/LSTM Classification/TrainingLossValues.txt', training_loss_values_lstm_classification)\n",
    "np.savetxt('./LSTM Model/LSTM Classification/TrainingAccuracyValues.txt', training_accuracy_values_lstm_classification)\n",
    "np.savetxt('./LSTM Model/LSTM Classification/ValidationLossValues.txt', validation_loss_values_lstm_classification)\n",
    "np.savetxt('./LSTM Model/LSTM Classification/ValidationAccuracyValues.txt', validation_accuracy_values_lstm_classification)"
   ]
  },
  {
   "cell_type": "code",
   "execution_count": 99,
   "id": "b6f83cfe",
   "metadata": {},
   "outputs": [],
   "source": [
    "lstm_model_classification=tf.keras.models.load_model('./LSTM Model/LSTM Classification/LSTM_Classification_model.h5')\n",
    "training_loss_values_lstm_classification=np.loadtxt('./LSTM Model/LSTM Classification/TrainingLossValues.txt')\n",
    "training_accuracy_values_lstm_classification=np.loadtxt('./LSTM Model/LSTM Classification/TrainingAccuracyValues.txt')\n",
    "validation_loss_values_lstm_classification=np.loadtxt('./LSTM Model/LSTM Classification/ValidationLossValues.txt')\n",
    "validation_accuracy_values_lstm_classification=np.loadtxt('./LSTM Model/LSTM Classification/ValidationAccuracyValues.txt')"
   ]
  },
  {
   "cell_type": "code",
   "execution_count": 102,
   "id": "d6029f27",
   "metadata": {},
   "outputs": [
    {
     "data": {
      "image/png": "[encoded data removed]",
      "text/plain": [
       "<Figure size 800x600 with 1 Axes>"
      ]
     },
     "metadata": {},
     "output_type": "display_data"
    }
   ],
   "source": [
    "plt.figure(figsize=(8,6))\n",
    "plt.title('Loss curve')\n",
    "plt.plot(range(1,101), training_loss_values_lstm_classification, color='blue', label='Training Loss')\n",
    "plt.plot(range(1,101), validation_loss_values_lstm_classification, color='red', label='Validation Loss')\n",
    "plt.legend()\n",
    "plt.show()"
   ]
  },
  {
   "cell_type": "code",
   "execution_count": 103,
   "id": "a1e67ac5",
   "metadata": {},
   "outputs": [
    {
     "data": {
      "image/png": "[encoded data removed]",
      "text/plain": [
       "<Figure size 800x600 with 1 Axes>"
      ]
     },
     "metadata": {},
     "output_type": "display_data"
    }
   ],
   "source": [
    "plt.figure(figsize=(8,6))\n",
    "plt.title('Accuracy curve')\n",
    "plt.plot(range(1,101), training_accuracy_values_lstm_classification, color='blue', label='Training Accuracy')\n",
    "plt.plot(range(1,101), validation_accuracy_values_lstm_classification, color='red', label='Validation Accuracy')\n",
    "plt.legend()\n",
    "plt.show()"
   ]
  },
  {
   "cell_type": "code",
   "execution_count": 105,
   "id": "e2fb2384",
   "metadata": {},
   "outputs": [
    {
     "name": "stdout",
     "output_type": "stream",
     "text": [
      "55/55 [==============================] - 1s 8ms/step - loss: 0.6967 - accuracy: 0.4931\n"
     ]
    }
   ],
   "source": [
    "score=lstm_model_classification.evaluate(X_test, y_test)"
   ]
  },
  {
   "cell_type": "code",
   "execution_count": 106,
   "id": "c5f644ef",
   "metadata": {},
   "outputs": [
    {
     "name": "stdout",
     "output_type": "stream",
     "text": [
      "55/55 [==============================] - 1s 6ms/step\n"
     ]
    }
   ],
   "source": [
    "predicted_close_prices=lstm_model_classification.predict(X_test)"
   ]
  },
  {
   "cell_type": "code",
   "execution_count": 107,
   "id": "ba191997",
   "metadata": {},
   "outputs": [
    {
     "data": {
      "text/plain": [
       "(351058,)"
      ]
     },
     "execution_count": 107,
     "metadata": {},
     "output_type": "execute_result"
    }
   ],
   "source": [
    "dataset_scaled[:, 5].shape"
   ]
  },
  {
   "cell_type": "code",
   "execution_count": 153,
   "id": "017eab1c",
   "metadata": {},
   "outputs": [
    {
     "data": {
      "text/plain": [
       "(1744, 1)"
      ]
     },
     "execution_count": 153,
     "metadata": {},
     "output_type": "execute_result"
    }
   ],
   "source": [
    "predicted_trend=(predicted_close_prices>=0.6).astype(int)\n",
    "predicted_trend.shape"
   ]
  },
  {
   "cell_type": "code",
   "execution_count": 154,
   "id": "440dccaa",
   "metadata": {},
   "outputs": [],
   "source": [
    "real_trend=np.reshape(dataset_scaled[-1744:, 5], newshape=(predicted_trend.shape[0], predicted_trend.shape[1]))"
   ]
  },
  {
   "cell_type": "code",
   "execution_count": 155,
   "id": "b55e0f41",
   "metadata": {},
   "outputs": [
    {
     "data": {
      "text/plain": [
       "0.6666666666666666"
      ]
     },
     "execution_count": 155,
     "metadata": {},
     "output_type": "execute_result"
    }
   ],
   "source": [
    "precision_score(real_trend, predicted_trend)"
   ]
  },
  {
   "cell_type": "markdown",
   "id": "1c31b207",
   "metadata": {},
   "source": [
    "### LSTM Regression Model"
   ]
  },
  {
   "cell_type": "code",
   "execution_count": 30,
   "id": "17b37141",
   "metadata": {},
   "outputs": [],
   "source": [
    "training_loss_values_lstm=np.loadtxt('./LSTM Model/TrainingLossValues.txt')\n",
    "lstm_model=tf.keras.models.load_model('./LSTM Model/LSTM_model.h5')"
   ]
  },
  {
   "cell_type": "code",
   "execution_count": 31,
   "id": "bc20938b",
   "metadata": {},
   "outputs": [
    {
     "data": {
      "image/png": "[encoded data removed]",
      "text/plain": [
       "<Figure size 800x800 with 1 Axes>"
      ]
     },
     "metadata": {},
     "output_type": "display_data"
    }
   ],
   "source": [
    "plt.figure(figsize=(8,8))\n",
    "plt.title('Loss vs Epoch')\n",
    "plt.xlabel('Epochs')\n",
    "plt.ylabel('Loss')\n",
    "plt.plot(range(1, 101), training_loss_values_lstm)\n",
    "plt.show()"
   ]
  },
  {
   "cell_type": "code",
   "execution_count": 32,
   "id": "c2c96310",
   "metadata": {},
   "outputs": [
    {
     "data": {
      "text/plain": [
       "(2745, 5)"
      ]
     },
     "execution_count": 32,
     "metadata": {},
     "output_type": "execute_result"
    }
   ],
   "source": [
    "test_inputs=test_and_validation_set[len(test_and_validation_set)-len(test_set):]\n",
    "test_inputs.shape"
   ]
  },
  {
   "cell_type": "code",
   "execution_count": 33,
   "id": "039c64dd",
   "metadata": {},
   "outputs": [
    {
     "data": {
      "text/plain": [
       "(2733,)"
      ]
     },
     "execution_count": 33,
     "metadata": {},
     "output_type": "execute_result"
    }
   ],
   "source": [
    "X_test=[]\n",
    "y_test=[]\n",
    "for i in range(12, len(test_inputs)):\n",
    "    X_test.append(test_inputs[i-12:i, :])\n",
    "    y_test.append(test_inputs[i, 1])\n",
    "    \n",
    "X_test, y_test=np.array(X_test), np.array(y_test)\n",
    "X_test=np.reshape(X_test, newshape=(X_test.shape[0], X_test.shape[1], X_test.shape[2]))\n",
    "y_test.shape"
   ]
  },
  {
   "cell_type": "code",
   "execution_count": 34,
   "id": "62699ccd",
   "metadata": {},
   "outputs": [
    {
     "name": "stdout",
     "output_type": "stream",
     "text": [
      "86/86 [==============================] - 6s 13ms/step - loss: 1.3950e-06\n"
     ]
    }
   ],
   "source": [
    "score=lstm_model.evaluate(X_test, y_test)"
   ]
  },
  {
   "cell_type": "code",
   "execution_count": 35,
   "id": "046f95e6",
   "metadata": {},
   "outputs": [
    {
     "name": "stdout",
     "output_type": "stream",
     "text": [
      "86/86 [==============================] - 3s 11ms/step\n"
     ]
    }
   ],
   "source": [
    "predicted_close_prices=lstm_model.predict(X_test)"
   ]
  },
  {
   "cell_type": "code",
   "execution_count": 36,
   "id": "626d948a",
   "metadata": {},
   "outputs": [
    {
     "data": {
      "text/plain": [
       "(2733, 1)"
      ]
     },
     "execution_count": 36,
     "metadata": {},
     "output_type": "execute_result"
    }
   ],
   "source": [
    "predicted_close_prices.shape"
   ]
  },
  {
   "cell_type": "code",
   "execution_count": 37,
   "id": "bb6bd860",
   "metadata": {},
   "outputs": [],
   "source": [
    "prediction_copies_array = np.repeat(predicted_close_prices,5, axis=-1)\n",
    "predicted_close_prices = scaler.inverse_transform(np.reshape(prediction_copies_array,(len(predicted_close_prices),5)))[:,0]"
   ]
  },
  {
   "cell_type": "code",
   "execution_count": 38,
   "id": "4a5287a6",
   "metadata": {},
   "outputs": [],
   "source": [
    "y_test_copy = np.repeat(y_test,5, axis=-1)\n",
    "y_test = scaler.inverse_transform(np.reshape(y_test_copy,(len(y_test),5)))[:,0]"
   ]
  },
  {
   "cell_type": "code",
   "execution_count": 39,
   "id": "9a23d938",
   "metadata": {},
   "outputs": [
    {
     "data": {
      "image/png": "[encoded data removed]",
      "text/plain": [
       "<Figure size 1000x800 with 1 Axes>"
      ]
     },
     "metadata": {},
     "output_type": "display_data"
    }
   ],
   "source": [
    "plt.figure(figsize=(10,8))\n",
    "plt.plot(predicted_close_prices[len(predicted_close_prices)-100:len(predicted_close_prices)], color='blue', label='Predicted price')\n",
    "plt.plot(y_test[len(y_test)-100:len(y_test)], color='red', label='Real price')\n",
    "plt.title(\"Close price\")\n",
    "plt.legend()\n",
    "plt.show()"
   ]
  },
  {
   "cell_type": "markdown",
   "id": "8514cbaf",
   "metadata": {},
   "source": [
    "### Building Random Forest Model"
   ]
  },
  {
   "cell_type": "code",
   "execution_count": 20,
   "id": "a6517734",
   "metadata": {},
   "outputs": [],
   "source": [
    "dataset_rf=df.copy()"
   ]
  },
  {
   "cell_type": "code",
   "execution_count": 21,
   "id": "dc850e73",
   "metadata": {},
   "outputs": [],
   "source": [
    "dataset_rf['tomorrow']=dataset_rf['close'].shift(-1)"
   ]
  },
  {
   "cell_type": "code",
   "execution_count": 22,
   "id": "60a12ada",
   "metadata": {},
   "outputs": [],
   "source": [
    "dataset_rf['target']=(dataset_rf['tomorrow'] > dataset_rf['close']).astype(int)"
   ]
  },
  {
   "cell_type": "code",
   "execution_count": 23,
   "id": "208008f3",
   "metadata": {},
   "outputs": [
    {
     "data": {
      "text/html": [
       "<div>\n",
       "<style scoped>\n",
       "    .dataframe tbody tr th:only-of-type {\n",
       "        vertical-align: middle;\n",
       "    }\n",
       "\n",
       "    .dataframe tbody tr th {\n",
       "        vertical-align: top;\n",
       "    }\n",
       "\n",
       "    .dataframe thead th {\n",
       "        text-align: right;\n",
       "    }\n",
       "</style>\n",
       "<table border=\"1\" class=\"dataframe\">\n",
       "  <thead>\n",
       "    <tr style=\"text-align: right;\">\n",
       "      <th></th>\n",
       "      <th>open</th>\n",
       "      <th>close</th>\n",
       "      <th>high</th>\n",
       "      <th>low</th>\n",
       "      <th>volume</th>\n",
       "      <th>target</th>\n",
       "      <th>tomorrow</th>\n",
       "    </tr>\n",
       "    <tr>\n",
       "      <th>time</th>\n",
       "      <th></th>\n",
       "      <th></th>\n",
       "      <th></th>\n",
       "      <th></th>\n",
       "      <th></th>\n",
       "      <th></th>\n",
       "      <th></th>\n",
       "    </tr>\n",
       "  </thead>\n",
       "  <tbody>\n",
       "    <tr>\n",
       "      <th>2020-04-09 00:00:00</th>\n",
       "      <td>172.20</td>\n",
       "      <td>172.12</td>\n",
       "      <td>172.34</td>\n",
       "      <td>172.07</td>\n",
       "      <td>204.24</td>\n",
       "      <td>0</td>\n",
       "      <td>171.93</td>\n",
       "    </tr>\n",
       "    <tr>\n",
       "      <th>2020-04-09 00:05:00</th>\n",
       "      <td>172.14</td>\n",
       "      <td>171.93</td>\n",
       "      <td>172.16</td>\n",
       "      <td>171.80</td>\n",
       "      <td>191.04</td>\n",
       "      <td>1</td>\n",
       "      <td>172.12</td>\n",
       "    </tr>\n",
       "    <tr>\n",
       "      <th>2020-04-09 00:10:00</th>\n",
       "      <td>171.94</td>\n",
       "      <td>172.12</td>\n",
       "      <td>172.26</td>\n",
       "      <td>171.91</td>\n",
       "      <td>200.84</td>\n",
       "      <td>0</td>\n",
       "      <td>172.02</td>\n",
       "    </tr>\n",
       "    <tr>\n",
       "      <th>2020-04-09 00:15:00</th>\n",
       "      <td>172.12</td>\n",
       "      <td>172.02</td>\n",
       "      <td>172.28</td>\n",
       "      <td>171.98</td>\n",
       "      <td>198.00</td>\n",
       "      <td>0</td>\n",
       "      <td>171.87</td>\n",
       "    </tr>\n",
       "    <tr>\n",
       "      <th>2020-04-09 00:20:00</th>\n",
       "      <td>171.99</td>\n",
       "      <td>171.87</td>\n",
       "      <td>172.10</td>\n",
       "      <td>171.72</td>\n",
       "      <td>208.17</td>\n",
       "      <td>1</td>\n",
       "      <td>171.88</td>\n",
       "    </tr>\n",
       "    <tr>\n",
       "      <th>...</th>\n",
       "      <td>...</td>\n",
       "      <td>...</td>\n",
       "      <td>...</td>\n",
       "      <td>...</td>\n",
       "      <td>...</td>\n",
       "      <td>...</td>\n",
       "      <td>...</td>\n",
       "    </tr>\n",
       "    <tr>\n",
       "      <th>2023-08-10 23:30:00</th>\n",
       "      <td>1849.37</td>\n",
       "      <td>1849.86</td>\n",
       "      <td>1849.86</td>\n",
       "      <td>1849.32</td>\n",
       "      <td>666.97</td>\n",
       "      <td>1</td>\n",
       "      <td>1850.13</td>\n",
       "    </tr>\n",
       "    <tr>\n",
       "      <th>2023-08-10 23:35:00</th>\n",
       "      <td>1849.86</td>\n",
       "      <td>1850.13</td>\n",
       "      <td>1850.13</td>\n",
       "      <td>1849.32</td>\n",
       "      <td>585.88</td>\n",
       "      <td>1</td>\n",
       "      <td>1850.67</td>\n",
       "    </tr>\n",
       "    <tr>\n",
       "      <th>2023-08-10 23:40:00</th>\n",
       "      <td>1850.14</td>\n",
       "      <td>1850.67</td>\n",
       "      <td>1850.71</td>\n",
       "      <td>1850.00</td>\n",
       "      <td>443.23</td>\n",
       "      <td>1</td>\n",
       "      <td>1851.03</td>\n",
       "    </tr>\n",
       "    <tr>\n",
       "      <th>2023-08-10 23:45:00</th>\n",
       "      <td>1850.67</td>\n",
       "      <td>1851.03</td>\n",
       "      <td>1851.54</td>\n",
       "      <td>1850.67</td>\n",
       "      <td>1229.89</td>\n",
       "      <td>0</td>\n",
       "      <td>1850.37</td>\n",
       "    </tr>\n",
       "    <tr>\n",
       "      <th>2023-08-10 23:50:00</th>\n",
       "      <td>1851.04</td>\n",
       "      <td>1850.37</td>\n",
       "      <td>1851.04</td>\n",
       "      <td>1850.10</td>\n",
       "      <td>212.13</td>\n",
       "      <td>0</td>\n",
       "      <td>NaN</td>\n",
       "    </tr>\n",
       "  </tbody>\n",
       "</table>\n",
       "<p>351346 rows × 7 columns</p>\n",
       "</div>"
      ],
      "text/plain": [
       "                        open    close     high      low   volume  target  \\\n",
       "time                                                                       \n",
       "2020-04-09 00:00:00   172.20   172.12   172.34   172.07   204.24       0   \n",
       "2020-04-09 00:05:00   172.14   171.93   172.16   171.80   191.04       1   \n",
       "2020-04-09 00:10:00   171.94   172.12   172.26   171.91   200.84       0   \n",
       "2020-04-09 00:15:00   172.12   172.02   172.28   171.98   198.00       0   \n",
       "2020-04-09 00:20:00   171.99   171.87   172.10   171.72   208.17       1   \n",
       "...                      ...      ...      ...      ...      ...     ...   \n",
       "2023-08-10 23:30:00  1849.37  1849.86  1849.86  1849.32   666.97       1   \n",
       "2023-08-10 23:35:00  1849.86  1850.13  1850.13  1849.32   585.88       1   \n",
       "2023-08-10 23:40:00  1850.14  1850.67  1850.71  1850.00   443.23       1   \n",
       "2023-08-10 23:45:00  1850.67  1851.03  1851.54  1850.67  1229.89       0   \n",
       "2023-08-10 23:50:00  1851.04  1850.37  1851.04  1850.10   212.13       0   \n",
       "\n",
       "                     tomorrow  \n",
       "time                           \n",
       "2020-04-09 00:00:00    171.93  \n",
       "2020-04-09 00:05:00    172.12  \n",
       "2020-04-09 00:10:00    172.02  \n",
       "2020-04-09 00:15:00    171.87  \n",
       "2020-04-09 00:20:00    171.88  \n",
       "...                       ...  \n",
       "2023-08-10 23:30:00   1850.13  \n",
       "2023-08-10 23:35:00   1850.67  \n",
       "2023-08-10 23:40:00   1851.03  \n",
       "2023-08-10 23:45:00   1850.37  \n",
       "2023-08-10 23:50:00       NaN  \n",
       "\n",
       "[351346 rows x 7 columns]"
      ]
     },
     "execution_count": 23,
     "metadata": {},
     "output_type": "execute_result"
    }
   ],
   "source": [
    "dataset_rf"
   ]
  },
  {
   "cell_type": "code",
   "execution_count": 24,
   "id": "fe68b52a",
   "metadata": {},
   "outputs": [],
   "source": [
    "randomForest_model=RandomForestClassifier(n_estimators=300, min_samples_split=100, random_state=1)"
   ]
  },
  {
   "cell_type": "code",
   "execution_count": 25,
   "id": "1cbd1b31",
   "metadata": {},
   "outputs": [],
   "source": [
    "trainset_rf=dataset_rf.iloc[:-100]\n",
    "testset_rf=dataset_rf.iloc[-100:]\n",
    "predictors=['close', 'open', 'low', 'high', 'volume']"
   ]
  },
  {
   "cell_type": "code",
   "execution_count": 30,
   "id": "07e07bae",
   "metadata": {},
   "outputs": [
    {
     "data": {
      "text/html": [
       "<style>#sk-container-id-1 {color: black;}#sk-container-id-1 pre{padding: 0;}#sk-container-id-1 div.sk-toggleable {background-color: white;}#sk-container-id-1 label.sk-toggleable__label {cursor: pointer;display: block;width: 100%;margin-bottom: 0;padding: 0.3em;box-sizing: border-box;text-align: center;}#sk-container-id-1 label.sk-toggleable__label-arrow:before {content: \"▸\";float: left;margin-right: 0.25em;color: #696969;}#sk-container-id-1 label.sk-toggleable__label-arrow:hover:before {color: black;}#sk-container-id-1 div.sk-estimator:hover label.sk-toggleable__label-arrow:before {color: black;}#sk-container-id-1 div.sk-toggleable__content {max-height: 0;max-width: 0;overflow: hidden;text-align: left;background-color: #f0f8ff;}#sk-container-id-1 div.sk-toggleable__content pre {margin: 0.2em;color: black;border-radius: 0.25em;background-color: #f0f8ff;}#sk-container-id-1 input.sk-toggleable__control:checked~div.sk-toggleable__content {max-height: 200px;max-width: 100%;overflow: auto;}#sk-container-id-1 input.sk-toggleable__control:checked~label.sk-toggleable__label-arrow:before {content: \"▾\";}#sk-container-id-1 div.sk-estimator input.sk-toggleable__control:checked~label.sk-toggleable__label {background-color: #d4ebff;}#sk-container-id-1 div.sk-label input.sk-toggleable__control:checked~label.sk-toggleable__label {background-color: #d4ebff;}#sk-container-id-1 input.sk-hidden--visually {border: 0;clip: rect(1px 1px 1px 1px);clip: rect(1px, 1px, 1px, 1px);height: 1px;margin: -1px;overflow: hidden;padding: 0;position: absolute;width: 1px;}#sk-container-id-1 div.sk-estimator {font-family: monospace;background-color: #f0f8ff;border: 1px dotted black;border-radius: 0.25em;box-sizing: border-box;margin-bottom: 0.5em;}#sk-container-id-1 div.sk-estimator:hover {background-color: #d4ebff;}#sk-container-id-1 div.sk-parallel-item::after {content: \"\";width: 100%;border-bottom: 1px solid gray;flex-grow: 1;}#sk-container-id-1 div.sk-label:hover label.sk-toggleable__label {background-color: #d4ebff;}#sk-container-id-1 div.sk-serial::before {content: \"\";position: absolute;border-left: 1px solid gray;box-sizing: border-box;top: 0;bottom: 0;left: 50%;z-index: 0;}#sk-container-id-1 div.sk-serial {display: flex;flex-direction: column;align-items: center;background-color: white;padding-right: 0.2em;padding-left: 0.2em;position: relative;}#sk-container-id-1 div.sk-item {position: relative;z-index: 1;}#sk-container-id-1 div.sk-parallel {display: flex;align-items: stretch;justify-content: center;background-color: white;position: relative;}#sk-container-id-1 div.sk-item::before, #sk-container-id-1 div.sk-parallel-item::before {content: \"\";position: absolute;border-left: 1px solid gray;box-sizing: border-box;top: 0;bottom: 0;left: 50%;z-index: -1;}#sk-container-id-1 div.sk-parallel-item {display: flex;flex-direction: column;z-index: 1;position: relative;background-color: white;}#sk-container-id-1 div.sk-parallel-item:first-child::after {align-self: flex-end;width: 50%;}#sk-container-id-1 div.sk-parallel-item:last-child::after {align-self: flex-start;width: 50%;}#sk-container-id-1 div.sk-parallel-item:only-child::after {width: 0;}#sk-container-id-1 div.sk-dashed-wrapped {border: 1px dashed gray;margin: 0 0.4em 0.5em 0.4em;box-sizing: border-box;padding-bottom: 0.4em;background-color: white;}#sk-container-id-1 div.sk-label label {font-family: monospace;font-weight: bold;display: inline-block;line-height: 1.2em;}#sk-container-id-1 div.sk-label-container {text-align: center;}#sk-container-id-1 div.sk-container {/* jupyter's `normalize.less` sets `[hidden] { display: none; }` but bootstrap.min.css set `[hidden] { display: none !important; }` so we also need the `!important` here to be able to override the default hidden behavior on the sphinx rendered scikit-learn.org. See: https://github.com/scikit-learn/scikit-learn/issues/21755 */display: inline-block !important;position: relative;}#sk-container-id-1 div.sk-text-repr-fallback {display: none;}</style><div id=\"sk-container-id-1\" class=\"sk-top-container\"><div class=\"sk-text-repr-fallback\"><pre>RandomForestClassifier(min_samples_split=100, n_estimators=150, random_state=1)</pre><b>In a Jupyter environment, please rerun this cell to show the HTML representation or trust the notebook. <br />On GitHub, the HTML representation is unable to render, please try loading this page with nbviewer.org.</b></div><div class=\"sk-container\" hidden><div class=\"sk-item\"><div class=\"sk-estimator sk-toggleable\"><input class=\"sk-toggleable__control sk-hidden--visually\" id=\"sk-estimator-id-1\" type=\"checkbox\" checked><label for=\"sk-estimator-id-1\" class=\"sk-toggleable__label sk-toggleable__label-arrow\">RandomForestClassifier</label><div class=\"sk-toggleable__content\"><pre>RandomForestClassifier(min_samples_split=100, n_estimators=150, random_state=1)</pre></div></div></div></div></div>"
      ],
      "text/plain": [
       "RandomForestClassifier(min_samples_split=100, n_estimators=150, random_state=1)"
      ]
     },
     "execution_count": 30,
     "metadata": {},
     "output_type": "execute_result"
    }
   ],
   "source": [
    "randomForest_model.fit(trainset_rf[predictors], trainset_rf['target'])"
   ]
  },
  {
   "cell_type": "code",
   "execution_count": 31,
   "id": "f7419ce2",
   "metadata": {},
   "outputs": [],
   "source": [
    "predictions=randomForest_model.predict(testset_rf[predictors])\n",
    "predictions=pd.Series(predictions, index=testset_rf.index)"
   ]
  },
  {
   "cell_type": "code",
   "execution_count": 32,
   "id": "a9791400",
   "metadata": {},
   "outputs": [
    {
     "data": {
      "text/plain": [
       "0.47761194029850745"
      ]
     },
     "execution_count": 32,
     "metadata": {},
     "output_type": "execute_result"
    }
   ],
   "source": [
    "precision_score(testset_rf['target'], predictions)"
   ]
  },
  {
   "cell_type": "code",
   "execution_count": 33,
   "id": "4badaf7d",
   "metadata": {},
   "outputs": [],
   "source": [
    "results_rf=pd.concat([testset_rf['target'], predictions], axis=1)"
   ]
  },
  {
   "cell_type": "code",
   "execution_count": 34,
   "id": "d27e6a0a",
   "metadata": {},
   "outputs": [
    {
     "data": {
      "image/png": "[encoded data removed]",
      "text/plain": [
       "<Figure size 640x480 with 1 Axes>"
      ]
     },
     "metadata": {},
     "output_type": "display_data"
    }
   ],
   "source": [
    "plt.plot(range(0,100) ,results_rf)\n",
    "plt.show()"
   ]
  },
  {
   "cell_type": "code",
   "execution_count": 26,
   "id": "e5a7155d",
   "metadata": {},
   "outputs": [],
   "source": [
    "def predict(train, test, predictors, model):\n",
    "    model.fit(train[predictors], train['target'])\n",
    "    preds=model.predict_proba(test[predictors])[:,1]\n",
    "    preds[preds>=0.6]=1\n",
    "    preds[preds<0.6]=0\n",
    "    preds=pd.Series(preds, index=test.index, name=\"Predictions\")\n",
    "    combined=pd.concat([test['target'], preds], axis=1)\n",
    "    return combined"
   ]
  },
  {
   "cell_type": "code",
   "execution_count": 27,
   "id": "d2406d21",
   "metadata": {},
   "outputs": [],
   "source": [
    "def backtest(data, model, predictors, start=2500, step=250):\n",
    "    all_predictions=[]\n",
    "    \n",
    "    for i in range(start, data.shape[0], step):\n",
    "        train=data.iloc[0:i].copy()\n",
    "        test=data.iloc[i:(i+step)].copy()\n",
    "        predictions=predict(train, test, predictors, model)\n",
    "        all_predictions.append(predictions)\n",
    "    return pd.concat(all_predictions)"
   ]
  },
  {
   "cell_type": "code",
   "execution_count": 28,
   "id": "0b8e61f2",
   "metadata": {},
   "outputs": [],
   "source": [
    "horizons=[12, 60, 120, 216, 288]\n",
    "new_predictors=[]\n",
    "\n",
    "for horizon in horizons:\n",
    "    rolling_averages=dataset_rf.rolling(horizon).mean()\n",
    "    ratio_column=f\"Close_Ratio_{horizon}\"\n",
    "    dataset_rf[ratio_column]=dataset_rf['close']/rolling_averages['close']\n",
    "    \n",
    "    trend_column=f\"Trend_{horizon}\"\n",
    "    dataset_rf[trend_column]=dataset_rf.shift(1).rolling(horizon).sum()['target']\n",
    "    \n",
    "    new_predictors+=[ratio_column, trend_column]"
   ]
  },
  {
   "cell_type": "code",
   "execution_count": 29,
   "id": "bd23f4c0",
   "metadata": {},
   "outputs": [],
   "source": [
    "dataset_rf=dataset_rf.dropna()"
   ]
  },
  {
   "cell_type": "code",
   "execution_count": 30,
   "id": "859d99e9",
   "metadata": {},
   "outputs": [
    {
     "data": {
      "text/html": [
       "<div>\n",
       "<style scoped>\n",
       "    .dataframe tbody tr th:only-of-type {\n",
       "        vertical-align: middle;\n",
       "    }\n",
       "\n",
       "    .dataframe tbody tr th {\n",
       "        vertical-align: top;\n",
       "    }\n",
       "\n",
       "    .dataframe thead th {\n",
       "        text-align: right;\n",
       "    }\n",
       "</style>\n",
       "<table border=\"1\" class=\"dataframe\">\n",
       "  <thead>\n",
       "    <tr style=\"text-align: right;\">\n",
       "      <th></th>\n",
       "      <th>open</th>\n",
       "      <th>close</th>\n",
       "      <th>high</th>\n",
       "      <th>low</th>\n",
       "      <th>volume</th>\n",
       "      <th>target</th>\n",
       "      <th>tomorrow</th>\n",
       "      <th>Close_Ratio_12</th>\n",
       "      <th>Trend_12</th>\n",
       "      <th>Close_Ratio_60</th>\n",
       "      <th>Trend_60</th>\n",
       "      <th>Close_Ratio_120</th>\n",
       "      <th>Trend_120</th>\n",
       "      <th>Close_Ratio_216</th>\n",
       "      <th>Trend_216</th>\n",
       "      <th>Close_Ratio_288</th>\n",
       "      <th>Trend_288</th>\n",
       "    </tr>\n",
       "    <tr>\n",
       "      <th>time</th>\n",
       "      <th></th>\n",
       "      <th></th>\n",
       "      <th></th>\n",
       "      <th></th>\n",
       "      <th></th>\n",
       "      <th></th>\n",
       "      <th></th>\n",
       "      <th></th>\n",
       "      <th></th>\n",
       "      <th></th>\n",
       "      <th></th>\n",
       "      <th></th>\n",
       "      <th></th>\n",
       "      <th></th>\n",
       "      <th></th>\n",
       "      <th></th>\n",
       "      <th></th>\n",
       "    </tr>\n",
       "  </thead>\n",
       "  <tbody>\n",
       "    <tr>\n",
       "      <th>2020-04-10 00:00:00</th>\n",
       "      <td>169.03</td>\n",
       "      <td>168.94</td>\n",
       "      <td>169.04</td>\n",
       "      <td>168.86</td>\n",
       "      <td>190.78</td>\n",
       "      <td>1</td>\n",
       "      <td>169.06</td>\n",
       "      <td>0.999995</td>\n",
       "      <td>5.0</td>\n",
       "      <td>0.996742</td>\n",
       "      <td>27.0</td>\n",
       "      <td>0.994254</td>\n",
       "      <td>55.0</td>\n",
       "      <td>0.991846</td>\n",
       "      <td>106.0</td>\n",
       "      <td>0.989144</td>\n",
       "      <td>144.0</td>\n",
       "    </tr>\n",
       "    <tr>\n",
       "      <th>2020-04-10 00:05:00</th>\n",
       "      <td>168.94</td>\n",
       "      <td>169.06</td>\n",
       "      <td>169.16</td>\n",
       "      <td>168.94</td>\n",
       "      <td>212.42</td>\n",
       "      <td>1</td>\n",
       "      <td>169.64</td>\n",
       "      <td>1.000493</td>\n",
       "      <td>6.0</td>\n",
       "      <td>0.997531</td>\n",
       "      <td>27.0</td>\n",
       "      <td>0.995063</td>\n",
       "      <td>55.0</td>\n",
       "      <td>0.992593</td>\n",
       "      <td>107.0</td>\n",
       "      <td>0.989904</td>\n",
       "      <td>145.0</td>\n",
       "    </tr>\n",
       "    <tr>\n",
       "      <th>2020-04-10 00:10:00</th>\n",
       "      <td>169.03</td>\n",
       "      <td>169.64</td>\n",
       "      <td>169.68</td>\n",
       "      <td>169.00</td>\n",
       "      <td>183.46</td>\n",
       "      <td>1</td>\n",
       "      <td>169.69</td>\n",
       "      <td>1.003609</td>\n",
       "      <td>6.0</td>\n",
       "      <td>1.000937</td>\n",
       "      <td>28.0</td>\n",
       "      <td>0.998548</td>\n",
       "      <td>56.0</td>\n",
       "      <td>0.996041</td>\n",
       "      <td>107.0</td>\n",
       "      <td>0.993350</td>\n",
       "      <td>145.0</td>\n",
       "    </tr>\n",
       "    <tr>\n",
       "      <th>2020-04-10 00:15:00</th>\n",
       "      <td>169.66</td>\n",
       "      <td>169.69</td>\n",
       "      <td>169.69</td>\n",
       "      <td>169.43</td>\n",
       "      <td>199.67</td>\n",
       "      <td>1</td>\n",
       "      <td>170.48</td>\n",
       "      <td>1.003479</td>\n",
       "      <td>7.0</td>\n",
       "      <td>1.001224</td>\n",
       "      <td>28.0</td>\n",
       "      <td>0.998913</td>\n",
       "      <td>56.0</td>\n",
       "      <td>0.996384</td>\n",
       "      <td>107.0</td>\n",
       "      <td>0.993690</td>\n",
       "      <td>146.0</td>\n",
       "    </tr>\n",
       "    <tr>\n",
       "      <th>2020-04-10 00:20:00</th>\n",
       "      <td>169.68</td>\n",
       "      <td>170.48</td>\n",
       "      <td>170.48</td>\n",
       "      <td>169.57</td>\n",
       "      <td>190.82</td>\n",
       "      <td>0</td>\n",
       "      <td>170.29</td>\n",
       "      <td>1.007515</td>\n",
       "      <td>7.0</td>\n",
       "      <td>1.005791</td>\n",
       "      <td>29.0</td>\n",
       "      <td>1.003589</td>\n",
       "      <td>57.0</td>\n",
       "      <td>1.001046</td>\n",
       "      <td>108.0</td>\n",
       "      <td>0.998344</td>\n",
       "      <td>147.0</td>\n",
       "    </tr>\n",
       "    <tr>\n",
       "      <th>...</th>\n",
       "      <td>...</td>\n",
       "      <td>...</td>\n",
       "      <td>...</td>\n",
       "      <td>...</td>\n",
       "      <td>...</td>\n",
       "      <td>...</td>\n",
       "      <td>...</td>\n",
       "      <td>...</td>\n",
       "      <td>...</td>\n",
       "      <td>...</td>\n",
       "      <td>...</td>\n",
       "      <td>...</td>\n",
       "      <td>...</td>\n",
       "      <td>...</td>\n",
       "      <td>...</td>\n",
       "      <td>...</td>\n",
       "      <td>...</td>\n",
       "    </tr>\n",
       "    <tr>\n",
       "      <th>2023-08-10 23:25:00</th>\n",
       "      <td>1849.46</td>\n",
       "      <td>1849.37</td>\n",
       "      <td>1849.99</td>\n",
       "      <td>1849.19</td>\n",
       "      <td>1153.56</td>\n",
       "      <td>1</td>\n",
       "      <td>1849.86</td>\n",
       "      <td>1.000093</td>\n",
       "      <td>5.0</td>\n",
       "      <td>0.999334</td>\n",
       "      <td>28.0</td>\n",
       "      <td>0.998338</td>\n",
       "      <td>55.0</td>\n",
       "      <td>0.998443</td>\n",
       "      <td>95.0</td>\n",
       "      <td>0.998178</td>\n",
       "      <td>136.0</td>\n",
       "    </tr>\n",
       "    <tr>\n",
       "      <th>2023-08-10 23:30:00</th>\n",
       "      <td>1849.37</td>\n",
       "      <td>1849.86</td>\n",
       "      <td>1849.86</td>\n",
       "      <td>1849.32</td>\n",
       "      <td>666.97</td>\n",
       "      <td>1</td>\n",
       "      <td>1850.13</td>\n",
       "      <td>1.000355</td>\n",
       "      <td>6.0</td>\n",
       "      <td>0.999631</td>\n",
       "      <td>28.0</td>\n",
       "      <td>0.998612</td>\n",
       "      <td>55.0</td>\n",
       "      <td>0.998719</td>\n",
       "      <td>96.0</td>\n",
       "      <td>0.998440</td>\n",
       "      <td>136.0</td>\n",
       "    </tr>\n",
       "    <tr>\n",
       "      <th>2023-08-10 23:35:00</th>\n",
       "      <td>1849.86</td>\n",
       "      <td>1850.13</td>\n",
       "      <td>1850.13</td>\n",
       "      <td>1849.32</td>\n",
       "      <td>585.88</td>\n",
       "      <td>1</td>\n",
       "      <td>1850.67</td>\n",
       "      <td>1.000496</td>\n",
       "      <td>6.0</td>\n",
       "      <td>0.999792</td>\n",
       "      <td>29.0</td>\n",
       "      <td>0.998763</td>\n",
       "      <td>56.0</td>\n",
       "      <td>0.998877</td>\n",
       "      <td>96.0</td>\n",
       "      <td>0.998586</td>\n",
       "      <td>136.0</td>\n",
       "    </tr>\n",
       "    <tr>\n",
       "      <th>2023-08-10 23:40:00</th>\n",
       "      <td>1850.14</td>\n",
       "      <td>1850.67</td>\n",
       "      <td>1850.71</td>\n",
       "      <td>1850.00</td>\n",
       "      <td>443.23</td>\n",
       "      <td>1</td>\n",
       "      <td>1851.03</td>\n",
       "      <td>1.000758</td>\n",
       "      <td>7.0</td>\n",
       "      <td>1.000107</td>\n",
       "      <td>29.0</td>\n",
       "      <td>0.999057</td>\n",
       "      <td>57.0</td>\n",
       "      <td>0.999183</td>\n",
       "      <td>96.0</td>\n",
       "      <td>0.998878</td>\n",
       "      <td>136.0</td>\n",
       "    </tr>\n",
       "    <tr>\n",
       "      <th>2023-08-10 23:45:00</th>\n",
       "      <td>1850.67</td>\n",
       "      <td>1851.03</td>\n",
       "      <td>1851.54</td>\n",
       "      <td>1850.67</td>\n",
       "      <td>1229.89</td>\n",
       "      <td>0</td>\n",
       "      <td>1850.37</td>\n",
       "      <td>1.000896</td>\n",
       "      <td>8.0</td>\n",
       "      <td>1.000325</td>\n",
       "      <td>29.0</td>\n",
       "      <td>0.999252</td>\n",
       "      <td>58.0</td>\n",
       "      <td>0.999388</td>\n",
       "      <td>97.0</td>\n",
       "      <td>0.999073</td>\n",
       "      <td>136.0</td>\n",
       "    </tr>\n",
       "  </tbody>\n",
       "</table>\n",
       "<p>351057 rows × 17 columns</p>\n",
       "</div>"
      ],
      "text/plain": [
       "                        open    close     high      low   volume  target  \\\n",
       "time                                                                       \n",
       "2020-04-10 00:00:00   169.03   168.94   169.04   168.86   190.78       1   \n",
       "2020-04-10 00:05:00   168.94   169.06   169.16   168.94   212.42       1   \n",
       "2020-04-10 00:10:00   169.03   169.64   169.68   169.00   183.46       1   \n",
       "2020-04-10 00:15:00   169.66   169.69   169.69   169.43   199.67       1   \n",
       "2020-04-10 00:20:00   169.68   170.48   170.48   169.57   190.82       0   \n",
       "...                      ...      ...      ...      ...      ...     ...   \n",
       "2023-08-10 23:25:00  1849.46  1849.37  1849.99  1849.19  1153.56       1   \n",
       "2023-08-10 23:30:00  1849.37  1849.86  1849.86  1849.32   666.97       1   \n",
       "2023-08-10 23:35:00  1849.86  1850.13  1850.13  1849.32   585.88       1   \n",
       "2023-08-10 23:40:00  1850.14  1850.67  1850.71  1850.00   443.23       1   \n",
       "2023-08-10 23:45:00  1850.67  1851.03  1851.54  1850.67  1229.89       0   \n",
       "\n",
       "                     tomorrow  Close_Ratio_12  Trend_12  Close_Ratio_60  \\\n",
       "time                                                                      \n",
       "2020-04-10 00:00:00    169.06        0.999995       5.0        0.996742   \n",
       "2020-04-10 00:05:00    169.64        1.000493       6.0        0.997531   \n",
       "2020-04-10 00:10:00    169.69        1.003609       6.0        1.000937   \n",
       "2020-04-10 00:15:00    170.48        1.003479       7.0        1.001224   \n",
       "2020-04-10 00:20:00    170.29        1.007515       7.0        1.005791   \n",
       "...                       ...             ...       ...             ...   \n",
       "2023-08-10 23:25:00   1849.86        1.000093       5.0        0.999334   \n",
       "2023-08-10 23:30:00   1850.13        1.000355       6.0        0.999631   \n",
       "2023-08-10 23:35:00   1850.67        1.000496       6.0        0.999792   \n",
       "2023-08-10 23:40:00   1851.03        1.000758       7.0        1.000107   \n",
       "2023-08-10 23:45:00   1850.37        1.000896       8.0        1.000325   \n",
       "\n",
       "                     Trend_60  Close_Ratio_120  Trend_120  Close_Ratio_216  \\\n",
       "time                                                                         \n",
       "2020-04-10 00:00:00      27.0         0.994254       55.0         0.991846   \n",
       "2020-04-10 00:05:00      27.0         0.995063       55.0         0.992593   \n",
       "2020-04-10 00:10:00      28.0         0.998548       56.0         0.996041   \n",
       "2020-04-10 00:15:00      28.0         0.998913       56.0         0.996384   \n",
       "2020-04-10 00:20:00      29.0         1.003589       57.0         1.001046   \n",
       "...                       ...              ...        ...              ...   \n",
       "2023-08-10 23:25:00      28.0         0.998338       55.0         0.998443   \n",
       "2023-08-10 23:30:00      28.0         0.998612       55.0         0.998719   \n",
       "2023-08-10 23:35:00      29.0         0.998763       56.0         0.998877   \n",
       "2023-08-10 23:40:00      29.0         0.999057       57.0         0.999183   \n",
       "2023-08-10 23:45:00      29.0         0.999252       58.0         0.999388   \n",
       "\n",
       "                     Trend_216  Close_Ratio_288  Trend_288  \n",
       "time                                                        \n",
       "2020-04-10 00:00:00      106.0         0.989144      144.0  \n",
       "2020-04-10 00:05:00      107.0         0.989904      145.0  \n",
       "2020-04-10 00:10:00      107.0         0.993350      145.0  \n",
       "2020-04-10 00:15:00      107.0         0.993690      146.0  \n",
       "2020-04-10 00:20:00      108.0         0.998344      147.0  \n",
       "...                        ...              ...        ...  \n",
       "2023-08-10 23:25:00       95.0         0.998178      136.0  \n",
       "2023-08-10 23:30:00       96.0         0.998440      136.0  \n",
       "2023-08-10 23:35:00       96.0         0.998586      136.0  \n",
       "2023-08-10 23:40:00       96.0         0.998878      136.0  \n",
       "2023-08-10 23:45:00       97.0         0.999073      136.0  \n",
       "\n",
       "[351057 rows x 17 columns]"
      ]
     },
     "execution_count": 30,
     "metadata": {},
     "output_type": "execute_result"
    }
   ],
   "source": [
    "dataset_rf"
   ]
  },
  {
   "cell_type": "code",
   "execution_count": 31,
   "id": "9e94a14f",
   "metadata": {},
   "outputs": [
    {
     "data": {
      "text/html": [
       "<div>\n",
       "<style scoped>\n",
       "    .dataframe tbody tr th:only-of-type {\n",
       "        vertical-align: middle;\n",
       "    }\n",
       "\n",
       "    .dataframe tbody tr th {\n",
       "        vertical-align: top;\n",
       "    }\n",
       "\n",
       "    .dataframe thead th {\n",
       "        text-align: right;\n",
       "    }\n",
       "</style>\n",
       "<table border=\"1\" class=\"dataframe\">\n",
       "  <thead>\n",
       "    <tr style=\"text-align: right;\">\n",
       "      <th></th>\n",
       "      <th>open</th>\n",
       "      <th>close</th>\n",
       "      <th>high</th>\n",
       "      <th>low</th>\n",
       "      <th>volume</th>\n",
       "      <th>target</th>\n",
       "      <th>tomorrow</th>\n",
       "      <th>Close_Ratio_12</th>\n",
       "      <th>Trend_12</th>\n",
       "      <th>Close_Ratio_60</th>\n",
       "      <th>Trend_60</th>\n",
       "      <th>Close_Ratio_120</th>\n",
       "      <th>Trend_120</th>\n",
       "      <th>Close_Ratio_216</th>\n",
       "      <th>Trend_216</th>\n",
       "      <th>Close_Ratio_288</th>\n",
       "      <th>Trend_288</th>\n",
       "    </tr>\n",
       "    <tr>\n",
       "      <th>time</th>\n",
       "      <th></th>\n",
       "      <th></th>\n",
       "      <th></th>\n",
       "      <th></th>\n",
       "      <th></th>\n",
       "      <th></th>\n",
       "      <th></th>\n",
       "      <th></th>\n",
       "      <th></th>\n",
       "      <th></th>\n",
       "      <th></th>\n",
       "      <th></th>\n",
       "      <th></th>\n",
       "      <th></th>\n",
       "      <th></th>\n",
       "      <th></th>\n",
       "      <th></th>\n",
       "    </tr>\n",
       "  </thead>\n",
       "  <tbody>\n",
       "    <tr>\n",
       "      <th>2022-08-10 23:45:00</th>\n",
       "      <td>1821.68</td>\n",
       "      <td>1821.82</td>\n",
       "      <td>1823.53</td>\n",
       "      <td>1821.54</td>\n",
       "      <td>575.11</td>\n",
       "      <td>1</td>\n",
       "      <td>1822.49</td>\n",
       "      <td>1.000394</td>\n",
       "      <td>8.0</td>\n",
       "      <td>0.995997</td>\n",
       "      <td>26.0</td>\n",
       "      <td>1.011831</td>\n",
       "      <td>61.0</td>\n",
       "      <td>1.041860</td>\n",
       "      <td>111.0</td>\n",
       "      <td>1.049772</td>\n",
       "      <td>149.0</td>\n",
       "    </tr>\n",
       "    <tr>\n",
       "      <th>2022-08-10 23:50:00</th>\n",
       "      <td>1821.80</td>\n",
       "      <td>1822.49</td>\n",
       "      <td>1823.35</td>\n",
       "      <td>1820.80</td>\n",
       "      <td>358.46</td>\n",
       "      <td>0</td>\n",
       "      <td>1822.32</td>\n",
       "      <td>1.000782</td>\n",
       "      <td>8.0</td>\n",
       "      <td>0.996577</td>\n",
       "      <td>26.0</td>\n",
       "      <td>1.011609</td>\n",
       "      <td>61.0</td>\n",
       "      <td>1.041851</td>\n",
       "      <td>112.0</td>\n",
       "      <td>1.049885</td>\n",
       "      <td>149.0</td>\n",
       "    </tr>\n",
       "    <tr>\n",
       "      <th>2022-08-10 23:55:00</th>\n",
       "      <td>1822.51</td>\n",
       "      <td>1822.32</td>\n",
       "      <td>1823.30</td>\n",
       "      <td>1821.12</td>\n",
       "      <td>369.80</td>\n",
       "      <td>1</td>\n",
       "      <td>1827.52</td>\n",
       "      <td>1.000637</td>\n",
       "      <td>8.0</td>\n",
       "      <td>0.996675</td>\n",
       "      <td>26.0</td>\n",
       "      <td>1.010921</td>\n",
       "      <td>61.0</td>\n",
       "      <td>1.041346</td>\n",
       "      <td>112.0</td>\n",
       "      <td>1.049516</td>\n",
       "      <td>148.0</td>\n",
       "    </tr>\n",
       "    <tr>\n",
       "      <th>2022-08-11 00:00:00</th>\n",
       "      <td>1822.31</td>\n",
       "      <td>1827.52</td>\n",
       "      <td>1831.40</td>\n",
       "      <td>1822.31</td>\n",
       "      <td>2532.33</td>\n",
       "      <td>0</td>\n",
       "      <td>1826.02</td>\n",
       "      <td>1.003323</td>\n",
       "      <td>8.0</td>\n",
       "      <td>0.999673</td>\n",
       "      <td>26.0</td>\n",
       "      <td>1.013173</td>\n",
       "      <td>62.0</td>\n",
       "      <td>1.043877</td>\n",
       "      <td>113.0</td>\n",
       "      <td>1.052231</td>\n",
       "      <td>148.0</td>\n",
       "    </tr>\n",
       "    <tr>\n",
       "      <th>2022-08-11 00:05:00</th>\n",
       "      <td>1827.58</td>\n",
       "      <td>1826.02</td>\n",
       "      <td>1828.38</td>\n",
       "      <td>1824.56</td>\n",
       "      <td>4141.85</td>\n",
       "      <td>1</td>\n",
       "      <td>1830.88</td>\n",
       "      <td>1.002425</td>\n",
       "      <td>7.0</td>\n",
       "      <td>0.998981</td>\n",
       "      <td>26.0</td>\n",
       "      <td>1.011714</td>\n",
       "      <td>62.0</td>\n",
       "      <td>1.042593</td>\n",
       "      <td>112.0</td>\n",
       "      <td>1.051093</td>\n",
       "      <td>147.0</td>\n",
       "    </tr>\n",
       "    <tr>\n",
       "      <th>...</th>\n",
       "      <td>...</td>\n",
       "      <td>...</td>\n",
       "      <td>...</td>\n",
       "      <td>...</td>\n",
       "      <td>...</td>\n",
       "      <td>...</td>\n",
       "      <td>...</td>\n",
       "      <td>...</td>\n",
       "      <td>...</td>\n",
       "      <td>...</td>\n",
       "      <td>...</td>\n",
       "      <td>...</td>\n",
       "      <td>...</td>\n",
       "      <td>...</td>\n",
       "      <td>...</td>\n",
       "      <td>...</td>\n",
       "      <td>...</td>\n",
       "    </tr>\n",
       "    <tr>\n",
       "      <th>2023-08-10 23:25:00</th>\n",
       "      <td>1849.46</td>\n",
       "      <td>1849.37</td>\n",
       "      <td>1849.99</td>\n",
       "      <td>1849.19</td>\n",
       "      <td>1153.56</td>\n",
       "      <td>1</td>\n",
       "      <td>1849.86</td>\n",
       "      <td>1.000093</td>\n",
       "      <td>5.0</td>\n",
       "      <td>0.999334</td>\n",
       "      <td>28.0</td>\n",
       "      <td>0.998338</td>\n",
       "      <td>55.0</td>\n",
       "      <td>0.998443</td>\n",
       "      <td>95.0</td>\n",
       "      <td>0.998178</td>\n",
       "      <td>136.0</td>\n",
       "    </tr>\n",
       "    <tr>\n",
       "      <th>2023-08-10 23:30:00</th>\n",
       "      <td>1849.37</td>\n",
       "      <td>1849.86</td>\n",
       "      <td>1849.86</td>\n",
       "      <td>1849.32</td>\n",
       "      <td>666.97</td>\n",
       "      <td>1</td>\n",
       "      <td>1850.13</td>\n",
       "      <td>1.000355</td>\n",
       "      <td>6.0</td>\n",
       "      <td>0.999631</td>\n",
       "      <td>28.0</td>\n",
       "      <td>0.998612</td>\n",
       "      <td>55.0</td>\n",
       "      <td>0.998719</td>\n",
       "      <td>96.0</td>\n",
       "      <td>0.998440</td>\n",
       "      <td>136.0</td>\n",
       "    </tr>\n",
       "    <tr>\n",
       "      <th>2023-08-10 23:35:00</th>\n",
       "      <td>1849.86</td>\n",
       "      <td>1850.13</td>\n",
       "      <td>1850.13</td>\n",
       "      <td>1849.32</td>\n",
       "      <td>585.88</td>\n",
       "      <td>1</td>\n",
       "      <td>1850.67</td>\n",
       "      <td>1.000496</td>\n",
       "      <td>6.0</td>\n",
       "      <td>0.999792</td>\n",
       "      <td>29.0</td>\n",
       "      <td>0.998763</td>\n",
       "      <td>56.0</td>\n",
       "      <td>0.998877</td>\n",
       "      <td>96.0</td>\n",
       "      <td>0.998586</td>\n",
       "      <td>136.0</td>\n",
       "    </tr>\n",
       "    <tr>\n",
       "      <th>2023-08-10 23:40:00</th>\n",
       "      <td>1850.14</td>\n",
       "      <td>1850.67</td>\n",
       "      <td>1850.71</td>\n",
       "      <td>1850.00</td>\n",
       "      <td>443.23</td>\n",
       "      <td>1</td>\n",
       "      <td>1851.03</td>\n",
       "      <td>1.000758</td>\n",
       "      <td>7.0</td>\n",
       "      <td>1.000107</td>\n",
       "      <td>29.0</td>\n",
       "      <td>0.999057</td>\n",
       "      <td>57.0</td>\n",
       "      <td>0.999183</td>\n",
       "      <td>96.0</td>\n",
       "      <td>0.998878</td>\n",
       "      <td>136.0</td>\n",
       "    </tr>\n",
       "    <tr>\n",
       "      <th>2023-08-10 23:45:00</th>\n",
       "      <td>1850.67</td>\n",
       "      <td>1851.03</td>\n",
       "      <td>1851.54</td>\n",
       "      <td>1850.67</td>\n",
       "      <td>1229.89</td>\n",
       "      <td>0</td>\n",
       "      <td>1850.37</td>\n",
       "      <td>1.000896</td>\n",
       "      <td>8.0</td>\n",
       "      <td>1.000325</td>\n",
       "      <td>29.0</td>\n",
       "      <td>0.999252</td>\n",
       "      <td>58.0</td>\n",
       "      <td>0.999388</td>\n",
       "      <td>97.0</td>\n",
       "      <td>0.999073</td>\n",
       "      <td>136.0</td>\n",
       "    </tr>\n",
       "  </tbody>\n",
       "</table>\n",
       "<p>105116 rows × 17 columns</p>\n",
       "</div>"
      ],
      "text/plain": [
       "                        open    close     high      low   volume  target  \\\n",
       "time                                                                       \n",
       "2022-08-10 23:45:00  1821.68  1821.82  1823.53  1821.54   575.11       1   \n",
       "2022-08-10 23:50:00  1821.80  1822.49  1823.35  1820.80   358.46       0   \n",
       "2022-08-10 23:55:00  1822.51  1822.32  1823.30  1821.12   369.80       1   \n",
       "2022-08-11 00:00:00  1822.31  1827.52  1831.40  1822.31  2532.33       0   \n",
       "2022-08-11 00:05:00  1827.58  1826.02  1828.38  1824.56  4141.85       1   \n",
       "...                      ...      ...      ...      ...      ...     ...   \n",
       "2023-08-10 23:25:00  1849.46  1849.37  1849.99  1849.19  1153.56       1   \n",
       "2023-08-10 23:30:00  1849.37  1849.86  1849.86  1849.32   666.97       1   \n",
       "2023-08-10 23:35:00  1849.86  1850.13  1850.13  1849.32   585.88       1   \n",
       "2023-08-10 23:40:00  1850.14  1850.67  1850.71  1850.00   443.23       1   \n",
       "2023-08-10 23:45:00  1850.67  1851.03  1851.54  1850.67  1229.89       0   \n",
       "\n",
       "                     tomorrow  Close_Ratio_12  Trend_12  Close_Ratio_60  \\\n",
       "time                                                                      \n",
       "2022-08-10 23:45:00   1822.49        1.000394       8.0        0.995997   \n",
       "2022-08-10 23:50:00   1822.32        1.000782       8.0        0.996577   \n",
       "2022-08-10 23:55:00   1827.52        1.000637       8.0        0.996675   \n",
       "2022-08-11 00:00:00   1826.02        1.003323       8.0        0.999673   \n",
       "2022-08-11 00:05:00   1830.88        1.002425       7.0        0.998981   \n",
       "...                       ...             ...       ...             ...   \n",
       "2023-08-10 23:25:00   1849.86        1.000093       5.0        0.999334   \n",
       "2023-08-10 23:30:00   1850.13        1.000355       6.0        0.999631   \n",
       "2023-08-10 23:35:00   1850.67        1.000496       6.0        0.999792   \n",
       "2023-08-10 23:40:00   1851.03        1.000758       7.0        1.000107   \n",
       "2023-08-10 23:45:00   1850.37        1.000896       8.0        1.000325   \n",
       "\n",
       "                     Trend_60  Close_Ratio_120  Trend_120  Close_Ratio_216  \\\n",
       "time                                                                         \n",
       "2022-08-10 23:45:00      26.0         1.011831       61.0         1.041860   \n",
       "2022-08-10 23:50:00      26.0         1.011609       61.0         1.041851   \n",
       "2022-08-10 23:55:00      26.0         1.010921       61.0         1.041346   \n",
       "2022-08-11 00:00:00      26.0         1.013173       62.0         1.043877   \n",
       "2022-08-11 00:05:00      26.0         1.011714       62.0         1.042593   \n",
       "...                       ...              ...        ...              ...   \n",
       "2023-08-10 23:25:00      28.0         0.998338       55.0         0.998443   \n",
       "2023-08-10 23:30:00      28.0         0.998612       55.0         0.998719   \n",
       "2023-08-10 23:35:00      29.0         0.998763       56.0         0.998877   \n",
       "2023-08-10 23:40:00      29.0         0.999057       57.0         0.999183   \n",
       "2023-08-10 23:45:00      29.0         0.999252       58.0         0.999388   \n",
       "\n",
       "                     Trend_216  Close_Ratio_288  Trend_288  \n",
       "time                                                        \n",
       "2022-08-10 23:45:00      111.0         1.049772      149.0  \n",
       "2022-08-10 23:50:00      112.0         1.049885      149.0  \n",
       "2022-08-10 23:55:00      112.0         1.049516      148.0  \n",
       "2022-08-11 00:00:00      113.0         1.052231      148.0  \n",
       "2022-08-11 00:05:00      112.0         1.051093      147.0  \n",
       "...                        ...              ...        ...  \n",
       "2023-08-10 23:25:00       95.0         0.998178      136.0  \n",
       "2023-08-10 23:30:00       96.0         0.998440      136.0  \n",
       "2023-08-10 23:35:00       96.0         0.998586      136.0  \n",
       "2023-08-10 23:40:00       96.0         0.998878      136.0  \n",
       "2023-08-10 23:45:00       97.0         0.999073      136.0  \n",
       "\n",
       "[105116 rows x 17 columns]"
      ]
     },
     "execution_count": 31,
     "metadata": {},
     "output_type": "execute_result"
    }
   ],
   "source": [
    "dataset_rf.iloc[dataset_rf.shape[0]-105116:, :]"
   ]
  },
  {
   "cell_type": "code",
   "execution_count": 33,
   "id": "6dd126e2",
   "metadata": {},
   "outputs": [],
   "source": [
    "predictions=backtest(dataset_rf.iloc[dataset_rf.shape[0]-105116:, :], randomForest_model, new_predictors)"
   ]
  },
  {
   "cell_type": "code",
   "execution_count": 45,
   "id": "7dfb675f",
   "metadata": {},
   "outputs": [
    {
     "data": {
      "text/plain": [
       "0.0    98926\n",
       "1.0     3690\n",
       "Name: Predictions, dtype: int64"
      ]
     },
     "execution_count": 45,
     "metadata": {},
     "output_type": "execute_result"
    }
   ],
   "source": [
    "predictions[\"Predictions\"].value_counts()"
   ]
  },
  {
   "cell_type": "code",
   "execution_count": 46,
   "id": "a2875aab",
   "metadata": {},
   "outputs": [
    {
     "data": {
      "text/plain": [
       "0.5761517615176152"
      ]
     },
     "execution_count": 46,
     "metadata": {},
     "output_type": "execute_result"
    }
   ],
   "source": [
    "precision_score(predictions['target'], predictions['Predictions'])"
   ]
  },
  {
   "cell_type": "code",
   "execution_count": 47,
   "id": "5ab7feb0",
   "metadata": {},
   "outputs": [],
   "source": [
    "filepath='./Random Forest Model/Random_Forest_model.sav'\n",
    "pickle.dump(randomForest_model, open(filepath, 'wb'))"
   ]
  },
  {
   "cell_type": "code",
   "execution_count": null,
   "id": "a079c605",
   "metadata": {},
   "outputs": [],
   "source": []
  }
 ],
 "metadata": {
  "kernelspec": {
   "display_name": "Python 3 (ipykernel)",
   "language": "python",
   "name": "python3"
  },
  "language_info": {
   "codemirror_mode": {
    "name": "ipython",
    "version": 3
   },
   "file_extension": ".py",
   "mimetype": "text/x-python",
   "name": "python",
   "nbconvert_exporter": "python",
   "pygments_lexer": "ipython3",
   "version": "3.10.9"
  }
 },
 "nbformat": 4,
 "nbformat_minor": 5
}
