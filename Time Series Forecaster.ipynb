{
 "cells": [
  {
   "cell_type": "code",
   "execution_count": 1,
   "id": "68d39f4a",
   "metadata": {},
   "outputs": [],
   "source": [
    "import numpy as np\n",
    "import pandas as pd\n",
    "import matplotlib.pyplot as plt\n",
    "import sklearn\n",
    "import tensorflow as tf\n",
    "import json\n",
    "from sklearn import preprocessing\n",
    "from sklearn import model_selection\n",
    "from sklearn.ensemble import RandomForestClassifier\n",
    "from sklearn.metrics import precision_score\n",
    "from scikeras.wrappers import KerasRegressor\n",
    "from keras.wrappers.scikit_learn import KerasClassifier\n",
    "from bayes_opt import BayesianOptimization  \n",
    "from Data_mining import data_mining"
   ]
  },
  {
   "cell_type": "code",
   "execution_count": 2,
   "id": "efb3a6e5",
   "metadata": {},
   "outputs": [],
   "source": [
    "#Data mining process\n",
    "#df=data_mining(\"ETH-USDT\", \"5m\", \"2020/04/09\", \"2023/08/11\")\n",
    "#df.to_csv(\"ETH-USDT_5m.csv\")\n",
    "#df"
   ]
  },
  {
   "cell_type": "code",
   "execution_count": 3,
   "id": "295f5dd0",
   "metadata": {},
   "outputs": [
    {
     "data": {
      "text/html": [
       "<div>\n",
       "<style scoped>\n",
       "    .dataframe tbody tr th:only-of-type {\n",
       "        vertical-align: middle;\n",
       "    }\n",
       "\n",
       "    .dataframe tbody tr th {\n",
       "        vertical-align: top;\n",
       "    }\n",
       "\n",
       "    .dataframe thead th {\n",
       "        text-align: right;\n",
       "    }\n",
       "</style>\n",
       "<table border=\"1\" class=\"dataframe\">\n",
       "  <thead>\n",
       "    <tr style=\"text-align: right;\">\n",
       "      <th></th>\n",
       "      <th>open</th>\n",
       "      <th>close</th>\n",
       "      <th>high</th>\n",
       "      <th>low</th>\n",
       "      <th>volume</th>\n",
       "    </tr>\n",
       "    <tr>\n",
       "      <th>time</th>\n",
       "      <th></th>\n",
       "      <th></th>\n",
       "      <th></th>\n",
       "      <th></th>\n",
       "      <th></th>\n",
       "    </tr>\n",
       "  </thead>\n",
       "  <tbody>\n",
       "    <tr>\n",
       "      <th>2020-04-09 00:00:00</th>\n",
       "      <td>172.20</td>\n",
       "      <td>172.12</td>\n",
       "      <td>172.34</td>\n",
       "      <td>172.07</td>\n",
       "      <td>204.24</td>\n",
       "    </tr>\n",
       "    <tr>\n",
       "      <th>2020-04-09 00:05:00</th>\n",
       "      <td>172.14</td>\n",
       "      <td>171.93</td>\n",
       "      <td>172.16</td>\n",
       "      <td>171.80</td>\n",
       "      <td>191.04</td>\n",
       "    </tr>\n",
       "    <tr>\n",
       "      <th>2020-04-09 00:10:00</th>\n",
       "      <td>171.94</td>\n",
       "      <td>172.12</td>\n",
       "      <td>172.26</td>\n",
       "      <td>171.91</td>\n",
       "      <td>200.84</td>\n",
       "    </tr>\n",
       "    <tr>\n",
       "      <th>2020-04-09 00:15:00</th>\n",
       "      <td>172.12</td>\n",
       "      <td>172.02</td>\n",
       "      <td>172.28</td>\n",
       "      <td>171.98</td>\n",
       "      <td>198.00</td>\n",
       "    </tr>\n",
       "    <tr>\n",
       "      <th>2020-04-09 00:20:00</th>\n",
       "      <td>171.99</td>\n",
       "      <td>171.87</td>\n",
       "      <td>172.10</td>\n",
       "      <td>171.72</td>\n",
       "      <td>208.17</td>\n",
       "    </tr>\n",
       "    <tr>\n",
       "      <th>...</th>\n",
       "      <td>...</td>\n",
       "      <td>...</td>\n",
       "      <td>...</td>\n",
       "      <td>...</td>\n",
       "      <td>...</td>\n",
       "    </tr>\n",
       "    <tr>\n",
       "      <th>2023-08-10 23:35:00</th>\n",
       "      <td>1849.86</td>\n",
       "      <td>1850.13</td>\n",
       "      <td>1850.13</td>\n",
       "      <td>1849.32</td>\n",
       "      <td>585.88</td>\n",
       "    </tr>\n",
       "    <tr>\n",
       "      <th>2023-08-10 23:40:00</th>\n",
       "      <td>1850.14</td>\n",
       "      <td>1850.67</td>\n",
       "      <td>1850.71</td>\n",
       "      <td>1850.00</td>\n",
       "      <td>443.23</td>\n",
       "    </tr>\n",
       "    <tr>\n",
       "      <th>2023-08-10 23:45:00</th>\n",
       "      <td>1850.67</td>\n",
       "      <td>1851.03</td>\n",
       "      <td>1851.54</td>\n",
       "      <td>1850.67</td>\n",
       "      <td>1229.89</td>\n",
       "    </tr>\n",
       "    <tr>\n",
       "      <th>2023-08-10 23:50:00</th>\n",
       "      <td>1851.04</td>\n",
       "      <td>1850.37</td>\n",
       "      <td>1851.04</td>\n",
       "      <td>1850.10</td>\n",
       "      <td>212.13</td>\n",
       "    </tr>\n",
       "    <tr>\n",
       "      <th>2023-08-10 23:55:00</th>\n",
       "      <td>1850.37</td>\n",
       "      <td>1850.45</td>\n",
       "      <td>1850.46</td>\n",
       "      <td>1850.37</td>\n",
       "      <td>173.34</td>\n",
       "    </tr>\n",
       "  </tbody>\n",
       "</table>\n",
       "<p>351347 rows × 5 columns</p>\n",
       "</div>"
      ],
      "text/plain": [
       "                        open    close     high      low   volume\n",
       "time                                                            \n",
       "2020-04-09 00:00:00   172.20   172.12   172.34   172.07   204.24\n",
       "2020-04-09 00:05:00   172.14   171.93   172.16   171.80   191.04\n",
       "2020-04-09 00:10:00   171.94   172.12   172.26   171.91   200.84\n",
       "2020-04-09 00:15:00   172.12   172.02   172.28   171.98   198.00\n",
       "2020-04-09 00:20:00   171.99   171.87   172.10   171.72   208.17\n",
       "...                      ...      ...      ...      ...      ...\n",
       "2023-08-10 23:35:00  1849.86  1850.13  1850.13  1849.32   585.88\n",
       "2023-08-10 23:40:00  1850.14  1850.67  1850.71  1850.00   443.23\n",
       "2023-08-10 23:45:00  1850.67  1851.03  1851.54  1850.67  1229.89\n",
       "2023-08-10 23:50:00  1851.04  1850.37  1851.04  1850.10   212.13\n",
       "2023-08-10 23:55:00  1850.37  1850.45  1850.46  1850.37   173.34\n",
       "\n",
       "[351347 rows x 5 columns]"
      ]
     },
     "execution_count": 3,
     "metadata": {},
     "output_type": "execute_result"
    }
   ],
   "source": [
    "df=pd.read_csv('./ETH-USDT_5m.csv')\n",
    "df=df.set_index(['time'])\n",
    "df"
   ]
  },
  {
   "cell_type": "code",
   "execution_count": 4,
   "id": "c9987a2d",
   "metadata": {},
   "outputs": [
    {
     "data": {
      "text/plain": [
       "DatetimeIndex([], dtype='datetime64[ns]', freq=None)"
      ]
     },
     "execution_count": 4,
     "metadata": {},
     "output_type": "execute_result"
    }
   ],
   "source": [
    "pd.date_range(start='2021-01-01 00:00:00', end='2023-08-03 23:55:00').difference(df.index)"
   ]
  },
  {
   "cell_type": "code",
   "execution_count": 5,
   "id": "c433be3c",
   "metadata": {},
   "outputs": [
    {
     "data": {
      "text/html": [
       "<div>\n",
       "<style scoped>\n",
       "    .dataframe tbody tr th:only-of-type {\n",
       "        vertical-align: middle;\n",
       "    }\n",
       "\n",
       "    .dataframe tbody tr th {\n",
       "        vertical-align: top;\n",
       "    }\n",
       "\n",
       "    .dataframe thead th {\n",
       "        text-align: right;\n",
       "    }\n",
       "</style>\n",
       "<table border=\"1\" class=\"dataframe\">\n",
       "  <thead>\n",
       "    <tr style=\"text-align: right;\">\n",
       "      <th></th>\n",
       "      <th>open</th>\n",
       "      <th>close</th>\n",
       "      <th>high</th>\n",
       "      <th>low</th>\n",
       "      <th>volume</th>\n",
       "      <th>tomorrow</th>\n",
       "      <th>target</th>\n",
       "    </tr>\n",
       "    <tr>\n",
       "      <th>time</th>\n",
       "      <th></th>\n",
       "      <th></th>\n",
       "      <th></th>\n",
       "      <th></th>\n",
       "      <th></th>\n",
       "      <th></th>\n",
       "      <th></th>\n",
       "    </tr>\n",
       "  </thead>\n",
       "  <tbody>\n",
       "    <tr>\n",
       "      <th>2020-04-09 00:00:00</th>\n",
       "      <td>172.20</td>\n",
       "      <td>172.12</td>\n",
       "      <td>172.34</td>\n",
       "      <td>172.07</td>\n",
       "      <td>204.24</td>\n",
       "      <td>171.93</td>\n",
       "      <td>0</td>\n",
       "    </tr>\n",
       "    <tr>\n",
       "      <th>2020-04-09 00:05:00</th>\n",
       "      <td>172.14</td>\n",
       "      <td>171.93</td>\n",
       "      <td>172.16</td>\n",
       "      <td>171.80</td>\n",
       "      <td>191.04</td>\n",
       "      <td>172.12</td>\n",
       "      <td>1</td>\n",
       "    </tr>\n",
       "    <tr>\n",
       "      <th>2020-04-09 00:10:00</th>\n",
       "      <td>171.94</td>\n",
       "      <td>172.12</td>\n",
       "      <td>172.26</td>\n",
       "      <td>171.91</td>\n",
       "      <td>200.84</td>\n",
       "      <td>172.02</td>\n",
       "      <td>0</td>\n",
       "    </tr>\n",
       "    <tr>\n",
       "      <th>2020-04-09 00:15:00</th>\n",
       "      <td>172.12</td>\n",
       "      <td>172.02</td>\n",
       "      <td>172.28</td>\n",
       "      <td>171.98</td>\n",
       "      <td>198.00</td>\n",
       "      <td>171.87</td>\n",
       "      <td>0</td>\n",
       "    </tr>\n",
       "    <tr>\n",
       "      <th>2020-04-09 00:20:00</th>\n",
       "      <td>171.99</td>\n",
       "      <td>171.87</td>\n",
       "      <td>172.10</td>\n",
       "      <td>171.72</td>\n",
       "      <td>208.17</td>\n",
       "      <td>171.88</td>\n",
       "      <td>1</td>\n",
       "    </tr>\n",
       "    <tr>\n",
       "      <th>...</th>\n",
       "      <td>...</td>\n",
       "      <td>...</td>\n",
       "      <td>...</td>\n",
       "      <td>...</td>\n",
       "      <td>...</td>\n",
       "      <td>...</td>\n",
       "      <td>...</td>\n",
       "    </tr>\n",
       "    <tr>\n",
       "      <th>2023-08-10 23:35:00</th>\n",
       "      <td>1849.86</td>\n",
       "      <td>1850.13</td>\n",
       "      <td>1850.13</td>\n",
       "      <td>1849.32</td>\n",
       "      <td>585.88</td>\n",
       "      <td>1850.67</td>\n",
       "      <td>1</td>\n",
       "    </tr>\n",
       "    <tr>\n",
       "      <th>2023-08-10 23:40:00</th>\n",
       "      <td>1850.14</td>\n",
       "      <td>1850.67</td>\n",
       "      <td>1850.71</td>\n",
       "      <td>1850.00</td>\n",
       "      <td>443.23</td>\n",
       "      <td>1851.03</td>\n",
       "      <td>1</td>\n",
       "    </tr>\n",
       "    <tr>\n",
       "      <th>2023-08-10 23:45:00</th>\n",
       "      <td>1850.67</td>\n",
       "      <td>1851.03</td>\n",
       "      <td>1851.54</td>\n",
       "      <td>1850.67</td>\n",
       "      <td>1229.89</td>\n",
       "      <td>1850.37</td>\n",
       "      <td>0</td>\n",
       "    </tr>\n",
       "    <tr>\n",
       "      <th>2023-08-10 23:50:00</th>\n",
       "      <td>1851.04</td>\n",
       "      <td>1850.37</td>\n",
       "      <td>1851.04</td>\n",
       "      <td>1850.10</td>\n",
       "      <td>212.13</td>\n",
       "      <td>1850.45</td>\n",
       "      <td>1</td>\n",
       "    </tr>\n",
       "    <tr>\n",
       "      <th>2023-08-10 23:55:00</th>\n",
       "      <td>1850.37</td>\n",
       "      <td>1850.45</td>\n",
       "      <td>1850.46</td>\n",
       "      <td>1850.37</td>\n",
       "      <td>173.34</td>\n",
       "      <td>NaN</td>\n",
       "      <td>0</td>\n",
       "    </tr>\n",
       "  </tbody>\n",
       "</table>\n",
       "<p>351347 rows × 7 columns</p>\n",
       "</div>"
      ],
      "text/plain": [
       "                        open    close     high      low   volume  tomorrow  \\\n",
       "time                                                                         \n",
       "2020-04-09 00:00:00   172.20   172.12   172.34   172.07   204.24    171.93   \n",
       "2020-04-09 00:05:00   172.14   171.93   172.16   171.80   191.04    172.12   \n",
       "2020-04-09 00:10:00   171.94   172.12   172.26   171.91   200.84    172.02   \n",
       "2020-04-09 00:15:00   172.12   172.02   172.28   171.98   198.00    171.87   \n",
       "2020-04-09 00:20:00   171.99   171.87   172.10   171.72   208.17    171.88   \n",
       "...                      ...      ...      ...      ...      ...       ...   \n",
       "2023-08-10 23:35:00  1849.86  1850.13  1850.13  1849.32   585.88   1850.67   \n",
       "2023-08-10 23:40:00  1850.14  1850.67  1850.71  1850.00   443.23   1851.03   \n",
       "2023-08-10 23:45:00  1850.67  1851.03  1851.54  1850.67  1229.89   1850.37   \n",
       "2023-08-10 23:50:00  1851.04  1850.37  1851.04  1850.10   212.13   1850.45   \n",
       "2023-08-10 23:55:00  1850.37  1850.45  1850.46  1850.37   173.34       NaN   \n",
       "\n",
       "                     target  \n",
       "time                         \n",
       "2020-04-09 00:00:00       0  \n",
       "2020-04-09 00:05:00       1  \n",
       "2020-04-09 00:10:00       0  \n",
       "2020-04-09 00:15:00       0  \n",
       "2020-04-09 00:20:00       1  \n",
       "...                     ...  \n",
       "2023-08-10 23:35:00       1  \n",
       "2023-08-10 23:40:00       1  \n",
       "2023-08-10 23:45:00       0  \n",
       "2023-08-10 23:50:00       1  \n",
       "2023-08-10 23:55:00       0  \n",
       "\n",
       "[351347 rows x 7 columns]"
      ]
     },
     "execution_count": 5,
     "metadata": {},
     "output_type": "execute_result"
    }
   ],
   "source": [
    "df['tomorrow']=df['close'].shift(-1)\n",
    "df['target']=(df['tomorrow'] > df['close']).astype(int)\n",
    "df"
   ]
  },
  {
   "cell_type": "code",
   "execution_count": 6,
   "id": "133f4462",
   "metadata": {},
   "outputs": [],
   "source": [
    "df=df.drop(df.index[-1])\n",
    "del df['tomorrow']"
   ]
  },
  {
   "cell_type": "code",
   "execution_count": 7,
   "id": "33a73595",
   "metadata": {},
   "outputs": [
    {
     "data": {
      "text/html": [
       "<div>\n",
       "<style scoped>\n",
       "    .dataframe tbody tr th:only-of-type {\n",
       "        vertical-align: middle;\n",
       "    }\n",
       "\n",
       "    .dataframe tbody tr th {\n",
       "        vertical-align: top;\n",
       "    }\n",
       "\n",
       "    .dataframe thead th {\n",
       "        text-align: right;\n",
       "    }\n",
       "</style>\n",
       "<table border=\"1\" class=\"dataframe\">\n",
       "  <thead>\n",
       "    <tr style=\"text-align: right;\">\n",
       "      <th></th>\n",
       "      <th>open</th>\n",
       "      <th>close</th>\n",
       "      <th>high</th>\n",
       "      <th>low</th>\n",
       "      <th>volume</th>\n",
       "      <th>target</th>\n",
       "    </tr>\n",
       "    <tr>\n",
       "      <th>time</th>\n",
       "      <th></th>\n",
       "      <th></th>\n",
       "      <th></th>\n",
       "      <th></th>\n",
       "      <th></th>\n",
       "      <th></th>\n",
       "    </tr>\n",
       "  </thead>\n",
       "  <tbody>\n",
       "    <tr>\n",
       "      <th>2020-04-09 00:00:00</th>\n",
       "      <td>172.20</td>\n",
       "      <td>172.12</td>\n",
       "      <td>172.34</td>\n",
       "      <td>172.07</td>\n",
       "      <td>204.24</td>\n",
       "      <td>0</td>\n",
       "    </tr>\n",
       "    <tr>\n",
       "      <th>2020-04-09 00:05:00</th>\n",
       "      <td>172.14</td>\n",
       "      <td>171.93</td>\n",
       "      <td>172.16</td>\n",
       "      <td>171.80</td>\n",
       "      <td>191.04</td>\n",
       "      <td>1</td>\n",
       "    </tr>\n",
       "    <tr>\n",
       "      <th>2020-04-09 00:10:00</th>\n",
       "      <td>171.94</td>\n",
       "      <td>172.12</td>\n",
       "      <td>172.26</td>\n",
       "      <td>171.91</td>\n",
       "      <td>200.84</td>\n",
       "      <td>0</td>\n",
       "    </tr>\n",
       "    <tr>\n",
       "      <th>2020-04-09 00:15:00</th>\n",
       "      <td>172.12</td>\n",
       "      <td>172.02</td>\n",
       "      <td>172.28</td>\n",
       "      <td>171.98</td>\n",
       "      <td>198.00</td>\n",
       "      <td>0</td>\n",
       "    </tr>\n",
       "    <tr>\n",
       "      <th>2020-04-09 00:20:00</th>\n",
       "      <td>171.99</td>\n",
       "      <td>171.87</td>\n",
       "      <td>172.10</td>\n",
       "      <td>171.72</td>\n",
       "      <td>208.17</td>\n",
       "      <td>1</td>\n",
       "    </tr>\n",
       "    <tr>\n",
       "      <th>...</th>\n",
       "      <td>...</td>\n",
       "      <td>...</td>\n",
       "      <td>...</td>\n",
       "      <td>...</td>\n",
       "      <td>...</td>\n",
       "      <td>...</td>\n",
       "    </tr>\n",
       "    <tr>\n",
       "      <th>2023-08-10 23:30:00</th>\n",
       "      <td>1849.37</td>\n",
       "      <td>1849.86</td>\n",
       "      <td>1849.86</td>\n",
       "      <td>1849.32</td>\n",
       "      <td>666.97</td>\n",
       "      <td>1</td>\n",
       "    </tr>\n",
       "    <tr>\n",
       "      <th>2023-08-10 23:35:00</th>\n",
       "      <td>1849.86</td>\n",
       "      <td>1850.13</td>\n",
       "      <td>1850.13</td>\n",
       "      <td>1849.32</td>\n",
       "      <td>585.88</td>\n",
       "      <td>1</td>\n",
       "    </tr>\n",
       "    <tr>\n",
       "      <th>2023-08-10 23:40:00</th>\n",
       "      <td>1850.14</td>\n",
       "      <td>1850.67</td>\n",
       "      <td>1850.71</td>\n",
       "      <td>1850.00</td>\n",
       "      <td>443.23</td>\n",
       "      <td>1</td>\n",
       "    </tr>\n",
       "    <tr>\n",
       "      <th>2023-08-10 23:45:00</th>\n",
       "      <td>1850.67</td>\n",
       "      <td>1851.03</td>\n",
       "      <td>1851.54</td>\n",
       "      <td>1850.67</td>\n",
       "      <td>1229.89</td>\n",
       "      <td>0</td>\n",
       "    </tr>\n",
       "    <tr>\n",
       "      <th>2023-08-10 23:50:00</th>\n",
       "      <td>1851.04</td>\n",
       "      <td>1850.37</td>\n",
       "      <td>1851.04</td>\n",
       "      <td>1850.10</td>\n",
       "      <td>212.13</td>\n",
       "      <td>1</td>\n",
       "    </tr>\n",
       "  </tbody>\n",
       "</table>\n",
       "<p>351346 rows × 6 columns</p>\n",
       "</div>"
      ],
      "text/plain": [
       "                        open    close     high      low   volume  target\n",
       "time                                                                    \n",
       "2020-04-09 00:00:00   172.20   172.12   172.34   172.07   204.24       0\n",
       "2020-04-09 00:05:00   172.14   171.93   172.16   171.80   191.04       1\n",
       "2020-04-09 00:10:00   171.94   172.12   172.26   171.91   200.84       0\n",
       "2020-04-09 00:15:00   172.12   172.02   172.28   171.98   198.00       0\n",
       "2020-04-09 00:20:00   171.99   171.87   172.10   171.72   208.17       1\n",
       "...                      ...      ...      ...      ...      ...     ...\n",
       "2023-08-10 23:30:00  1849.37  1849.86  1849.86  1849.32   666.97       1\n",
       "2023-08-10 23:35:00  1849.86  1850.13  1850.13  1849.32   585.88       1\n",
       "2023-08-10 23:40:00  1850.14  1850.67  1850.71  1850.00   443.23       1\n",
       "2023-08-10 23:45:00  1850.67  1851.03  1851.54  1850.67  1229.89       0\n",
       "2023-08-10 23:50:00  1851.04  1850.37  1851.04  1850.10   212.13       1\n",
       "\n",
       "[351346 rows x 6 columns]"
      ]
     },
     "execution_count": 7,
     "metadata": {},
     "output_type": "execute_result"
    }
   ],
   "source": [
    "df"
   ]
  },
  {
   "cell_type": "code",
   "execution_count": 8,
   "id": "3910edda-337a-4f16-a0e5-b74efc422738",
   "metadata": {},
   "outputs": [
    {
     "data": {
      "text/plain": [
       "(351346, 6)"
      ]
     },
     "execution_count": 8,
     "metadata": {},
     "output_type": "execute_result"
    }
   ],
   "source": [
    "dataset=df.iloc[:, 0:df.shape[1]].values\n",
    "dataset.shape"
   ]
  },
  {
   "cell_type": "code",
   "execution_count": 9,
   "id": "032df548",
   "metadata": {},
   "outputs": [],
   "source": [
    "scaler=preprocessing.MinMaxScaler(feature_range=(0, 1))\n",
    "dataset_scaled=scaler.fit_transform(dataset)"
   ]
  },
  {
   "cell_type": "code",
   "execution_count": 10,
   "id": "7d09f009",
   "metadata": {},
   "outputs": [
    {
     "data": {
      "text/plain": [
       "(351346, 6)"
      ]
     },
     "execution_count": 10,
     "metadata": {},
     "output_type": "execute_result"
    }
   ],
   "source": [
    "dataset_scaled.shape"
   ]
  },
  {
   "cell_type": "code",
   "execution_count": 11,
   "id": "503f453c",
   "metadata": {},
   "outputs": [
    {
     "data": {
      "text/plain": [
       "array([0., 1., 0., ..., 1., 0., 1.])"
      ]
     },
     "execution_count": 11,
     "metadata": {},
     "output_type": "execute_result"
    }
   ],
   "source": [
    "dataset_scaled[:, 5]"
   ]
  },
  {
   "cell_type": "code",
   "execution_count": 12,
   "id": "17589a7c",
   "metadata": {},
   "outputs": [
    {
     "data": {
      "text/plain": [
       "(347832, 6)"
      ]
     },
     "execution_count": 12,
     "metadata": {},
     "output_type": "execute_result"
    }
   ],
   "source": [
    "training_set, test_and_validation_set=model_selection.train_test_split(dataset_scaled, test_size=0.01, shuffle=False)\n",
    "training_set.shape"
   ]
  },
  {
   "cell_type": "code",
   "execution_count": 13,
   "id": "674c2f9d",
   "metadata": {},
   "outputs": [
    {
     "data": {
      "text/plain": [
       "(3514, 6)"
      ]
     },
     "execution_count": 13,
     "metadata": {},
     "output_type": "execute_result"
    }
   ],
   "source": [
    "test_and_validation_set.shape"
   ]
  },
  {
   "cell_type": "code",
   "execution_count": 14,
   "id": "dfc99c20",
   "metadata": {},
   "outputs": [
    {
     "name": "stdout",
     "output_type": "stream",
     "text": [
      "(1757, 6)\n",
      "(1757, 6)\n"
     ]
    }
   ],
   "source": [
    "validation_set, test_set=model_selection.train_test_split(test_and_validation_set, test_size=0.5, shuffle=False)\n",
    "print(validation_set.shape)\n",
    "print(test_set.shape)"
   ]
  },
  {
   "cell_type": "code",
   "execution_count": 15,
   "id": "5045fb10",
   "metadata": {},
   "outputs": [],
   "source": [
    "X_train=[]\n",
    "y_train=[]\n",
    "for i in range(12, len(training_set)):\n",
    "    X_train.append(training_set[i-12:i, :])\n",
    "    y_train.append(training_set[i, 5])\n",
    "X_train, y_train=np.array(X_train), np.array(y_train)"
   ]
  },
  {
   "cell_type": "code",
   "execution_count": 16,
   "id": "2e6e014d",
   "metadata": {},
   "outputs": [
    {
     "data": {
      "text/plain": [
       "(347820, 12, 6)"
      ]
     },
     "execution_count": 16,
     "metadata": {},
     "output_type": "execute_result"
    }
   ],
   "source": [
    "X_train=np.reshape(X_train, newshape=(X_train.shape[0], X_train.shape[1], df.shape[1]))\n",
    "X_train.shape"
   ]
  },
  {
   "cell_type": "code",
   "execution_count": 17,
   "id": "2bcc2bfe",
   "metadata": {},
   "outputs": [
    {
     "data": {
      "text/plain": [
       "(347820,)"
      ]
     },
     "execution_count": 17,
     "metadata": {},
     "output_type": "execute_result"
    }
   ],
   "source": [
    "y_train.shape"
   ]
  },
  {
   "cell_type": "code",
   "execution_count": 18,
   "id": "457b5501",
   "metadata": {},
   "outputs": [
    {
     "data": {
      "text/plain": [
       "(1745, 12, 6)"
      ]
     },
     "execution_count": 18,
     "metadata": {},
     "output_type": "execute_result"
    }
   ],
   "source": [
    "X_validation=[]\n",
    "y_validation=[]\n",
    "for i in range(12, len(validation_set)):\n",
    "    X_validation.append(validation_set[i-12:i, :])\n",
    "    y_validation.append(validation_set[i, 5])\n",
    "X_validation, y_validation=np.array(X_validation), np.array(y_validation)\n",
    "X_validation=np.reshape(X_validation, newshape=(X_validation.shape[0], X_validation.shape[1], df.shape[1]))\n",
    "X_validation.shape"
   ]
  },
  {
   "cell_type": "code",
   "execution_count": 21,
   "id": "6199af92",
   "metadata": {},
   "outputs": [
    {
     "data": {
      "text/plain": [
       "(1745,)"
      ]
     },
     "execution_count": 21,
     "metadata": {},
     "output_type": "execute_result"
    }
   ],
   "source": [
    "y_validation.shape"
   ]
  },
  {
   "cell_type": "markdown",
   "id": "cea9cd59",
   "metadata": {},
   "source": [
    "### LSTM Classification Model"
   ]
  },
  {
   "cell_type": "code",
   "execution_count": 31,
   "id": "88381b66",
   "metadata": {},
   "outputs": [],
   "source": [
    "#def create_lstm_model(neurons, dropout_rate):\n",
    "    #model=tf.keras.Sequential()\n",
    "    #model.add(tf.keras.layers.LSTM(units=neurons, return_sequences=True, input_shape=(X_validation.shape[1], X_validation.shape[2])))\n",
    "    #model.add(tf.keras.layers.Dropout(rate=dropout_rate))\n",
    "    #model.add(tf.keras.layers.LSTM(units=neurons, return_sequences=True))\n",
    "    #model.add(tf.keras.layers.Dropout(rate=dropout_rate))\n",
    "    #model.add(tf.keras.layers.LSTM(units=neurons, return_sequences=True))\n",
    "    #model.add(tf.keras.layers.Dropout(rate=dropout_rate))\n",
    "    #model.add(tf.keras.layers.LSTM(units=neurons, return_sequences=True))\n",
    "    #model.add(tf.keras.layers.Dropout(rate=dropout_rate))\n",
    "    #model.add(tf.keras.layers.LSTM(units=neurons, return_sequences=True))\n",
    "    #model.add(tf.keras.layers.Dropout(rate=dropout_rate))\n",
    "    #model.add(tf.keras.layers.LSTM(units=neurons, return_sequences=False))\n",
    "    #model.add(tf.keras.layers.Dropout(rate=dropout_rate))\n",
    "    #model.add(tf.keras.layers.Dense(units=1, activation='sigmoid'))\n",
    "    \n",
    "    #return model\n",
    "\n",
    "#neurons=[40,50,60]\n",
    "#dropout_rate=[0.2, 0.3, 0.4, 0.5]\n",
    "#epochs=[80,100]\n",
    "#batch_size=[16,24,32]\n",
    "#param_grid=dict(model__neurons=neurons, model__dropout_rate=dropout_rate, epochs=epochs, batch_size=batch_size)\n",
    "#tuning_model=KerasClassifier(model=create_lstm_model, loss='binary_crossentropy', optimizer='adam', metrics=['accuracy'], verbose=0)\n",
    "#grid=model_selection.GridSearchCV(estimator=tuning_model, param_grid=param_grid, n_jobs=None, cv=3, verbose=0)\n",
    "#grid_result=grid.fit(X_validation, y_validation)"
   ]
  },
  {
   "cell_type": "code",
   "execution_count": 32,
   "id": "4c1cc7e7",
   "metadata": {},
   "outputs": [],
   "source": [
    "#grid_result.best_params_"
   ]
  },
  {
   "cell_type": "code",
   "execution_count": 33,
   "id": "9d0e5093",
   "metadata": {},
   "outputs": [],
   "source": [
    "#grid_result.best_score_"
   ]
  },
  {
   "cell_type": "code",
   "execution_count": 34,
   "id": "570a2d9b",
   "metadata": {},
   "outputs": [],
   "source": [
    "#grid_results_lstm_classification=grid_result.best_params_\n",
    "#grid_results_lstm_classification['best_score']=grid_result.best_score_"
   ]
  },
  {
   "cell_type": "code",
   "execution_count": 35,
   "id": "62e1d959",
   "metadata": {},
   "outputs": [],
   "source": [
    "#grid_results_lstm_classification"
   ]
  },
  {
   "cell_type": "code",
   "execution_count": 36,
   "id": "02dcd5fc",
   "metadata": {},
   "outputs": [],
   "source": [
    "#with open('./LSTM Model/LSTM Classification/GridSearch_Results_LSTM_Classification.txt', 'w') as text_file:\n",
    "    #text_file.write(json.dumps(grid_results_lstm_classification))"
   ]
  },
  {
   "cell_type": "code",
   "execution_count": 37,
   "id": "9e99ab29",
   "metadata": {},
   "outputs": [
    {
     "data": {
      "text/plain": [
       "{'batch_size': 16,\n",
       " 'epochs': 80,\n",
       " 'model__dropout_rate': 0.2,\n",
       " 'model__neurons': 60,\n",
       " 'best_score': 0.5198529626280013}"
      ]
     },
     "execution_count": 37,
     "metadata": {},
     "output_type": "execute_result"
    }
   ],
   "source": [
    "with open('./LSTM Model/LSTM Classification/GridSearch_Results_LSTM_Classification.txt') as text_file:\n",
    "    grid_result=text_file.read()\n",
    "\n",
    "grid_results_lstm_classification=json.loads(grid_result)\n",
    "grid_results_lstm_classification"
   ]
  },
  {
   "cell_type": "code",
   "execution_count": 38,
   "id": "3293e18a",
   "metadata": {},
   "outputs": [],
   "source": [
    "#def create_lstm_model_bayesian(l1_1, l1_2, l2_1, l2_2, l2_4 ,l2_3, l2_5, l2_6, dropout_rate):\n",
    "    #model=tf.keras.Sequential()\n",
    "    #model.add(tf.keras.layers.LSTM(units=128, return_sequences=True, kernel_regularizer=tf.keras.regularizers.L1L2(l1=l1_1, l2=l2_1), bias_regularizer=tf.keras.regularizers.L2(l2_2), activity_regularizer=tf.keras.regularizers.L2(l2_3), input_shape=(X_validation.shape[1], X_validation.shape[2])))\n",
    "    #model.add(tf.keras.layers.LSTM(units=128, return_sequences=True))\n",
    "    #model.add(tf.keras.layers.Dropout(rate=dropout_rate))\n",
    "    #model.add(tf.keras.layers.LSTM(units=128, return_sequences=False))\n",
    "    #model.add(tf.keras.layers.Dropout(rate=dropout_rate))\n",
    "    #model.add(tf.keras.layers.Dense(units=1, activation='sigmoid', kernel_regularizer=tf.keras.regularizers.L1L2(l1=l1_2, l2=l2_4), bias_regularizer=tf.keras.regularizers.L2(l2_5), activity_regularizer=tf.keras.regularizers.L2(l2_6)))\n",
    "    \n",
    "    #model.compile(loss='binary_crossentropy', optimizer='adam', metrics=['accuracy'])\n",
    "    \n",
    "    #return model\n",
    "\n",
    "#pbounds={'l1_1':(0, 0.1), 'l1_2':(0, 0.1), 'l2_1':(0, 0.1), 'l2_2':(0, 0.1), 'l2_3':(0, 0.1), 'l2_4':(0, 0.1), 'l2_5':(0, 0.1), 'l2_6':(0, 0.1), 'dropout_rate':(0.4, 0.6)}\n",
    "#model=KerasClassifier(build_fn=create_lstm_model_bayesian, epochs=100, batch_size=32)\n",
    "#def optimize_lstm(l1_1, l1_2, l2_1, l2_2, l2_3, l2_4, l2_5, l2_6, dropout_rate):  \n",
    "    #model.set_params(l1_1=float(l1_1), l1_2=float(l1_2), l2_1=float(l2_1), l2_2=float(l2_2), l2_3=float(l2_3), l2_4=float(l2_4), l2_5=float(l2_5), l2_6=float(l2_6), dropout_rate=float(dropout_rate))  \n",
    "    #return -np.mean(sklearn.model_selection.cross_val_score(model, X_validation, y_validation, cv=3, n_jobs=None, scoring='accuracy')) \n",
    "#optimizer = BayesianOptimization(f=optimize_lstm, pbounds=pbounds, random_state=42)  \n",
    "#optimizer.maximize(n_iter=20)"
   ]
  },
  {
   "cell_type": "code",
   "execution_count": 39,
   "id": "0828fe43",
   "metadata": {},
   "outputs": [],
   "source": [
    "#optimizer.max['params']"
   ]
  },
  {
   "cell_type": "code",
   "execution_count": 40,
   "id": "2eac6526",
   "metadata": {},
   "outputs": [],
   "source": [
    "#with open('./LSTM Model/LSTM Classification/BayesianSearch_Results_LSTM_Classification.txt', 'w') as text_file_bayes:\n",
    "    #text_file_bayes.write(json.dumps(optimizer.max['params']))"
   ]
  },
  {
   "cell_type": "code",
   "execution_count": 41,
   "id": "c5d5fe14",
   "metadata": {},
   "outputs": [
    {
     "data": {
      "text/plain": [
       "{'dropout_rate': 0.4749080237694725,\n",
       " 'l1_1': 0.09507143064099162,\n",
       " 'l1_2': 0.0731993941811405,\n",
       " 'l2_1': 0.05986584841970366,\n",
       " 'l2_2': 0.015601864044243652,\n",
       " 'l2_3': 0.015599452033620266,\n",
       " 'l2_4': 0.005808361216819946,\n",
       " 'l2_5': 0.08661761457749352,\n",
       " 'l2_6': 0.06011150117432088}"
      ]
     },
     "execution_count": 41,
     "metadata": {},
     "output_type": "execute_result"
    }
   ],
   "source": [
    "with open('./LSTM Model/LSTM Classification/BayesianSearch_Results_LSTM_Classification.txt') as text_file:\n",
    "    bayes_result=text_file.read()\n",
    "\n",
    "bayes_results_lstm_classification=json.loads(bayes_result)\n",
    "bayes_results_lstm_classification"
   ]
  },
  {
   "cell_type": "code",
   "execution_count": 51,
   "id": "31f2c82a",
   "metadata": {},
   "outputs": [],
   "source": [
    "lstm_model=tf.keras.Sequential()\n",
    "lstm_model.add(tf.keras.layers.LSTM(units=128, return_sequences=True, input_shape=(X_train.shape[1], X_train.shape[2])))\n",
    "lstm_model.add(tf.keras.layers.BatchNormalization())\n",
    "lstm_model.add(tf.keras.layers.Dropout(rate=0.4))\n",
    "lstm_model.add(tf.keras.layers.LSTM(units=128, return_sequences=True))\n",
    "lstm_model.add(tf.keras.layers.BatchNormalization())\n",
    "lstm_model.add(tf.keras.layers.Dropout(rate=0.4))\n",
    "lstm_model.add(tf.keras.layers.LSTM(units=128, return_sequences=False))\n",
    "lstm_model.add(tf.keras.layers.BatchNormalization())\n",
    "lstm_model.add(tf.keras.layers.Dropout(rate=0.4))\n",
    "lstm_model.add(tf.keras.layers.Dense(units=1, activation='sigmoid'))\n",
    "\n",
    "lstm_model.compile(loss='binary_crossentropy', optimizer='Adam', metrics=['accuracy'])"
   ]
  },
  {
   "cell_type": "code",
   "execution_count": 52,
   "id": "1c9171bd",
   "metadata": {},
   "outputs": [
    {
     "name": "stdout",
     "output_type": "stream",
     "text": [
      "Model: \"sequential_2\"\n",
      "_________________________________________________________________\n",
      " Layer (type)                Output Shape              Param #   \n",
      "=================================================================\n",
      " lstm_6 (LSTM)               (None, 12, 128)           69120     \n",
      "                                                                 \n",
      " batch_normalization_3 (Batc  (None, 12, 128)          512       \n",
      " hNormalization)                                                 \n",
      "                                                                 \n",
      " dropout_6 (Dropout)         (None, 12, 128)           0         \n",
      "                                                                 \n",
      " lstm_7 (LSTM)               (None, 12, 128)           131584    \n",
      "                                                                 \n",
      " batch_normalization_4 (Batc  (None, 12, 128)          512       \n",
      " hNormalization)                                                 \n",
      "                                                                 \n",
      " dropout_7 (Dropout)         (None, 12, 128)           0         \n",
      "                                                                 \n",
      " lstm_8 (LSTM)               (None, 128)               131584    \n",
      "                                                                 \n",
      " batch_normalization_5 (Batc  (None, 128)              512       \n",
      " hNormalization)                                                 \n",
      "                                                                 \n",
      " dropout_8 (Dropout)         (None, 128)               0         \n",
      "                                                                 \n",
      " dense_2 (Dense)             (None, 1)                 129       \n",
      "                                                                 \n",
      "=================================================================\n",
      "Total params: 333,953\n",
      "Trainable params: 333,185\n",
      "Non-trainable params: 768\n",
      "_________________________________________________________________\n"
     ]
    }
   ],
   "source": [
    "lstm_model.summary()"
   ]
  },
  {
   "cell_type": "code",
   "execution_count": 44,
   "id": "b051477f",
   "metadata": {},
   "outputs": [],
   "source": [
    "test_inputs=test_and_validation_set[len(test_and_validation_set)-len(test_set):]"
   ]
  },
  {
   "cell_type": "code",
   "execution_count": 45,
   "id": "19ef93da",
   "metadata": {},
   "outputs": [
    {
     "data": {
      "text/plain": [
       "(1745, 12, 6)"
      ]
     },
     "execution_count": 45,
     "metadata": {},
     "output_type": "execute_result"
    }
   ],
   "source": [
    "X_test=[]\n",
    "y_test=[]\n",
    "for i in range(12, len(test_inputs)):\n",
    "    X_test.append(test_inputs[i-12:i, :])\n",
    "    y_test.append(test_inputs[i, 5])\n",
    "X_test, y_test=np.array(X_test), np.array(y_test)\n",
    "X_test=np.reshape(X_test, newshape=(X_test.shape[0], X_test.shape[1], df.shape[1]))\n",
    "X_test.shape"
   ]
  },
  {
   "cell_type": "code",
   "execution_count": 48,
   "id": "d294132e",
   "metadata": {},
   "outputs": [
    {
     "name": "stdout",
     "output_type": "stream",
     "text": [
      "Epoch 1/60\n",
      "28985/28985 [==============================] - 485s 17ms/step - loss: 0.6928 - accuracy: 0.5131 - val_loss: 0.6947 - val_accuracy: 0.5083\n",
      "Epoch 2/60\n",
      "28985/28985 [==============================] - 494s 17ms/step - loss: 0.6928 - accuracy: 0.5133 - val_loss: 0.6936 - val_accuracy: 0.5158\n",
      "Epoch 3/60\n",
      "28985/28985 [==============================] - 481s 17ms/step - loss: 0.6929 - accuracy: 0.5135 - val_loss: 0.6931 - val_accuracy: 0.5066\n",
      "Epoch 4/60\n",
      "28985/28985 [==============================] - 475s 16ms/step - loss: 0.6932 - accuracy: 0.5069 - val_loss: 0.6926 - val_accuracy: 0.5129\n",
      "Epoch 5/60\n",
      "28985/28985 [==============================] - 502s 17ms/step - loss: 0.6930 - accuracy: 0.5105 - val_loss: 0.6928 - val_accuracy: 0.5117\n",
      "Epoch 6/60\n",
      "28985/28985 [==============================] - 474s 16ms/step - loss: 0.6929 - accuracy: 0.5126 - val_loss: 0.6940 - val_accuracy: 0.5089\n",
      "Epoch 7/60\n",
      "  885/28985 [..............................] - ETA: 7:43 - loss: 0.6925 - accuracy: 0.5153"
     ]
    },
    {
     "ename": "KeyboardInterrupt",
     "evalue": "",
     "output_type": "error",
     "traceback": [
      "\u001b[1;31m---------------------------------------------------------------------------\u001b[0m",
      "\u001b[1;31mKeyboardInterrupt\u001b[0m                         Traceback (most recent call last)",
      "Cell \u001b[1;32mIn[48], line 1\u001b[0m\n\u001b[1;32m----> 1\u001b[0m training_history\u001b[38;5;241m=\u001b[39m\u001b[43mlstm_model\u001b[49m\u001b[38;5;241;43m.\u001b[39;49m\u001b[43mfit\u001b[49m\u001b[43m(\u001b[49m\u001b[43mX_train\u001b[49m\u001b[43m,\u001b[49m\u001b[43m \u001b[49m\u001b[43my_train\u001b[49m\u001b[43m,\u001b[49m\u001b[43m \u001b[49m\u001b[43mepochs\u001b[49m\u001b[38;5;241;43m=\u001b[39;49m\u001b[38;5;241;43m60\u001b[39;49m\u001b[43m,\u001b[49m\u001b[43m \u001b[49m\u001b[43mbatch_size\u001b[49m\u001b[38;5;241;43m=\u001b[39;49m\u001b[38;5;241;43m12\u001b[39;49m\u001b[43m,\u001b[49m\u001b[43m \u001b[49m\u001b[43mvalidation_data\u001b[49m\u001b[38;5;241;43m=\u001b[39;49m\u001b[43m(\u001b[49m\u001b[43mX_validation\u001b[49m\u001b[43m,\u001b[49m\u001b[43m \u001b[49m\u001b[43my_validation\u001b[49m\u001b[43m)\u001b[49m\u001b[43m)\u001b[49m\n",
      "File \u001b[1;32m~\\anaconda3\\lib\\site-packages\\keras\\utils\\traceback_utils.py:65\u001b[0m, in \u001b[0;36mfilter_traceback.<locals>.error_handler\u001b[1;34m(*args, **kwargs)\u001b[0m\n\u001b[0;32m     63\u001b[0m filtered_tb \u001b[38;5;241m=\u001b[39m \u001b[38;5;28;01mNone\u001b[39;00m\n\u001b[0;32m     64\u001b[0m \u001b[38;5;28;01mtry\u001b[39;00m:\n\u001b[1;32m---> 65\u001b[0m     \u001b[38;5;28;01mreturn\u001b[39;00m fn(\u001b[38;5;241m*\u001b[39margs, \u001b[38;5;241m*\u001b[39m\u001b[38;5;241m*\u001b[39mkwargs)\n\u001b[0;32m     66\u001b[0m \u001b[38;5;28;01mexcept\u001b[39;00m \u001b[38;5;167;01mException\u001b[39;00m \u001b[38;5;28;01mas\u001b[39;00m e:\n\u001b[0;32m     67\u001b[0m     filtered_tb \u001b[38;5;241m=\u001b[39m _process_traceback_frames(e\u001b[38;5;241m.\u001b[39m__traceback__)\n",
      "File \u001b[1;32m~\\anaconda3\\lib\\site-packages\\keras\\engine\\training.py:1564\u001b[0m, in \u001b[0;36mModel.fit\u001b[1;34m(self, x, y, batch_size, epochs, verbose, callbacks, validation_split, validation_data, shuffle, class_weight, sample_weight, initial_epoch, steps_per_epoch, validation_steps, validation_batch_size, validation_freq, max_queue_size, workers, use_multiprocessing)\u001b[0m\n\u001b[0;32m   1556\u001b[0m \u001b[38;5;28;01mwith\u001b[39;00m tf\u001b[38;5;241m.\u001b[39mprofiler\u001b[38;5;241m.\u001b[39mexperimental\u001b[38;5;241m.\u001b[39mTrace(\n\u001b[0;32m   1557\u001b[0m     \u001b[38;5;124m\"\u001b[39m\u001b[38;5;124mtrain\u001b[39m\u001b[38;5;124m\"\u001b[39m,\n\u001b[0;32m   1558\u001b[0m     epoch_num\u001b[38;5;241m=\u001b[39mepoch,\n\u001b[1;32m   (...)\u001b[0m\n\u001b[0;32m   1561\u001b[0m     _r\u001b[38;5;241m=\u001b[39m\u001b[38;5;241m1\u001b[39m,\n\u001b[0;32m   1562\u001b[0m ):\n\u001b[0;32m   1563\u001b[0m     callbacks\u001b[38;5;241m.\u001b[39mon_train_batch_begin(step)\n\u001b[1;32m-> 1564\u001b[0m     tmp_logs \u001b[38;5;241m=\u001b[39m \u001b[38;5;28;43mself\u001b[39;49m\u001b[38;5;241;43m.\u001b[39;49m\u001b[43mtrain_function\u001b[49m\u001b[43m(\u001b[49m\u001b[43miterator\u001b[49m\u001b[43m)\u001b[49m\n\u001b[0;32m   1565\u001b[0m     \u001b[38;5;28;01mif\u001b[39;00m data_handler\u001b[38;5;241m.\u001b[39mshould_sync:\n\u001b[0;32m   1566\u001b[0m         context\u001b[38;5;241m.\u001b[39masync_wait()\n",
      "File \u001b[1;32m~\\anaconda3\\lib\\site-packages\\tensorflow\\python\\util\\traceback_utils.py:150\u001b[0m, in \u001b[0;36mfilter_traceback.<locals>.error_handler\u001b[1;34m(*args, **kwargs)\u001b[0m\n\u001b[0;32m    148\u001b[0m filtered_tb \u001b[38;5;241m=\u001b[39m \u001b[38;5;28;01mNone\u001b[39;00m\n\u001b[0;32m    149\u001b[0m \u001b[38;5;28;01mtry\u001b[39;00m:\n\u001b[1;32m--> 150\u001b[0m   \u001b[38;5;28;01mreturn\u001b[39;00m fn(\u001b[38;5;241m*\u001b[39margs, \u001b[38;5;241m*\u001b[39m\u001b[38;5;241m*\u001b[39mkwargs)\n\u001b[0;32m    151\u001b[0m \u001b[38;5;28;01mexcept\u001b[39;00m \u001b[38;5;167;01mException\u001b[39;00m \u001b[38;5;28;01mas\u001b[39;00m e:\n\u001b[0;32m    152\u001b[0m   filtered_tb \u001b[38;5;241m=\u001b[39m _process_traceback_frames(e\u001b[38;5;241m.\u001b[39m__traceback__)\n",
      "File \u001b[1;32m~\\anaconda3\\lib\\site-packages\\tensorflow\\python\\eager\\def_function.py:915\u001b[0m, in \u001b[0;36mFunction.__call__\u001b[1;34m(self, *args, **kwds)\u001b[0m\n\u001b[0;32m    912\u001b[0m compiler \u001b[38;5;241m=\u001b[39m \u001b[38;5;124m\"\u001b[39m\u001b[38;5;124mxla\u001b[39m\u001b[38;5;124m\"\u001b[39m \u001b[38;5;28;01mif\u001b[39;00m \u001b[38;5;28mself\u001b[39m\u001b[38;5;241m.\u001b[39m_jit_compile \u001b[38;5;28;01melse\u001b[39;00m \u001b[38;5;124m\"\u001b[39m\u001b[38;5;124mnonXla\u001b[39m\u001b[38;5;124m\"\u001b[39m\n\u001b[0;32m    914\u001b[0m \u001b[38;5;28;01mwith\u001b[39;00m OptionalXlaContext(\u001b[38;5;28mself\u001b[39m\u001b[38;5;241m.\u001b[39m_jit_compile):\n\u001b[1;32m--> 915\u001b[0m   result \u001b[38;5;241m=\u001b[39m \u001b[38;5;28mself\u001b[39m\u001b[38;5;241m.\u001b[39m_call(\u001b[38;5;241m*\u001b[39margs, \u001b[38;5;241m*\u001b[39m\u001b[38;5;241m*\u001b[39mkwds)\n\u001b[0;32m    917\u001b[0m new_tracing_count \u001b[38;5;241m=\u001b[39m \u001b[38;5;28mself\u001b[39m\u001b[38;5;241m.\u001b[39mexperimental_get_tracing_count()\n\u001b[0;32m    918\u001b[0m without_tracing \u001b[38;5;241m=\u001b[39m (tracing_count \u001b[38;5;241m==\u001b[39m new_tracing_count)\n",
      "File \u001b[1;32m~\\anaconda3\\lib\\site-packages\\tensorflow\\python\\eager\\def_function.py:947\u001b[0m, in \u001b[0;36mFunction._call\u001b[1;34m(self, *args, **kwds)\u001b[0m\n\u001b[0;32m    944\u001b[0m   \u001b[38;5;28mself\u001b[39m\u001b[38;5;241m.\u001b[39m_lock\u001b[38;5;241m.\u001b[39mrelease()\n\u001b[0;32m    945\u001b[0m   \u001b[38;5;66;03m# In this case we have created variables on the first call, so we run the\u001b[39;00m\n\u001b[0;32m    946\u001b[0m   \u001b[38;5;66;03m# defunned version which is guaranteed to never create variables.\u001b[39;00m\n\u001b[1;32m--> 947\u001b[0m   \u001b[38;5;28;01mreturn\u001b[39;00m \u001b[38;5;28mself\u001b[39m\u001b[38;5;241m.\u001b[39m_stateless_fn(\u001b[38;5;241m*\u001b[39margs, \u001b[38;5;241m*\u001b[39m\u001b[38;5;241m*\u001b[39mkwds)  \u001b[38;5;66;03m# pylint: disable=not-callable\u001b[39;00m\n\u001b[0;32m    948\u001b[0m \u001b[38;5;28;01melif\u001b[39;00m \u001b[38;5;28mself\u001b[39m\u001b[38;5;241m.\u001b[39m_stateful_fn \u001b[38;5;129;01mis\u001b[39;00m \u001b[38;5;129;01mnot\u001b[39;00m \u001b[38;5;28;01mNone\u001b[39;00m:\n\u001b[0;32m    949\u001b[0m   \u001b[38;5;66;03m# Release the lock early so that multiple threads can perform the call\u001b[39;00m\n\u001b[0;32m    950\u001b[0m   \u001b[38;5;66;03m# in parallel.\u001b[39;00m\n\u001b[0;32m    951\u001b[0m   \u001b[38;5;28mself\u001b[39m\u001b[38;5;241m.\u001b[39m_lock\u001b[38;5;241m.\u001b[39mrelease()\n",
      "File \u001b[1;32m~\\anaconda3\\lib\\site-packages\\tensorflow\\python\\eager\\function.py:2496\u001b[0m, in \u001b[0;36mFunction.__call__\u001b[1;34m(self, *args, **kwargs)\u001b[0m\n\u001b[0;32m   2493\u001b[0m \u001b[38;5;28;01mwith\u001b[39;00m \u001b[38;5;28mself\u001b[39m\u001b[38;5;241m.\u001b[39m_lock:\n\u001b[0;32m   2494\u001b[0m   (graph_function,\n\u001b[0;32m   2495\u001b[0m    filtered_flat_args) \u001b[38;5;241m=\u001b[39m \u001b[38;5;28mself\u001b[39m\u001b[38;5;241m.\u001b[39m_maybe_define_function(args, kwargs)\n\u001b[1;32m-> 2496\u001b[0m \u001b[38;5;28;01mreturn\u001b[39;00m \u001b[43mgraph_function\u001b[49m\u001b[38;5;241;43m.\u001b[39;49m\u001b[43m_call_flat\u001b[49m\u001b[43m(\u001b[49m\n\u001b[0;32m   2497\u001b[0m \u001b[43m    \u001b[49m\u001b[43mfiltered_flat_args\u001b[49m\u001b[43m,\u001b[49m\u001b[43m \u001b[49m\u001b[43mcaptured_inputs\u001b[49m\u001b[38;5;241;43m=\u001b[39;49m\u001b[43mgraph_function\u001b[49m\u001b[38;5;241;43m.\u001b[39;49m\u001b[43mcaptured_inputs\u001b[49m\u001b[43m)\u001b[49m\n",
      "File \u001b[1;32m~\\anaconda3\\lib\\site-packages\\tensorflow\\python\\eager\\function.py:1862\u001b[0m, in \u001b[0;36mConcreteFunction._call_flat\u001b[1;34m(self, args, captured_inputs, cancellation_manager)\u001b[0m\n\u001b[0;32m   1858\u001b[0m possible_gradient_type \u001b[38;5;241m=\u001b[39m gradients_util\u001b[38;5;241m.\u001b[39mPossibleTapeGradientTypes(args)\n\u001b[0;32m   1859\u001b[0m \u001b[38;5;28;01mif\u001b[39;00m (possible_gradient_type \u001b[38;5;241m==\u001b[39m gradients_util\u001b[38;5;241m.\u001b[39mPOSSIBLE_GRADIENT_TYPES_NONE\n\u001b[0;32m   1860\u001b[0m     \u001b[38;5;129;01mand\u001b[39;00m executing_eagerly):\n\u001b[0;32m   1861\u001b[0m   \u001b[38;5;66;03m# No tape is watching; skip to running the function.\u001b[39;00m\n\u001b[1;32m-> 1862\u001b[0m   \u001b[38;5;28;01mreturn\u001b[39;00m \u001b[38;5;28mself\u001b[39m\u001b[38;5;241m.\u001b[39m_build_call_outputs(\u001b[38;5;28;43mself\u001b[39;49m\u001b[38;5;241;43m.\u001b[39;49m\u001b[43m_inference_function\u001b[49m\u001b[38;5;241;43m.\u001b[39;49m\u001b[43mcall\u001b[49m\u001b[43m(\u001b[49m\n\u001b[0;32m   1863\u001b[0m \u001b[43m      \u001b[49m\u001b[43mctx\u001b[49m\u001b[43m,\u001b[49m\u001b[43m \u001b[49m\u001b[43margs\u001b[49m\u001b[43m,\u001b[49m\u001b[43m \u001b[49m\u001b[43mcancellation_manager\u001b[49m\u001b[38;5;241;43m=\u001b[39;49m\u001b[43mcancellation_manager\u001b[49m\u001b[43m)\u001b[49m)\n\u001b[0;32m   1864\u001b[0m forward_backward \u001b[38;5;241m=\u001b[39m \u001b[38;5;28mself\u001b[39m\u001b[38;5;241m.\u001b[39m_select_forward_and_backward_functions(\n\u001b[0;32m   1865\u001b[0m     args,\n\u001b[0;32m   1866\u001b[0m     possible_gradient_type,\n\u001b[0;32m   1867\u001b[0m     executing_eagerly)\n\u001b[0;32m   1868\u001b[0m forward_function, args_with_tangents \u001b[38;5;241m=\u001b[39m forward_backward\u001b[38;5;241m.\u001b[39mforward()\n",
      "File \u001b[1;32m~\\anaconda3\\lib\\site-packages\\tensorflow\\python\\eager\\function.py:499\u001b[0m, in \u001b[0;36m_EagerDefinedFunction.call\u001b[1;34m(self, ctx, args, cancellation_manager)\u001b[0m\n\u001b[0;32m    497\u001b[0m \u001b[38;5;28;01mwith\u001b[39;00m _InterpolateFunctionError(\u001b[38;5;28mself\u001b[39m):\n\u001b[0;32m    498\u001b[0m   \u001b[38;5;28;01mif\u001b[39;00m cancellation_manager \u001b[38;5;129;01mis\u001b[39;00m \u001b[38;5;28;01mNone\u001b[39;00m:\n\u001b[1;32m--> 499\u001b[0m     outputs \u001b[38;5;241m=\u001b[39m \u001b[43mexecute\u001b[49m\u001b[38;5;241;43m.\u001b[39;49m\u001b[43mexecute\u001b[49m\u001b[43m(\u001b[49m\n\u001b[0;32m    500\u001b[0m \u001b[43m        \u001b[49m\u001b[38;5;28;43mstr\u001b[39;49m\u001b[43m(\u001b[49m\u001b[38;5;28;43mself\u001b[39;49m\u001b[38;5;241;43m.\u001b[39;49m\u001b[43msignature\u001b[49m\u001b[38;5;241;43m.\u001b[39;49m\u001b[43mname\u001b[49m\u001b[43m)\u001b[49m\u001b[43m,\u001b[49m\n\u001b[0;32m    501\u001b[0m \u001b[43m        \u001b[49m\u001b[43mnum_outputs\u001b[49m\u001b[38;5;241;43m=\u001b[39;49m\u001b[38;5;28;43mself\u001b[39;49m\u001b[38;5;241;43m.\u001b[39;49m\u001b[43m_num_outputs\u001b[49m\u001b[43m,\u001b[49m\n\u001b[0;32m    502\u001b[0m \u001b[43m        \u001b[49m\u001b[43minputs\u001b[49m\u001b[38;5;241;43m=\u001b[39;49m\u001b[43margs\u001b[49m\u001b[43m,\u001b[49m\n\u001b[0;32m    503\u001b[0m \u001b[43m        \u001b[49m\u001b[43mattrs\u001b[49m\u001b[38;5;241;43m=\u001b[39;49m\u001b[43mattrs\u001b[49m\u001b[43m,\u001b[49m\n\u001b[0;32m    504\u001b[0m \u001b[43m        \u001b[49m\u001b[43mctx\u001b[49m\u001b[38;5;241;43m=\u001b[39;49m\u001b[43mctx\u001b[49m\u001b[43m)\u001b[49m\n\u001b[0;32m    505\u001b[0m   \u001b[38;5;28;01melse\u001b[39;00m:\n\u001b[0;32m    506\u001b[0m     outputs \u001b[38;5;241m=\u001b[39m execute\u001b[38;5;241m.\u001b[39mexecute_with_cancellation(\n\u001b[0;32m    507\u001b[0m         \u001b[38;5;28mstr\u001b[39m(\u001b[38;5;28mself\u001b[39m\u001b[38;5;241m.\u001b[39msignature\u001b[38;5;241m.\u001b[39mname),\n\u001b[0;32m    508\u001b[0m         num_outputs\u001b[38;5;241m=\u001b[39m\u001b[38;5;28mself\u001b[39m\u001b[38;5;241m.\u001b[39m_num_outputs,\n\u001b[1;32m   (...)\u001b[0m\n\u001b[0;32m    511\u001b[0m         ctx\u001b[38;5;241m=\u001b[39mctx,\n\u001b[0;32m    512\u001b[0m         cancellation_manager\u001b[38;5;241m=\u001b[39mcancellation_manager)\n",
      "File \u001b[1;32m~\\anaconda3\\lib\\site-packages\\tensorflow\\python\\eager\\execute.py:54\u001b[0m, in \u001b[0;36mquick_execute\u001b[1;34m(op_name, num_outputs, inputs, attrs, ctx, name)\u001b[0m\n\u001b[0;32m     52\u001b[0m \u001b[38;5;28;01mtry\u001b[39;00m:\n\u001b[0;32m     53\u001b[0m   ctx\u001b[38;5;241m.\u001b[39mensure_initialized()\n\u001b[1;32m---> 54\u001b[0m   tensors \u001b[38;5;241m=\u001b[39m \u001b[43mpywrap_tfe\u001b[49m\u001b[38;5;241;43m.\u001b[39;49m\u001b[43mTFE_Py_Execute\u001b[49m\u001b[43m(\u001b[49m\u001b[43mctx\u001b[49m\u001b[38;5;241;43m.\u001b[39;49m\u001b[43m_handle\u001b[49m\u001b[43m,\u001b[49m\u001b[43m \u001b[49m\u001b[43mdevice_name\u001b[49m\u001b[43m,\u001b[49m\u001b[43m \u001b[49m\u001b[43mop_name\u001b[49m\u001b[43m,\u001b[49m\n\u001b[0;32m     55\u001b[0m \u001b[43m                                      \u001b[49m\u001b[43minputs\u001b[49m\u001b[43m,\u001b[49m\u001b[43m \u001b[49m\u001b[43mattrs\u001b[49m\u001b[43m,\u001b[49m\u001b[43m \u001b[49m\u001b[43mnum_outputs\u001b[49m\u001b[43m)\u001b[49m\n\u001b[0;32m     56\u001b[0m \u001b[38;5;28;01mexcept\u001b[39;00m core\u001b[38;5;241m.\u001b[39m_NotOkStatusException \u001b[38;5;28;01mas\u001b[39;00m e:\n\u001b[0;32m     57\u001b[0m   \u001b[38;5;28;01mif\u001b[39;00m name \u001b[38;5;129;01mis\u001b[39;00m \u001b[38;5;129;01mnot\u001b[39;00m \u001b[38;5;28;01mNone\u001b[39;00m:\n",
      "\u001b[1;31mKeyboardInterrupt\u001b[0m: "
     ]
    }
   ],
   "source": [
    "training_history=lstm_model.fit(X_train, y_train, epochs=60, batch_size=12, validation_data=(X_validation, y_validation))"
   ]
  },
  {
   "cell_type": "code",
   "execution_count": 64,
   "id": "1b04c1e5",
   "metadata": {},
   "outputs": [],
   "source": [
    "#training_loss_values_lstm_classification=lstm_model.history.history['loss']\n",
    "#training_accuracy_values_lstm_classification=lstm_model.history.history['accuracy']\n",
    "#validation_loss_values_lstm_classification=lstm_model.history.history['val_loss']\n",
    "#validation_accuracy_values_lstm_classification=lstm_model.history.history['val_accuracy']"
   ]
  },
  {
   "cell_type": "code",
   "execution_count": 65,
   "id": "977d5d7c",
   "metadata": {},
   "outputs": [],
   "source": [
    "#lstm_model.save('./LSTM Model/LSTM Classification/LSTM_Classification_model.h5')\n",
    "#lstm_model.save_weights('./LSTM Model/LSTM Classification/LSTM Classification_model_weights')\n",
    "#np.savetxt('./LSTM Model/LSTM Classification/TrainingLossValues.txt', training_loss_values_lstm_classification)\n",
    "#np.savetxt('./LSTM Model/LSTM Classification/TrainingAccuracyValues.txt', training_accuracy_values_lstm_classification)\n",
    "#np.savetxt('./LSTM Model/LSTM Classification/ValidationLossValues.txt', validation_loss_values_lstm_classification)\n",
    "#np.savetxt('./LSTM Model/LSTM Classification/ValidationAccuracyValues.txt', validation_accuracy_values_lstm_classification)"
   ]
  },
  {
   "cell_type": "code",
   "execution_count": 63,
   "id": "b6f83cfe",
   "metadata": {},
   "outputs": [],
   "source": [
    "lstm_model_classification=tf.keras.models.load_model('./LSTM Model/LSTM Classification/LSTM_Classification_model.h5')\n",
    "training_loss_values_lstm_classification=np.loadtxt('./LSTM Model/LSTM Classification/TrainingLossValues.txt')\n",
    "training_accuracy_values_lstm_classification=np.loadtxt('./LSTM Model/LSTM Classification/TrainingAccuracyValues.txt')\n",
    "validation_loss_values_lstm_classification=np.loadtxt('./LSTM Model/LSTM Classification/ValidationLossValues.txt')\n",
    "validation_accuracy_values_lstm_classification=np.loadtxt('./LSTM Model/LSTM Classification/ValidationAccuracyValues.txt')"
   ]
  },
  {
   "cell_type": "code",
   "execution_count": 66,
   "id": "d6029f27",
   "metadata": {},
   "outputs": [
    {
     "data": {
      "image/png": "[encoded data removed]",
      "text/plain": [
       "<Figure size 800x600 with 1 Axes>"
      ]
     },
     "metadata": {},
     "output_type": "display_data"
    }
   ],
   "source": [
    "plt.figure(figsize=(8,6))\n",
    "plt.title('Loss curve')\n",
    "plt.plot(range(1,101), training_loss_values_lstm_classification, color='blue', label='Training Loss')\n",
    "plt.plot(range(1,101), validation_loss_values_lstm_classification, color='red', label='Validation Loss')\n",
    "plt.legend()\n",
    "plt.show()"
   ]
  },
  {
   "cell_type": "code",
   "execution_count": 67,
   "id": "a1e67ac5",
   "metadata": {},
   "outputs": [
    {
     "data": {
      "image/png": "[encoded data removed]",
      "text/plain": [
       "<Figure size 800x600 with 1 Axes>"
      ]
     },
     "metadata": {},
     "output_type": "display_data"
    }
   ],
   "source": [
    "plt.figure(figsize=(8,6))\n",
    "plt.title('Accuracy curve')\n",
    "plt.plot(range(1,101), training_accuracy_values_lstm_classification, color='blue', label='Training Accuracy')\n",
    "plt.plot(range(1,101), validation_accuracy_values_lstm_classification, color='red', label='Validation Accuracy')\n",
    "plt.legend()\n",
    "plt.show()"
   ]
  },
  {
   "cell_type": "code",
   "execution_count": 70,
   "id": "e2fb2384",
   "metadata": {},
   "outputs": [
    {
     "name": "stdout",
     "output_type": "stream",
     "text": [
      "43/43 [==============================] - 1s 10ms/step - loss: 0.7079 - accuracy: 0.4820\n"
     ]
    }
   ],
   "source": [
    "score=lstm_model_classification.evaluate(X_test, y_test)"
   ]
  },
  {
   "cell_type": "code",
   "execution_count": 71,
   "id": "c5f644ef",
   "metadata": {},
   "outputs": [
    {
     "name": "stdout",
     "output_type": "stream",
     "text": [
      "43/43 [==============================] - 1s 8ms/step\n"
     ]
    }
   ],
   "source": [
    "predicted_close_prices=lstm_model.predict(X_test)"
   ]
  },
  {
   "cell_type": "code",
   "execution_count": 82,
   "id": "ba191997",
   "metadata": {},
   "outputs": [
    {
     "data": {
      "text/plain": [
       "(274458,)"
      ]
     },
     "execution_count": 82,
     "metadata": {},
     "output_type": "execute_result"
    }
   ],
   "source": [
    "dataset_scaled[:, 5].shape"
   ]
  },
  {
   "cell_type": "code",
   "execution_count": 84,
   "id": "017eab1c",
   "metadata": {},
   "outputs": [
    {
     "data": {
      "text/plain": [
       "(1361, 1)"
      ]
     },
     "execution_count": 84,
     "metadata": {},
     "output_type": "execute_result"
    }
   ],
   "source": [
    "predicted_trend=(predicted_close_prices>0.5).astype(int)\n",
    "predicted_trend.shape"
   ]
  },
  {
   "cell_type": "code",
   "execution_count": 88,
   "id": "440dccaa",
   "metadata": {},
   "outputs": [],
   "source": [
    "real_trend=np.reshape(dataset_scaled[-1361:, 5], newshape=(predicted_trend.shape[0], predicted_trend.shape[1]))"
   ]
  },
  {
   "cell_type": "code",
   "execution_count": 89,
   "id": "b55e0f41",
   "metadata": {},
   "outputs": [
    {
     "data": {
      "text/plain": [
       "0.4891994917407878"
      ]
     },
     "execution_count": 89,
     "metadata": {},
     "output_type": "execute_result"
    }
   ],
   "source": [
    "precision_score(real_trend, predicted_trend)"
   ]
  },
  {
   "cell_type": "markdown",
   "id": "1c31b207",
   "metadata": {},
   "source": [
    "### LSTM Regression Model"
   ]
  },
  {
   "cell_type": "code",
   "execution_count": 30,
   "id": "17b37141",
   "metadata": {},
   "outputs": [],
   "source": [
    "training_loss_values_lstm=np.loadtxt('./LSTM Model/TrainingLossValues.txt')\n",
    "lstm_model=tf.keras.models.load_model('./LSTM Model/LSTM_model.h5')"
   ]
  },
  {
   "cell_type": "code",
   "execution_count": 31,
   "id": "bc20938b",
   "metadata": {},
   "outputs": [
    {
     "data": {
      "image/png": "[encoded data removed]",
      "text/plain": [
       "<Figure size 800x800 with 1 Axes>"
      ]
     },
     "metadata": {},
     "output_type": "display_data"
    }
   ],
   "source": [
    "plt.figure(figsize=(8,8))\n",
    "plt.title('Loss vs Epoch')\n",
    "plt.xlabel('Epochs')\n",
    "plt.ylabel('Loss')\n",
    "plt.plot(range(1, 101), training_loss_values_lstm)\n",
    "plt.show()"
   ]
  },
  {
   "cell_type": "code",
   "execution_count": 32,
   "id": "c2c96310",
   "metadata": {},
   "outputs": [
    {
     "data": {
      "text/plain": [
       "(2745, 5)"
      ]
     },
     "execution_count": 32,
     "metadata": {},
     "output_type": "execute_result"
    }
   ],
   "source": [
    "test_inputs=test_and_validation_set[len(test_and_validation_set)-len(test_set):]\n",
    "test_inputs.shape"
   ]
  },
  {
   "cell_type": "code",
   "execution_count": 33,
   "id": "039c64dd",
   "metadata": {},
   "outputs": [
    {
     "data": {
      "text/plain": [
       "(2733,)"
      ]
     },
     "execution_count": 33,
     "metadata": {},
     "output_type": "execute_result"
    }
   ],
   "source": [
    "X_test=[]\n",
    "y_test=[]\n",
    "for i in range(12, len(test_inputs)):\n",
    "    X_test.append(test_inputs[i-12:i, :])\n",
    "    y_test.append(test_inputs[i, 1])\n",
    "    \n",
    "X_test, y_test=np.array(X_test), np.array(y_test)\n",
    "X_test=np.reshape(X_test, newshape=(X_test.shape[0], X_test.shape[1], X_test.shape[2]))\n",
    "y_test.shape"
   ]
  },
  {
   "cell_type": "code",
   "execution_count": 34,
   "id": "62699ccd",
   "metadata": {},
   "outputs": [
    {
     "name": "stdout",
     "output_type": "stream",
     "text": [
      "86/86 [==============================] - 6s 13ms/step - loss: 1.3950e-06\n"
     ]
    }
   ],
   "source": [
    "score=lstm_model.evaluate(X_test, y_test)"
   ]
  },
  {
   "cell_type": "code",
   "execution_count": 35,
   "id": "046f95e6",
   "metadata": {},
   "outputs": [
    {
     "name": "stdout",
     "output_type": "stream",
     "text": [
      "86/86 [==============================] - 3s 11ms/step\n"
     ]
    }
   ],
   "source": [
    "predicted_close_prices=lstm_model.predict(X_test)"
   ]
  },
  {
   "cell_type": "code",
   "execution_count": 36,
   "id": "626d948a",
   "metadata": {},
   "outputs": [
    {
     "data": {
      "text/plain": [
       "(2733, 1)"
      ]
     },
     "execution_count": 36,
     "metadata": {},
     "output_type": "execute_result"
    }
   ],
   "source": [
    "predicted_close_prices.shape"
   ]
  },
  {
   "cell_type": "code",
   "execution_count": 37,
   "id": "bb6bd860",
   "metadata": {},
   "outputs": [],
   "source": [
    "prediction_copies_array = np.repeat(predicted_close_prices,5, axis=-1)\n",
    "predicted_close_prices = scaler.inverse_transform(np.reshape(prediction_copies_array,(len(predicted_close_prices),5)))[:,0]"
   ]
  },
  {
   "cell_type": "code",
   "execution_count": 38,
   "id": "4a5287a6",
   "metadata": {},
   "outputs": [],
   "source": [
    "y_test_copy = np.repeat(y_test,5, axis=-1)\n",
    "y_test = scaler.inverse_transform(np.reshape(y_test_copy,(len(y_test),5)))[:,0]"
   ]
  },
  {
   "cell_type": "code",
   "execution_count": 39,
   "id": "9a23d938",
   "metadata": {},
   "outputs": [
    {
     "data": {
      "image/png": "[encoded data removed]",
      "text/plain": [
       "<Figure size 1000x800 with 1 Axes>"
      ]
     },
     "metadata": {},
     "output_type": "display_data"
    }
   ],
   "source": [
    "plt.figure(figsize=(10,8))\n",
    "plt.plot(predicted_close_prices[len(predicted_close_prices)-100:len(predicted_close_prices)], color='blue', label='Predicted price')\n",
    "plt.plot(y_test[len(y_test)-100:len(y_test)], color='red', label='Real price')\n",
    "plt.title(\"Close price\")\n",
    "plt.legend()\n",
    "plt.show()"
   ]
  },
  {
   "cell_type": "markdown",
   "id": "8514cbaf",
   "metadata": {},
   "source": [
    "### Building Random Forest Model"
   ]
  },
  {
   "cell_type": "code",
   "execution_count": 22,
   "id": "a6517734",
   "metadata": {},
   "outputs": [],
   "source": [
    "dataset_rf=df.copy()"
   ]
  },
  {
   "cell_type": "code",
   "execution_count": 23,
   "id": "dc850e73",
   "metadata": {},
   "outputs": [],
   "source": [
    "dataset_rf['tomorrow']=dataset_rf['close'].shift(-1)"
   ]
  },
  {
   "cell_type": "code",
   "execution_count": 24,
   "id": "60a12ada",
   "metadata": {},
   "outputs": [],
   "source": [
    "dataset_rf['target']=(dataset_rf['tomorrow'] > dataset_rf['close']).astype(int)"
   ]
  },
  {
   "cell_type": "code",
   "execution_count": 25,
   "id": "208008f3",
   "metadata": {},
   "outputs": [
    {
     "data": {
      "text/html": [
       "<div>\n",
       "<style scoped>\n",
       "    .dataframe tbody tr th:only-of-type {\n",
       "        vertical-align: middle;\n",
       "    }\n",
       "\n",
       "    .dataframe tbody tr th {\n",
       "        vertical-align: top;\n",
       "    }\n",
       "\n",
       "    .dataframe thead th {\n",
       "        text-align: right;\n",
       "    }\n",
       "</style>\n",
       "<table border=\"1\" class=\"dataframe\">\n",
       "  <thead>\n",
       "    <tr style=\"text-align: right;\">\n",
       "      <th></th>\n",
       "      <th>open</th>\n",
       "      <th>close</th>\n",
       "      <th>high</th>\n",
       "      <th>low</th>\n",
       "      <th>volume</th>\n",
       "      <th>target</th>\n",
       "      <th>tomorrow</th>\n",
       "    </tr>\n",
       "    <tr>\n",
       "      <th>time</th>\n",
       "      <th></th>\n",
       "      <th></th>\n",
       "      <th></th>\n",
       "      <th></th>\n",
       "      <th></th>\n",
       "      <th></th>\n",
       "      <th></th>\n",
       "    </tr>\n",
       "  </thead>\n",
       "  <tbody>\n",
       "    <tr>\n",
       "      <th>2020-04-09 00:00:00</th>\n",
       "      <td>172.20</td>\n",
       "      <td>172.12</td>\n",
       "      <td>172.34</td>\n",
       "      <td>172.07</td>\n",
       "      <td>204.24</td>\n",
       "      <td>0</td>\n",
       "      <td>171.93</td>\n",
       "    </tr>\n",
       "    <tr>\n",
       "      <th>2020-04-09 00:05:00</th>\n",
       "      <td>172.14</td>\n",
       "      <td>171.93</td>\n",
       "      <td>172.16</td>\n",
       "      <td>171.80</td>\n",
       "      <td>191.04</td>\n",
       "      <td>1</td>\n",
       "      <td>172.12</td>\n",
       "    </tr>\n",
       "    <tr>\n",
       "      <th>2020-04-09 00:10:00</th>\n",
       "      <td>171.94</td>\n",
       "      <td>172.12</td>\n",
       "      <td>172.26</td>\n",
       "      <td>171.91</td>\n",
       "      <td>200.84</td>\n",
       "      <td>0</td>\n",
       "      <td>172.02</td>\n",
       "    </tr>\n",
       "    <tr>\n",
       "      <th>2020-04-09 00:15:00</th>\n",
       "      <td>172.12</td>\n",
       "      <td>172.02</td>\n",
       "      <td>172.28</td>\n",
       "      <td>171.98</td>\n",
       "      <td>198.00</td>\n",
       "      <td>0</td>\n",
       "      <td>171.87</td>\n",
       "    </tr>\n",
       "    <tr>\n",
       "      <th>2020-04-09 00:20:00</th>\n",
       "      <td>171.99</td>\n",
       "      <td>171.87</td>\n",
       "      <td>172.10</td>\n",
       "      <td>171.72</td>\n",
       "      <td>208.17</td>\n",
       "      <td>1</td>\n",
       "      <td>171.88</td>\n",
       "    </tr>\n",
       "    <tr>\n",
       "      <th>...</th>\n",
       "      <td>...</td>\n",
       "      <td>...</td>\n",
       "      <td>...</td>\n",
       "      <td>...</td>\n",
       "      <td>...</td>\n",
       "      <td>...</td>\n",
       "      <td>...</td>\n",
       "    </tr>\n",
       "    <tr>\n",
       "      <th>2023-08-10 23:30:00</th>\n",
       "      <td>1849.37</td>\n",
       "      <td>1849.86</td>\n",
       "      <td>1849.86</td>\n",
       "      <td>1849.32</td>\n",
       "      <td>666.97</td>\n",
       "      <td>1</td>\n",
       "      <td>1850.13</td>\n",
       "    </tr>\n",
       "    <tr>\n",
       "      <th>2023-08-10 23:35:00</th>\n",
       "      <td>1849.86</td>\n",
       "      <td>1850.13</td>\n",
       "      <td>1850.13</td>\n",
       "      <td>1849.32</td>\n",
       "      <td>585.88</td>\n",
       "      <td>1</td>\n",
       "      <td>1850.67</td>\n",
       "    </tr>\n",
       "    <tr>\n",
       "      <th>2023-08-10 23:40:00</th>\n",
       "      <td>1850.14</td>\n",
       "      <td>1850.67</td>\n",
       "      <td>1850.71</td>\n",
       "      <td>1850.00</td>\n",
       "      <td>443.23</td>\n",
       "      <td>1</td>\n",
       "      <td>1851.03</td>\n",
       "    </tr>\n",
       "    <tr>\n",
       "      <th>2023-08-10 23:45:00</th>\n",
       "      <td>1850.67</td>\n",
       "      <td>1851.03</td>\n",
       "      <td>1851.54</td>\n",
       "      <td>1850.67</td>\n",
       "      <td>1229.89</td>\n",
       "      <td>0</td>\n",
       "      <td>1850.37</td>\n",
       "    </tr>\n",
       "    <tr>\n",
       "      <th>2023-08-10 23:50:00</th>\n",
       "      <td>1851.04</td>\n",
       "      <td>1850.37</td>\n",
       "      <td>1851.04</td>\n",
       "      <td>1850.10</td>\n",
       "      <td>212.13</td>\n",
       "      <td>0</td>\n",
       "      <td>NaN</td>\n",
       "    </tr>\n",
       "  </tbody>\n",
       "</table>\n",
       "<p>351346 rows × 7 columns</p>\n",
       "</div>"
      ],
      "text/plain": [
       "                        open    close     high      low   volume  target  \\\n",
       "time                                                                       \n",
       "2020-04-09 00:00:00   172.20   172.12   172.34   172.07   204.24       0   \n",
       "2020-04-09 00:05:00   172.14   171.93   172.16   171.80   191.04       1   \n",
       "2020-04-09 00:10:00   171.94   172.12   172.26   171.91   200.84       0   \n",
       "2020-04-09 00:15:00   172.12   172.02   172.28   171.98   198.00       0   \n",
       "2020-04-09 00:20:00   171.99   171.87   172.10   171.72   208.17       1   \n",
       "...                      ...      ...      ...      ...      ...     ...   \n",
       "2023-08-10 23:30:00  1849.37  1849.86  1849.86  1849.32   666.97       1   \n",
       "2023-08-10 23:35:00  1849.86  1850.13  1850.13  1849.32   585.88       1   \n",
       "2023-08-10 23:40:00  1850.14  1850.67  1850.71  1850.00   443.23       1   \n",
       "2023-08-10 23:45:00  1850.67  1851.03  1851.54  1850.67  1229.89       0   \n",
       "2023-08-10 23:50:00  1851.04  1850.37  1851.04  1850.10   212.13       0   \n",
       "\n",
       "                     tomorrow  \n",
       "time                           \n",
       "2020-04-09 00:00:00    171.93  \n",
       "2020-04-09 00:05:00    172.12  \n",
       "2020-04-09 00:10:00    172.02  \n",
       "2020-04-09 00:15:00    171.87  \n",
       "2020-04-09 00:20:00    171.88  \n",
       "...                       ...  \n",
       "2023-08-10 23:30:00   1850.13  \n",
       "2023-08-10 23:35:00   1850.67  \n",
       "2023-08-10 23:40:00   1851.03  \n",
       "2023-08-10 23:45:00   1850.37  \n",
       "2023-08-10 23:50:00       NaN  \n",
       "\n",
       "[351346 rows x 7 columns]"
      ]
     },
     "execution_count": 25,
     "metadata": {},
     "output_type": "execute_result"
    }
   ],
   "source": [
    "dataset_rf"
   ]
  },
  {
   "cell_type": "code",
   "execution_count": 26,
   "id": "fe68b52a",
   "metadata": {},
   "outputs": [],
   "source": [
    "randomForest_model=RandomForestClassifier(n_estimators=150, min_samples_split=100, random_state=1)"
   ]
  },
  {
   "cell_type": "code",
   "execution_count": 29,
   "id": "1cbd1b31",
   "metadata": {},
   "outputs": [],
   "source": [
    "trainset_rf=dataset_rf.iloc[:-100]\n",
    "testset_rf=dataset_rf.iloc[-100:]\n",
    "predictors=['close', 'open', 'low', 'high', 'volume']"
   ]
  },
  {
   "cell_type": "code",
   "execution_count": 30,
   "id": "07e07bae",
   "metadata": {},
   "outputs": [
    {
     "data": {
      "text/html": [
       "<style>#sk-container-id-1 {color: black;}#sk-container-id-1 pre{padding: 0;}#sk-container-id-1 div.sk-toggleable {background-color: white;}#sk-container-id-1 label.sk-toggleable__label {cursor: pointer;display: block;width: 100%;margin-bottom: 0;padding: 0.3em;box-sizing: border-box;text-align: center;}#sk-container-id-1 label.sk-toggleable__label-arrow:before {content: \"▸\";float: left;margin-right: 0.25em;color: #696969;}#sk-container-id-1 label.sk-toggleable__label-arrow:hover:before {color: black;}#sk-container-id-1 div.sk-estimator:hover label.sk-toggleable__label-arrow:before {color: black;}#sk-container-id-1 div.sk-toggleable__content {max-height: 0;max-width: 0;overflow: hidden;text-align: left;background-color: #f0f8ff;}#sk-container-id-1 div.sk-toggleable__content pre {margin: 0.2em;color: black;border-radius: 0.25em;background-color: #f0f8ff;}#sk-container-id-1 input.sk-toggleable__control:checked~div.sk-toggleable__content {max-height: 200px;max-width: 100%;overflow: auto;}#sk-container-id-1 input.sk-toggleable__control:checked~label.sk-toggleable__label-arrow:before {content: \"▾\";}#sk-container-id-1 div.sk-estimator input.sk-toggleable__control:checked~label.sk-toggleable__label {background-color: #d4ebff;}#sk-container-id-1 div.sk-label input.sk-toggleable__control:checked~label.sk-toggleable__label {background-color: #d4ebff;}#sk-container-id-1 input.sk-hidden--visually {border: 0;clip: rect(1px 1px 1px 1px);clip: rect(1px, 1px, 1px, 1px);height: 1px;margin: -1px;overflow: hidden;padding: 0;position: absolute;width: 1px;}#sk-container-id-1 div.sk-estimator {font-family: monospace;background-color: #f0f8ff;border: 1px dotted black;border-radius: 0.25em;box-sizing: border-box;margin-bottom: 0.5em;}#sk-container-id-1 div.sk-estimator:hover {background-color: #d4ebff;}#sk-container-id-1 div.sk-parallel-item::after {content: \"\";width: 100%;border-bottom: 1px solid gray;flex-grow: 1;}#sk-container-id-1 div.sk-label:hover label.sk-toggleable__label {background-color: #d4ebff;}#sk-container-id-1 div.sk-serial::before {content: \"\";position: absolute;border-left: 1px solid gray;box-sizing: border-box;top: 0;bottom: 0;left: 50%;z-index: 0;}#sk-container-id-1 div.sk-serial {display: flex;flex-direction: column;align-items: center;background-color: white;padding-right: 0.2em;padding-left: 0.2em;position: relative;}#sk-container-id-1 div.sk-item {position: relative;z-index: 1;}#sk-container-id-1 div.sk-parallel {display: flex;align-items: stretch;justify-content: center;background-color: white;position: relative;}#sk-container-id-1 div.sk-item::before, #sk-container-id-1 div.sk-parallel-item::before {content: \"\";position: absolute;border-left: 1px solid gray;box-sizing: border-box;top: 0;bottom: 0;left: 50%;z-index: -1;}#sk-container-id-1 div.sk-parallel-item {display: flex;flex-direction: column;z-index: 1;position: relative;background-color: white;}#sk-container-id-1 div.sk-parallel-item:first-child::after {align-self: flex-end;width: 50%;}#sk-container-id-1 div.sk-parallel-item:last-child::after {align-self: flex-start;width: 50%;}#sk-container-id-1 div.sk-parallel-item:only-child::after {width: 0;}#sk-container-id-1 div.sk-dashed-wrapped {border: 1px dashed gray;margin: 0 0.4em 0.5em 0.4em;box-sizing: border-box;padding-bottom: 0.4em;background-color: white;}#sk-container-id-1 div.sk-label label {font-family: monospace;font-weight: bold;display: inline-block;line-height: 1.2em;}#sk-container-id-1 div.sk-label-container {text-align: center;}#sk-container-id-1 div.sk-container {/* jupyter's `normalize.less` sets `[hidden] { display: none; }` but bootstrap.min.css set `[hidden] { display: none !important; }` so we also need the `!important` here to be able to override the default hidden behavior on the sphinx rendered scikit-learn.org. See: https://github.com/scikit-learn/scikit-learn/issues/21755 */display: inline-block !important;position: relative;}#sk-container-id-1 div.sk-text-repr-fallback {display: none;}</style><div id=\"sk-container-id-1\" class=\"sk-top-container\"><div class=\"sk-text-repr-fallback\"><pre>RandomForestClassifier(min_samples_split=100, n_estimators=150, random_state=1)</pre><b>In a Jupyter environment, please rerun this cell to show the HTML representation or trust the notebook. <br />On GitHub, the HTML representation is unable to render, please try loading this page with nbviewer.org.</b></div><div class=\"sk-container\" hidden><div class=\"sk-item\"><div class=\"sk-estimator sk-toggleable\"><input class=\"sk-toggleable__control sk-hidden--visually\" id=\"sk-estimator-id-1\" type=\"checkbox\" checked><label for=\"sk-estimator-id-1\" class=\"sk-toggleable__label sk-toggleable__label-arrow\">RandomForestClassifier</label><div class=\"sk-toggleable__content\"><pre>RandomForestClassifier(min_samples_split=100, n_estimators=150, random_state=1)</pre></div></div></div></div></div>"
      ],
      "text/plain": [
       "RandomForestClassifier(min_samples_split=100, n_estimators=150, random_state=1)"
      ]
     },
     "execution_count": 30,
     "metadata": {},
     "output_type": "execute_result"
    }
   ],
   "source": [
    "randomForest_model.fit(trainset_rf[predictors], trainset_rf['target'])"
   ]
  },
  {
   "cell_type": "code",
   "execution_count": 31,
   "id": "f7419ce2",
   "metadata": {},
   "outputs": [],
   "source": [
    "predictions=randomForest_model.predict(testset_rf[predictors])\n",
    "predictions=pd.Series(predictions, index=testset_rf.index)"
   ]
  },
  {
   "cell_type": "code",
   "execution_count": 32,
   "id": "a9791400",
   "metadata": {},
   "outputs": [
    {
     "data": {
      "text/plain": [
       "0.47761194029850745"
      ]
     },
     "execution_count": 32,
     "metadata": {},
     "output_type": "execute_result"
    }
   ],
   "source": [
    "precision_score(testset_rf['target'], predictions)"
   ]
  },
  {
   "cell_type": "code",
   "execution_count": 33,
   "id": "4badaf7d",
   "metadata": {},
   "outputs": [],
   "source": [
    "results_rf=pd.concat([testset_rf['target'], predictions], axis=1)"
   ]
  },
  {
   "cell_type": "code",
   "execution_count": 34,
   "id": "d27e6a0a",
   "metadata": {},
   "outputs": [
    {
     "data": {
      "image/png": "[encoded data removed]",
      "text/plain": [
       "<Figure size 640x480 with 1 Axes>"
      ]
     },
     "metadata": {},
     "output_type": "display_data"
    }
   ],
   "source": [
    "plt.plot(range(0,100) ,results_rf)\n",
    "plt.show()"
   ]
  },
  {
   "cell_type": "code",
   "execution_count": 35,
   "id": "e5a7155d",
   "metadata": {},
   "outputs": [],
   "source": [
    "def predict(train, test, predictors, model):\n",
    "    model.fit(train[predictors], train['target'])\n",
    "    preds=model.predict(test[predictors])\n",
    "    preds=pd.Series(preds, index=test.index, name=\"Predictions\")\n",
    "    combined=pd.concat([test['target'], preds], axis=1)\n",
    "    return combined"
   ]
  },
  {
   "cell_type": "code",
   "execution_count": 36,
   "id": "d2406d21",
   "metadata": {},
   "outputs": [],
   "source": [
    "def backtest(data, model, predictors, start=2500, step=250):\n",
    "    all_predictions=[]\n",
    "    \n",
    "    for i in range(start, data.shape[0], step):\n",
    "        train=data.iloc[0:i].copy()\n",
    "        test=data.iloc[i:(i+step)].copy()\n",
    "        predictions=predict(train, test, predictors, model)\n",
    "        all_predictions.append(predictions)\n",
    "    return pd.concat(all_predictions)"
   ]
  },
  {
   "cell_type": "code",
   "execution_count": null,
   "id": "0b8e61f2",
   "metadata": {},
   "outputs": [],
   "source": []
  }
 ],
 "metadata": {
  "kernelspec": {
   "display_name": "Python 3 (ipykernel)",
   "language": "python",
   "name": "python3"
  },
  "language_info": {
   "codemirror_mode": {
    "name": "ipython",
    "version": 3
   },
   "file_extension": ".py",
   "mimetype": "text/x-python",
   "name": "python",
   "nbconvert_exporter": "python",
   "pygments_lexer": "ipython3",
   "version": "3.10.9"
  }
 },
 "nbformat": 4,
 "nbformat_minor": 5
}
