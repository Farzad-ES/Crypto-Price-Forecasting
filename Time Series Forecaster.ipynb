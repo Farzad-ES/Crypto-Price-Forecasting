{
 "cells": [
  {
   "cell_type": "code",
   "execution_count": 1,
   "id": "68d39f4a",
   "metadata": {},
   "outputs": [],
   "source": [
    "import numpy as np\n",
    "import pandas as pd\n",
    "import matplotlib.pyplot as plt\n",
    "import sklearn\n",
    "import tensorflow as tf\n",
    "from sklearn import preprocessing\n",
    "from sklearn import model_selection\n",
    "from scikeras.wrappers import KerasRegressor\n",
    "from Data_mining import data_mining"
   ]
  },
  {
   "cell_type": "code",
   "execution_count": 2,
   "id": "efb3a6e5",
   "metadata": {},
   "outputs": [],
   "source": [
    "#Data mining process\n",
    "#df=data_mining(\"ETH-USDT\", \"5m\", \"2021/01/01\", \"2023/08/08\")\n",
    "#df.to_csv(\"ETH-USDT_5m.csv\")\n",
    "#df"
   ]
  },
  {
   "cell_type": "code",
   "execution_count": 3,
   "id": "295f5dd0",
   "metadata": {},
   "outputs": [
    {
     "data": {
      "text/html": [
       "<div>\n",
       "<style scoped>\n",
       "    .dataframe tbody tr th:only-of-type {\n",
       "        vertical-align: middle;\n",
       "    }\n",
       "\n",
       "    .dataframe tbody tr th {\n",
       "        vertical-align: top;\n",
       "    }\n",
       "\n",
       "    .dataframe thead th {\n",
       "        text-align: right;\n",
       "    }\n",
       "</style>\n",
       "<table border=\"1\" class=\"dataframe\">\n",
       "  <thead>\n",
       "    <tr style=\"text-align: right;\">\n",
       "      <th></th>\n",
       "      <th>open</th>\n",
       "      <th>close</th>\n",
       "      <th>high</th>\n",
       "      <th>low</th>\n",
       "      <th>volume</th>\n",
       "    </tr>\n",
       "    <tr>\n",
       "      <th>time</th>\n",
       "      <th></th>\n",
       "      <th></th>\n",
       "      <th></th>\n",
       "      <th></th>\n",
       "      <th></th>\n",
       "    </tr>\n",
       "  </thead>\n",
       "  <tbody>\n",
       "    <tr>\n",
       "      <th>2021-01-01 00:00:00</th>\n",
       "      <td>738.52</td>\n",
       "      <td>739.09</td>\n",
       "      <td>739.09</td>\n",
       "      <td>737.71</td>\n",
       "      <td>9102.55</td>\n",
       "    </tr>\n",
       "    <tr>\n",
       "      <th>2021-01-01 00:05:00</th>\n",
       "      <td>739.09</td>\n",
       "      <td>739.65</td>\n",
       "      <td>740.49</td>\n",
       "      <td>738.83</td>\n",
       "      <td>9580.63</td>\n",
       "    </tr>\n",
       "    <tr>\n",
       "      <th>2021-01-01 00:10:00</th>\n",
       "      <td>739.65</td>\n",
       "      <td>739.18</td>\n",
       "      <td>740.11</td>\n",
       "      <td>738.98</td>\n",
       "      <td>8915.66</td>\n",
       "    </tr>\n",
       "    <tr>\n",
       "      <th>2021-01-01 00:15:00</th>\n",
       "      <td>739.18</td>\n",
       "      <td>739.07</td>\n",
       "      <td>739.87</td>\n",
       "      <td>738.75</td>\n",
       "      <td>8787.57</td>\n",
       "    </tr>\n",
       "    <tr>\n",
       "      <th>2021-01-01 00:20:00</th>\n",
       "      <td>739.10</td>\n",
       "      <td>741.32</td>\n",
       "      <td>741.51</td>\n",
       "      <td>738.94</td>\n",
       "      <td>9586.71</td>\n",
       "    </tr>\n",
       "    <tr>\n",
       "      <th>...</th>\n",
       "      <td>...</td>\n",
       "      <td>...</td>\n",
       "      <td>...</td>\n",
       "      <td>...</td>\n",
       "      <td>...</td>\n",
       "    </tr>\n",
       "    <tr>\n",
       "      <th>2023-08-03 23:35:00</th>\n",
       "      <td>1848.18</td>\n",
       "      <td>1847.14</td>\n",
       "      <td>1848.18</td>\n",
       "      <td>1846.79</td>\n",
       "      <td>996.34</td>\n",
       "    </tr>\n",
       "    <tr>\n",
       "      <th>2023-08-03 23:40:00</th>\n",
       "      <td>1847.14</td>\n",
       "      <td>1848.78</td>\n",
       "      <td>1849.06</td>\n",
       "      <td>1846.67</td>\n",
       "      <td>1199.76</td>\n",
       "    </tr>\n",
       "    <tr>\n",
       "      <th>2023-08-03 23:45:00</th>\n",
       "      <td>1848.78</td>\n",
       "      <td>1849.41</td>\n",
       "      <td>1849.41</td>\n",
       "      <td>1848.26</td>\n",
       "      <td>937.50</td>\n",
       "    </tr>\n",
       "    <tr>\n",
       "      <th>2023-08-03 23:50:00</th>\n",
       "      <td>1849.41</td>\n",
       "      <td>1850.82</td>\n",
       "      <td>1850.82</td>\n",
       "      <td>1849.40</td>\n",
       "      <td>1511.37</td>\n",
       "    </tr>\n",
       "    <tr>\n",
       "      <th>2023-08-03 23:55:00</th>\n",
       "      <td>1850.82</td>\n",
       "      <td>1851.85</td>\n",
       "      <td>1852.29</td>\n",
       "      <td>1850.82</td>\n",
       "      <td>1433.41</td>\n",
       "    </tr>\n",
       "  </tbody>\n",
       "</table>\n",
       "<p>272443 rows × 5 columns</p>\n",
       "</div>"
      ],
      "text/plain": [
       "                        open    close     high      low   volume\n",
       "time                                                            \n",
       "2021-01-01 00:00:00   738.52   739.09   739.09   737.71  9102.55\n",
       "2021-01-01 00:05:00   739.09   739.65   740.49   738.83  9580.63\n",
       "2021-01-01 00:10:00   739.65   739.18   740.11   738.98  8915.66\n",
       "2021-01-01 00:15:00   739.18   739.07   739.87   738.75  8787.57\n",
       "2021-01-01 00:20:00   739.10   741.32   741.51   738.94  9586.71\n",
       "...                      ...      ...      ...      ...      ...\n",
       "2023-08-03 23:35:00  1848.18  1847.14  1848.18  1846.79   996.34\n",
       "2023-08-03 23:40:00  1847.14  1848.78  1849.06  1846.67  1199.76\n",
       "2023-08-03 23:45:00  1848.78  1849.41  1849.41  1848.26   937.50\n",
       "2023-08-03 23:50:00  1849.41  1850.82  1850.82  1849.40  1511.37\n",
       "2023-08-03 23:55:00  1850.82  1851.85  1852.29  1850.82  1433.41\n",
       "\n",
       "[272443 rows x 5 columns]"
      ]
     },
     "execution_count": 3,
     "metadata": {},
     "output_type": "execute_result"
    }
   ],
   "source": [
    "df=pd.read_csv('./ETH-USDT_5m.csv')\n",
    "df=df.set_index(['time'])\n",
    "df"
   ]
  },
  {
   "cell_type": "code",
   "execution_count": 4,
   "id": "c9987a2d",
   "metadata": {},
   "outputs": [
    {
     "data": {
      "text/plain": [
       "DatetimeIndex([], dtype='datetime64[ns]', freq=None)"
      ]
     },
     "execution_count": 4,
     "metadata": {},
     "output_type": "execute_result"
    }
   ],
   "source": [
    "pd.date_range(start='2021-01-01 00:00:00', end='2023-08-03 23:55:00').difference(df.index)"
   ]
  },
  {
   "cell_type": "code",
   "execution_count": 5,
   "id": "4a67d572",
   "metadata": {},
   "outputs": [
    {
     "data": {
      "image/png": "[encoded data removed]",
      "text/plain": [
       "<Figure size 1000x1000 with 1 Axes>"
      ]
     },
     "metadata": {},
     "output_type": "display_data"
    }
   ],
   "source": [
    "plt.figure(figsize=(10,10))\n",
    "plt.title(\"Closing Price vs Date\")\n",
    "plt.plot(df['close'][0:10000])\n",
    "plt.show()"
   ]
  },
  {
   "cell_type": "code",
   "execution_count": 6,
   "id": "3910edda-337a-4f16-a0e5-b74efc422738",
   "metadata": {},
   "outputs": [
    {
     "data": {
      "text/plain": [
       "(272443, 5)"
      ]
     },
     "execution_count": 6,
     "metadata": {},
     "output_type": "execute_result"
    }
   ],
   "source": [
    "dataset=df.iloc[:, 0:df.shape[1]].values\n",
    "dataset.shape"
   ]
  },
  {
   "cell_type": "code",
   "execution_count": 7,
   "id": "032df548",
   "metadata": {},
   "outputs": [],
   "source": [
    "scaler=preprocessing.MinMaxScaler(feature_range=(0, 1))\n",
    "dataset_scaled=scaler.fit_transform(dataset)"
   ]
  },
  {
   "cell_type": "code",
   "execution_count": 8,
   "id": "7d09f009",
   "metadata": {},
   "outputs": [
    {
     "data": {
      "text/plain": [
       "(272443, 5)"
      ]
     },
     "execution_count": 8,
     "metadata": {},
     "output_type": "execute_result"
    }
   ],
   "source": [
    "dataset_scaled.shape"
   ]
  },
  {
   "cell_type": "code",
   "execution_count": 9,
   "id": "503f453c",
   "metadata": {},
   "outputs": [
    {
     "data": {
      "text/plain": [
       "array([[0.00551431, 0.00574165, 0.0046863 , 0.00553717, 0.01496905],\n",
       "       [0.00565175, 0.00587669, 0.00502396, 0.0058081 , 0.01575525],\n",
       "       [0.00578677, 0.00576336, 0.00493231, 0.00584439, 0.01466171],\n",
       "       ...,\n",
       "       [0.2732152 , 0.27348929, 0.27248301, 0.27418309, 0.00154171],\n",
       "       [0.27336711, 0.2738293 , 0.27282309, 0.27445886, 0.00248543],\n",
       "       [0.27370708, 0.27407768, 0.27317764, 0.27480236, 0.00235723]])"
      ]
     },
     "execution_count": 9,
     "metadata": {},
     "output_type": "execute_result"
    }
   ],
   "source": [
    "dataset_scaled"
   ]
  },
  {
   "cell_type": "code",
   "execution_count": 10,
   "id": "17589a7c",
   "metadata": {},
   "outputs": [
    {
     "data": {
      "text/plain": [
       "(266994, 5)"
      ]
     },
     "execution_count": 10,
     "metadata": {},
     "output_type": "execute_result"
    }
   ],
   "source": [
    "training_set, test_and_validation_set=model_selection.train_test_split(dataset_scaled, test_size=0.02, shuffle=False)\n",
    "training_set.shape"
   ]
  },
  {
   "cell_type": "code",
   "execution_count": 11,
   "id": "674c2f9d",
   "metadata": {},
   "outputs": [
    {
     "data": {
      "text/plain": [
       "(5449, 5)"
      ]
     },
     "execution_count": 11,
     "metadata": {},
     "output_type": "execute_result"
    }
   ],
   "source": [
    "test_and_validation_set.shape"
   ]
  },
  {
   "cell_type": "code",
   "execution_count": 12,
   "id": "dfc99c20",
   "metadata": {},
   "outputs": [
    {
     "name": "stdout",
     "output_type": "stream",
     "text": [
      "(2724, 5)\n",
      "(2725, 5)\n"
     ]
    }
   ],
   "source": [
    "validation_set, test_set=model_selection.train_test_split(test_and_validation_set, test_size=0.5, shuffle=False)\n",
    "print(validation_set.shape)\n",
    "print(test_set.shape)"
   ]
  },
  {
   "cell_type": "code",
   "execution_count": 13,
   "id": "5045fb10",
   "metadata": {},
   "outputs": [],
   "source": [
    "X_train=[]\n",
    "y_train=[]\n",
    "for i in range(12, len(training_set)):\n",
    "    X_train.append(training_set[i-12:i, :])\n",
    "    y_train.append(training_set[i, 1])\n",
    "X_train, y_train=np.array(X_train), np.array(y_train)"
   ]
  },
  {
   "cell_type": "code",
   "execution_count": 14,
   "id": "2e6e014d",
   "metadata": {},
   "outputs": [
    {
     "data": {
      "text/plain": [
       "(266982, 12, 5)"
      ]
     },
     "execution_count": 14,
     "metadata": {},
     "output_type": "execute_result"
    }
   ],
   "source": [
    "X_train=np.reshape(X_train, newshape=(X_train.shape[0], X_train.shape[1], df.shape[1]))\n",
    "X_train.shape"
   ]
  },
  {
   "cell_type": "code",
   "execution_count": 15,
   "id": "2bcc2bfe",
   "metadata": {},
   "outputs": [
    {
     "data": {
      "text/plain": [
       "(266982,)"
      ]
     },
     "execution_count": 15,
     "metadata": {},
     "output_type": "execute_result"
    }
   ],
   "source": [
    "y_train.shape"
   ]
  },
  {
   "cell_type": "code",
   "execution_count": 16,
   "id": "457b5501",
   "metadata": {},
   "outputs": [
    {
     "data": {
      "text/plain": [
       "(2712, 12, 5)"
      ]
     },
     "execution_count": 16,
     "metadata": {},
     "output_type": "execute_result"
    }
   ],
   "source": [
    "X_validation=[]\n",
    "y_validation=[]\n",
    "for i in range(12, len(validation_set)):\n",
    "    X_validation.append(validation_set[i-12:i, :])\n",
    "    y_validation.append(validation_set[i, 1])\n",
    "X_validation, y_validation=np.array(X_validation), np.array(y_validation)\n",
    "X_validation=np.reshape(X_validation, newshape=(X_validation.shape[0], X_validation.shape[1], df.shape[1]))\n",
    "X_validation.shape"
   ]
  },
  {
   "cell_type": "code",
   "execution_count": 17,
   "id": "6199af92",
   "metadata": {},
   "outputs": [
    {
     "data": {
      "text/plain": [
       "(2712,)"
      ]
     },
     "execution_count": 17,
     "metadata": {},
     "output_type": "execute_result"
    }
   ],
   "source": [
    "y_validation.shape"
   ]
  },
  {
   "cell_type": "code",
   "execution_count": 18,
   "id": "2daff84e",
   "metadata": {},
   "outputs": [],
   "source": [
    "lstm_model=tf.keras.Sequential()\n",
    "lstm_model.add(tf.keras.layers.LSTM(units=50, return_sequences=True, input_shape=(X_train.shape[1], X_train.shape[2])))\n",
    "lstm_model.add(tf.keras.layers.Dropout(rate=0.1))\n",
    "lstm_model.add(tf.keras.layers.LSTM(units=50, return_sequences=True))\n",
    "lstm_model.add(tf.keras.layers.Dropout(rate=0.1))\n",
    "lstm_model.add(tf.keras.layers.LSTM(units=50, return_sequences=True))\n",
    "lstm_model.add(tf.keras.layers.Dropout(rate=0.1))\n",
    "lstm_model.add(tf.keras.layers.LSTM(units=50, return_sequences=True))\n",
    "lstm_model.add(tf.keras.layers.Dropout(rate=0.1))\n",
    "lstm_model.add(tf.keras.layers.LSTM(units=50, return_sequences=True))\n",
    "lstm_model.add(tf.keras.layers.Dropout(rate=0.1))\n",
    "lstm_model.add(tf.keras.layers.LSTM(units=50, return_sequences=False))\n",
    "lstm_model.add(tf.keras.layers.Dropout(rate=0.1))\n",
    "lstm_model.add(tf.keras.layers.Dense(units=1))"
   ]
  },
  {
   "cell_type": "code",
   "execution_count": 19,
   "id": "31eb4d47",
   "metadata": {},
   "outputs": [],
   "source": [
    "lstm_model.compile(optimizer=\"RMSprop\", loss=\"mean_squared_error\")"
   ]
  },
  {
   "cell_type": "code",
   "execution_count": 21,
   "id": "98733874",
   "metadata": {},
   "outputs": [
    {
     "name": "stdout",
     "output_type": "stream",
     "text": [
      "Model: \"sequential\"\n",
      "_________________________________________________________________\n",
      " Layer (type)                Output Shape              Param #   \n",
      "=================================================================\n",
      " lstm (LSTM)                 (None, 12, 50)            11200     \n",
      "                                                                 \n",
      " dropout (Dropout)           (None, 12, 50)            0         \n",
      "                                                                 \n",
      " lstm_1 (LSTM)               (None, 12, 50)            20200     \n",
      "                                                                 \n",
      " dropout_1 (Dropout)         (None, 12, 50)            0         \n",
      "                                                                 \n",
      " lstm_2 (LSTM)               (None, 12, 50)            20200     \n",
      "                                                                 \n",
      " dropout_2 (Dropout)         (None, 12, 50)            0         \n",
      "                                                                 \n",
      " lstm_3 (LSTM)               (None, 12, 50)            20200     \n",
      "                                                                 \n",
      " dropout_3 (Dropout)         (None, 12, 50)            0         \n",
      "                                                                 \n",
      " lstm_4 (LSTM)               (None, 12, 50)            20200     \n",
      "                                                                 \n",
      " dropout_4 (Dropout)         (None, 12, 50)            0         \n",
      "                                                                 \n",
      " lstm_5 (LSTM)               (None, 50)                20200     \n",
      "                                                                 \n",
      " dropout_5 (Dropout)         (None, 50)                0         \n",
      "                                                                 \n",
      " dense (Dense)               (None, 1)                 51        \n",
      "                                                                 \n",
      "=================================================================\n",
      "Total params: 112,251\n",
      "Trainable params: 112,251\n",
      "Non-trainable params: 0\n",
      "_________________________________________________________________\n"
     ]
    }
   ],
   "source": [
    "lstm_model.summary()"
   ]
  },
  {
   "cell_type": "code",
   "execution_count": 22,
   "id": "4baa8a79",
   "metadata": {},
   "outputs": [
    {
     "name": "stdout",
     "output_type": "stream",
     "text": [
      "Epoch 1/100\n",
      "8344/8344 [==============================] - 221s 26ms/step - loss: 0.0011\n",
      "Epoch 2/100\n",
      "8344/8344 [==============================] - 215s 26ms/step - loss: 3.3396e-04\n",
      "Epoch 3/100\n",
      "8344/8344 [==============================] - 215s 26ms/step - loss: 2.6072e-04\n",
      "Epoch 4/100\n",
      "8344/8344 [==============================] - 215s 26ms/step - loss: 2.2859e-04\n",
      "Epoch 5/100\n",
      "8344/8344 [==============================] - 220s 26ms/step - loss: 2.1308e-04\n",
      "Epoch 6/100\n",
      "8344/8344 [==============================] - 223s 27ms/step - loss: 2.0088e-04\n",
      "Epoch 7/100\n",
      "8344/8344 [==============================] - 218s 26ms/step - loss: 1.9342e-04\n",
      "Epoch 8/100\n",
      "8344/8344 [==============================] - 218s 26ms/step - loss: 1.8690e-04\n",
      "Epoch 9/100\n",
      "8344/8344 [==============================] - 216s 26ms/step - loss: 1.8092e-04\n",
      "Epoch 10/100\n",
      "8344/8344 [==============================] - 216s 26ms/step - loss: 1.7665e-04\n",
      "Epoch 11/100\n",
      "8344/8344 [==============================] - 224s 27ms/step - loss: 1.7353e-04\n",
      "Epoch 12/100\n",
      "8344/8344 [==============================] - 224s 27ms/step - loss: 1.7017e-04\n",
      "Epoch 13/100\n",
      "8344/8344 [==============================] - 225s 27ms/step - loss: 1.6828e-04\n",
      "Epoch 14/100\n",
      "8344/8344 [==============================] - 225s 27ms/step - loss: 1.6469e-04\n",
      "Epoch 15/100\n",
      "8344/8344 [==============================] - 222s 27ms/step - loss: 1.6225e-04\n",
      "Epoch 16/100\n",
      "8344/8344 [==============================] - 216s 26ms/step - loss: 1.6143e-04\n",
      "Epoch 17/100\n",
      "8344/8344 [==============================] - 217s 26ms/step - loss: 1.5924e-04\n",
      "Epoch 18/100\n",
      "8344/8344 [==============================] - 218s 26ms/step - loss: 1.5737e-04\n",
      "Epoch 19/100\n",
      "8344/8344 [==============================] - 218s 26ms/step - loss: 1.5620e-04\n",
      "Epoch 20/100\n",
      "8344/8344 [==============================] - 222s 27ms/step - loss: 1.5455e-04\n",
      "Epoch 21/100\n",
      "8344/8344 [==============================] - 222s 27ms/step - loss: 1.5400e-04\n",
      "Epoch 22/100\n",
      "8344/8344 [==============================] - 224s 27ms/step - loss: 1.5346e-04\n",
      "Epoch 23/100\n",
      "8344/8344 [==============================] - 226s 27ms/step - loss: 1.5162e-04\n",
      "Epoch 24/100\n",
      "8344/8344 [==============================] - 223s 27ms/step - loss: 1.5097e-04\n",
      "Epoch 25/100\n",
      "8344/8344 [==============================] - 224s 27ms/step - loss: 1.4950e-04\n",
      "Epoch 26/100\n",
      "8344/8344 [==============================] - 224s 27ms/step - loss: 1.4929e-04\n",
      "Epoch 27/100\n",
      "8344/8344 [==============================] - 218s 26ms/step - loss: 1.5007e-04\n",
      "Epoch 28/100\n",
      "8344/8344 [==============================] - 217s 26ms/step - loss: 1.4955e-04\n",
      "Epoch 29/100\n",
      "8344/8344 [==============================] - 222s 27ms/step - loss: 1.4817e-04\n",
      "Epoch 30/100\n",
      "8344/8344 [==============================] - 222s 27ms/step - loss: 1.4686e-04\n",
      "Epoch 31/100\n",
      "8344/8344 [==============================] - 216s 26ms/step - loss: 1.4599e-04\n",
      "Epoch 32/100\n",
      "8344/8344 [==============================] - 213s 26ms/step - loss: 1.4444e-04\n",
      "Epoch 33/100\n",
      "8344/8344 [==============================] - 217s 26ms/step - loss: 1.4405e-04\n",
      "Epoch 34/100\n",
      "8344/8344 [==============================] - 216s 26ms/step - loss: 1.4461e-04\n",
      "Epoch 35/100\n",
      "8344/8344 [==============================] - 214s 26ms/step - loss: 1.4435e-04\n",
      "Epoch 36/100\n",
      "8344/8344 [==============================] - 216s 26ms/step - loss: 1.4325e-04\n",
      "Epoch 37/100\n",
      "8344/8344 [==============================] - 217s 26ms/step - loss: 1.4231e-04\n",
      "Epoch 38/100\n",
      "8344/8344 [==============================] - 221s 26ms/step - loss: 1.4241e-04\n",
      "Epoch 39/100\n",
      "8344/8344 [==============================] - 216s 26ms/step - loss: 1.4239e-04\n",
      "Epoch 40/100\n",
      "8344/8344 [==============================] - 215s 26ms/step - loss: 1.4188e-04\n",
      "Epoch 41/100\n",
      "8344/8344 [==============================] - 218s 26ms/step - loss: 1.4175e-04\n",
      "Epoch 42/100\n",
      "8344/8344 [==============================] - 219s 26ms/step - loss: 1.4140e-04\n",
      "Epoch 43/100\n",
      "8344/8344 [==============================] - 220s 26ms/step - loss: 1.4081e-04\n",
      "Epoch 44/100\n",
      "8344/8344 [==============================] - 223s 27ms/step - loss: 1.3978e-04\n",
      "Epoch 45/100\n",
      "8344/8344 [==============================] - 217s 26ms/step - loss: 1.3968e-04\n",
      "Epoch 46/100\n",
      "8344/8344 [==============================] - 216s 26ms/step - loss: 1.3885e-04\n",
      "Epoch 47/100\n",
      "8344/8344 [==============================] - 217s 26ms/step - loss: 1.3882e-04\n",
      "Epoch 48/100\n",
      "8344/8344 [==============================] - 217s 26ms/step - loss: 1.3860e-04\n",
      "Epoch 49/100\n",
      "8344/8344 [==============================] - 215s 26ms/step - loss: 1.3907e-04\n",
      "Epoch 50/100\n",
      "8344/8344 [==============================] - 216s 26ms/step - loss: 1.3743e-04\n",
      "Epoch 51/100\n",
      "8344/8344 [==============================] - 213s 26ms/step - loss: 1.3850e-04\n",
      "Epoch 52/100\n",
      "8344/8344 [==============================] - 213s 25ms/step - loss: 1.3745e-04\n",
      "Epoch 53/100\n",
      "8344/8344 [==============================] - 215s 26ms/step - loss: 1.3737e-04\n",
      "Epoch 54/100\n",
      "8344/8344 [==============================] - 214s 26ms/step - loss: 1.3784e-04\n",
      "Epoch 55/100\n",
      "8344/8344 [==============================] - 215s 26ms/step - loss: 1.3673e-04\n",
      "Epoch 56/100\n",
      "8344/8344 [==============================] - 217s 26ms/step - loss: 1.3914e-04\n",
      "Epoch 57/100\n",
      "8344/8344 [==============================] - 218s 26ms/step - loss: 1.3771e-04\n",
      "Epoch 58/100\n",
      "8344/8344 [==============================] - 219s 26ms/step - loss: 1.3666e-04\n",
      "Epoch 59/100\n",
      "8344/8344 [==============================] - 215s 26ms/step - loss: 1.3599e-04\n",
      "Epoch 60/100\n",
      "8344/8344 [==============================] - 216s 26ms/step - loss: 1.3459e-04\n",
      "Epoch 61/100\n",
      "8344/8344 [==============================] - 215s 26ms/step - loss: 1.3532e-04\n",
      "Epoch 62/100\n",
      "8344/8344 [==============================] - 218s 26ms/step - loss: 1.3452e-04\n",
      "Epoch 63/100\n",
      "8344/8344 [==============================] - 216s 26ms/step - loss: 1.3574e-04\n",
      "Epoch 64/100\n",
      "8344/8344 [==============================] - 224s 27ms/step - loss: 1.3560e-04\n",
      "Epoch 65/100\n",
      "8344/8344 [==============================] - 225s 27ms/step - loss: 1.3468e-04\n",
      "Epoch 66/100\n",
      "8344/8344 [==============================] - 224s 27ms/step - loss: 1.3350e-04\n",
      "Epoch 67/100\n",
      "8344/8344 [==============================] - 224s 27ms/step - loss: 1.3421e-04\n",
      "Epoch 68/100\n",
      "8344/8344 [==============================] - 226s 27ms/step - loss: 1.3493e-04\n",
      "Epoch 69/100\n",
      "8344/8344 [==============================] - 221s 27ms/step - loss: 1.3423e-04\n",
      "Epoch 70/100\n",
      "8344/8344 [==============================] - 219s 26ms/step - loss: 1.3437e-04\n",
      "Epoch 71/100\n",
      "8344/8344 [==============================] - 218s 26ms/step - loss: 1.3335e-04\n",
      "Epoch 72/100\n",
      "8344/8344 [==============================] - 218s 26ms/step - loss: 1.3226e-04\n",
      "Epoch 73/100\n",
      "8344/8344 [==============================] - 218s 26ms/step - loss: 1.3251e-04\n",
      "Epoch 74/100\n",
      "8344/8344 [==============================] - 219s 26ms/step - loss: 1.3307e-04\n",
      "Epoch 75/100\n",
      "8344/8344 [==============================] - 219s 26ms/step - loss: 1.3298e-04\n",
      "Epoch 76/100\n",
      "8344/8344 [==============================] - 216s 26ms/step - loss: 1.3306e-04\n",
      "Epoch 77/100\n",
      "8344/8344 [==============================] - 221s 26ms/step - loss: 1.3298e-04\n",
      "Epoch 78/100\n",
      "8344/8344 [==============================] - 216s 26ms/step - loss: 1.3332e-04\n",
      "Epoch 79/100\n",
      "8344/8344 [==============================] - 214s 26ms/step - loss: 1.3268e-04\n",
      "Epoch 80/100\n",
      "8344/8344 [==============================] - 214s 26ms/step - loss: 1.3423e-04\n",
      "Epoch 81/100\n",
      "8344/8344 [==============================] - 215s 26ms/step - loss: 1.3237e-04\n",
      "Epoch 82/100\n",
      "8344/8344 [==============================] - 217s 26ms/step - loss: 1.3229e-04\n",
      "Epoch 83/100\n",
      "8344/8344 [==============================] - 218s 26ms/step - loss: 1.3190e-04\n",
      "Epoch 84/100\n",
      "8344/8344 [==============================] - 218s 26ms/step - loss: 1.3209e-04\n",
      "Epoch 85/100\n",
      "8344/8344 [==============================] - 217s 26ms/step - loss: 1.3227e-04\n",
      "Epoch 86/100\n",
      "8344/8344 [==============================] - 217s 26ms/step - loss: 1.3212e-04\n",
      "Epoch 87/100\n",
      "8344/8344 [==============================] - 217s 26ms/step - loss: 1.3167e-04\n",
      "Epoch 88/100\n",
      "8344/8344 [==============================] - 213s 26ms/step - loss: 1.3091e-04\n",
      "Epoch 89/100\n",
      "8344/8344 [==============================] - 215s 26ms/step - loss: 1.3019e-04\n",
      "Epoch 90/100\n"
     ]
    },
    {
     "name": "stdout",
     "output_type": "stream",
     "text": [
      "8344/8344 [==============================] - 216s 26ms/step - loss: 1.3146e-04\n",
      "Epoch 91/100\n",
      "8344/8344 [==============================] - 216s 26ms/step - loss: 1.3135e-04\n",
      "Epoch 92/100\n",
      "8344/8344 [==============================] - 215s 26ms/step - loss: 1.3325e-04\n",
      "Epoch 93/100\n",
      "8344/8344 [==============================] - 213s 25ms/step - loss: 1.3030e-04\n",
      "Epoch 94/100\n",
      "8344/8344 [==============================] - 213s 26ms/step - loss: 1.3064e-04\n",
      "Epoch 95/100\n",
      "8344/8344 [==============================] - 214s 26ms/step - loss: 1.2933e-04\n",
      "Epoch 96/100\n",
      "8344/8344 [==============================] - 215s 26ms/step - loss: 1.3097e-04\n",
      "Epoch 97/100\n",
      "8344/8344 [==============================] - 213s 26ms/step - loss: 1.2965e-04\n",
      "Epoch 98/100\n",
      "8344/8344 [==============================] - 212s 25ms/step - loss: 1.2998e-04\n",
      "Epoch 99/100\n",
      "8344/8344 [==============================] - 215s 26ms/step - loss: 1.2958e-04\n",
      "Epoch 100/100\n",
      "8344/8344 [==============================] - 217s 26ms/step - loss: 1.3065e-04\n"
     ]
    }
   ],
   "source": [
    "lstm_history=lstm_model.fit(X_train, y_train, batch_size=32, epochs=100)"
   ]
  },
  {
   "cell_type": "code",
   "execution_count": 41,
   "id": "39fe576b",
   "metadata": {},
   "outputs": [],
   "source": [
    "training_loss_values=np.array(lstm_history.history['loss'])"
   ]
  },
  {
   "cell_type": "code",
   "execution_count": 42,
   "id": "9f30c9a4",
   "metadata": {},
   "outputs": [
    {
     "data": {
      "image/png": "[encoded data removed]",
      "text/plain": [
       "<Figure size 800x800 with 1 Axes>"
      ]
     },
     "metadata": {},
     "output_type": "display_data"
    }
   ],
   "source": [
    "plt.figure(figsize=(8,8))\n",
    "plt.plot(lstm_history.history['loss'])\n",
    "plt.xlabel('Epochs')\n",
    "plt.ylabel('Loss')\n",
    "plt.show()"
   ]
  },
  {
   "cell_type": "code",
   "execution_count": 46,
   "id": "da0fd714",
   "metadata": {},
   "outputs": [],
   "source": [
    "lstm_model.save('./LSTM Model/LSTM_model.h5')\n",
    "lstm_model.save_weights('./LSTM Model/LSTM_model_weights')\n",
    "np.savetxt('./LSTM Model/TrainingLossValues.txt', training_loss_values)"
   ]
  },
  {
   "cell_type": "code",
   "execution_count": null,
   "id": "ea2bceb0",
   "metadata": {},
   "outputs": [],
   "source": []
  }
 ],
 "metadata": {
  "kernelspec": {
   "display_name": "Python 3 (ipykernel)",
   "language": "python",
   "name": "python3"
  },
  "language_info": {
   "codemirror_mode": {
    "name": "ipython",
    "version": 3
   },
   "file_extension": ".py",
   "mimetype": "text/x-python",
   "name": "python",
   "nbconvert_exporter": "python",
   "pygments_lexer": "ipython3",
   "version": "3.10.9"
  }
 },
 "nbformat": 4,
 "nbformat_minor": 5
}
